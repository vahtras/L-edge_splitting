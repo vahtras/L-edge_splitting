{
 "metadata": {
  "name": ""
 },
 "nbformat": 3,
 "nbformat_minor": 0,
 "worksheets": [
  {
   "cells": [
    {
     "cell_type": "code",
     "collapsed": false,
     "input": [
      "import sys\n",
      "import numpy\n",
      "\n",
      "sys.path.append('/home/olav/dev/py')"
     ],
     "language": "python",
     "metadata": {},
     "outputs": [],
     "prompt_number": 1
    },
    {
     "cell_type": "markdown",
     "metadata": {},
     "source": [
      "**One-electron**\n",
      "\n",
      "We need to evaluate $\\langle p_{i\\beta}| l^z s^z | p_{j\\beta}\\rangle \n",
      "=  \\langle a_{i\\beta}^\\dagger l^z_{pq} s^z_{pq} a_{j\\beta}\\rangle\n",
      "=  -\\langle  {l_z}_{ji} (-1/2) \\rangle \n",
      "=  \\frac 1 2 l^z_{ji}$\n"
     ]
    },
    {
     "cell_type": "markdown",
     "metadata": {},
     "source": [
      "Since spin-coupling is now same for all components"
     ]
    },
    {
     "cell_type": "markdown",
     "metadata": {},
     "source": [
      "$ V_{ij} = \\frac 1 2 \\begin{pmatrix}  \n",
      "l^z_{ji} & (l^x + i l^y)_{ji} \\\\\n",
      "(l^x + i l^y)_{ji} & -l^z_{ji}\n",
      "\\end{pmatrix}$"
     ]
    },
    {
     "cell_type": "markdown",
     "metadata": {},
     "source": [
      "**Sulphur atom**"
     ]
    },
    {
     "cell_type": "markdown",
     "metadata": {},
     "source": [
      "Run Dalton"
     ]
    },
    {
     "cell_type": "code",
     "collapsed": false,
     "input": [
      "!cd S && ~/dev/dalton/git/build/master/dalton -get \"AOONEINT AOPROPER SIRIUS.RST AO2SOINT\" hf S"
     ],
     "language": "python",
     "metadata": {},
     "outputs": [
      {
       "output_type": "stream",
       "stream": "stdout",
       "text": [
        "DALTON_TMPDIR not defined by user.\r\n",
        " Guessing /tmp is appropriate scratch directory, and DALTON_TMPDIR is set to this directory\r\n"
       ]
      },
      {
       "output_type": "stream",
       "stream": "stdout",
       "text": [
        "\r\n",
        "   ***************************************** \r\n",
        "   **** OUTPUT FROM DALTON SHELL SCRIPT **** \r\n",
        "   ***************************************** \r\n",
        "\r\n",
        "   DALTON release 2014.0\r\n",
        "\r\n",
        "   Invocation: /home/olav/dev/dalton/git/build/master/dalton -get AOONEINT AOPROPER SIRIUS.RST AO2SOINT hf S\r\n",
        "\r\n",
        "   Fri Dec 12 07:25:06 CET 2014\r\n",
        "\r\n",
        "   Calculation: hf_S  (input files: hf.dal and S.mol)\r\n",
        "   PID        : 5540\r\n",
        "   Input dir  : /home/olav/proj/L-edge_splitting/S\r\n",
        "   Scratch dir: /tmp/DALTON_scratch_olav/hf_S_5540\r\n",
        "\r\n"
       ]
      },
      {
       "output_type": "stream",
       "stream": "stdout",
       "text": [
        "\r\n",
        " DALTON: default work memory size used.            64000000\r\n",
        "\r\n",
        " Work memory size (LMWORK+2):    64000002 =  488.28 megabytes; node   0\r\n",
        "\r\n",
        "   0: Directories for basis set searches:\r\n",
        "     /home/olav/proj/L-edge_splitting/S:/home/olav/dev/dalton/git/build/master/basis\r\n"
       ]
      },
      {
       "output_type": "stream",
       "stream": "stdout",
       "text": [
        "Backup: renaming /home/olav/proj/L-edge_splitting/S/hf_S.tar.gz.6 to /home/olav/proj/L-edge_splitting/S/hf_S.tar.gz.7\r\n"
       ]
      },
      {
       "output_type": "stream",
       "stream": "stdout",
       "text": [
        "Backup: renaming /home/olav/proj/L-edge_splitting/S/hf_S.tar.gz.5 to /home/olav/proj/L-edge_splitting/S/hf_S.tar.gz.6\r\n",
        "Backup: renaming /home/olav/proj/L-edge_splitting/S/hf_S.tar.gz.4 to /home/olav/proj/L-edge_splitting/S/hf_S.tar.gz.5\r\n",
        "Backup: renaming /home/olav/proj/L-edge_splitting/S/hf_S.tar.gz.3 to /home/olav/proj/L-edge_splitting/S/hf_S.tar.gz.4\r\n",
        "Backup: renaming /home/olav/proj/L-edge_splitting/S/hf_S.tar.gz.2 to /home/olav/proj/L-edge_splitting/S/hf_S.tar.gz.3\r\n",
        "Backup: renaming /home/olav/proj/L-edge_splitting/S/hf_S.tar.gz.1 to /home/olav/proj/L-edge_splitting/S/hf_S.tar.gz.2\r\n",
        "Backup: renaming /home/olav/proj/L-edge_splitting/S/hf_S.tar.gz.0 to /home/olav/proj/L-edge_splitting/S/hf_S.tar.gz.1\r\n",
        "Backup: renaming /home/olav/proj/L-edge_splitting/S/hf_S.tar.gz to /home/olav/proj/L-edge_splitting/S/hf_S.tar.gz.0\r\n",
        "hf_S.tar.gz has been copied to /home/olav/proj/L-edge_splitting/S\r\n",
        "copying AOONEINT back from scratch directory\r\n",
        "copying AOPROPER back from scratch directory\r\n",
        "copying SIRIUS.RST back from scratch directory\r\n",
        "copying AO2SOINT back from scratch directory\r\n"
       ]
      },
      {
       "output_type": "stream",
       "stream": "stdout",
       "text": [
        "Backup: renaming /home/olav/proj/L-edge_splitting/S/hf_S.out.6 to /home/olav/proj/L-edge_splitting/S/hf_S.out.7\r\n",
        "Backup: renaming /home/olav/proj/L-edge_splitting/S/hf_S.out.5 to /home/olav/proj/L-edge_splitting/S/hf_S.out.6\r\n",
        "Backup: renaming /home/olav/proj/L-edge_splitting/S/hf_S.out.4 to /home/olav/proj/L-edge_splitting/S/hf_S.out.5\r\n",
        "Backup: renaming /home/olav/proj/L-edge_splitting/S/hf_S.out.3 to /home/olav/proj/L-edge_splitting/S/hf_S.out.4\r\n",
        "Backup: renaming /home/olav/proj/L-edge_splitting/S/hf_S.out.2 to /home/olav/proj/L-edge_splitting/S/hf_S.out.3\r\n",
        "Backup: renaming /home/olav/proj/L-edge_splitting/S/hf_S.out.1 to /home/olav/proj/L-edge_splitting/S/hf_S.out.2\r\n",
        "Backup: renaming /home/olav/proj/L-edge_splitting/S/hf_S.out.0 to /home/olav/proj/L-edge_splitting/S/hf_S.out.1\r\n",
        "Backup: renaming /home/olav/proj/L-edge_splitting/S/hf_S.out to /home/olav/proj/L-edge_splitting/S/hf_S.out.0\r\n"
       ]
      },
      {
       "output_type": "stream",
       "stream": "stdout",
       "text": [
        "\r\n",
        "   Fri Dec 12 07:25:07 CET 2014\r\n",
        "   ***************************************** \r\n"
       ]
      }
     ],
     "prompt_number": 2
    },
    {
     "cell_type": "markdown",
     "metadata": {},
     "source": [
      "mostly we will use integrals from this set. Define filenames\n"
     ]
    },
    {
     "cell_type": "code",
     "collapsed": false,
     "input": [
      "aooneint = \"S/hf_S.AOONEINT\"\n",
      "aoproper = \"S/hf_S.AOPROPER\"\n",
      "ao2soint = \"S/hf_S.AO2SOINT\""
     ],
     "language": "python",
     "metadata": {},
     "outputs": [],
     "prompt_number": 39
    },
    {
     "cell_type": "markdown",
     "metadata": {},
     "source": [
      "The default input gives singlet (3px^2 3py^2 - HF occ 32201000). \n",
      "This is triplet Sulphur (3px 3py 3pz^2) - HF occ 31102000/01100000"
     ]
    },
    {
     "cell_type": "code",
     "collapsed": false,
     "input": [
      "!cd S && ~/dev/dalton/git/build/master/dalton -get \"SIRIUS.RST\" hf3 S"
     ],
     "language": "python",
     "metadata": {},
     "outputs": [
      {
       "output_type": "stream",
       "stream": "stdout",
       "text": [
        "DALTON_TMPDIR not defined by user.\r\n",
        " Guessing /tmp is appropriate scratch directory, and DALTON_TMPDIR is set to this directory\r\n"
       ]
      },
      {
       "output_type": "stream",
       "stream": "stdout",
       "text": [
        "\r\n",
        "   ***************************************** \r\n",
        "   **** OUTPUT FROM DALTON SHELL SCRIPT **** \r\n",
        "   ***************************************** \r\n",
        "\r\n",
        "   DALTON release 2014.0\r\n",
        "\r\n",
        "   Invocation: /home/olav/dev/dalton/git/build/master/dalton -get SIRIUS.RST hf3 S\r\n",
        "\r\n",
        "   Fri Dec 12 07:25:08 CET 2014\r\n",
        "\r\n",
        "   Calculation: hf3_S  (input files: hf3.dal and S.mol)\r\n",
        "   PID        : 5612\r\n",
        "   Input dir  : /home/olav/proj/L-edge_splitting/S\r\n",
        "   Scratch dir: /tmp/DALTON_scratch_olav/hf3_S_5612\r\n",
        "\r\n"
       ]
      },
      {
       "output_type": "stream",
       "stream": "stdout",
       "text": [
        "\r\n",
        " DALTON: default work memory size used.            64000000\r\n",
        "\r\n",
        " Work memory size (LMWORK+2):    64000002 =  488.28 megabytes; node   0\r\n",
        "\r\n",
        "   0: Directories for basis set searches:\r\n",
        "     /home/olav/proj/L-edge_splitting/S:/home/olav/dev/dalton/git/build/master/basis\r\n"
       ]
      },
      {
       "output_type": "stream",
       "stream": "stdout",
       "text": [
        "Backup: renaming /home/olav/proj/L-edge_splitting/S/hf3_S.tar.gz.2 to /home/olav/proj/L-edge_splitting/S/hf3_S.tar.gz.3\r\n",
        "Backup: renaming /home/olav/proj/L-edge_splitting/S/hf3_S.tar.gz.1 to /home/olav/proj/L-edge_splitting/S/hf3_S.tar.gz.2\r\n",
        "Backup: renaming /home/olav/proj/L-edge_splitting/S/hf3_S.tar.gz.0 to /home/olav/proj/L-edge_splitting/S/hf3_S.tar.gz.1\r\n",
        "Backup: renaming /home/olav/proj/L-edge_splitting/S/hf3_S.tar.gz to /home/olav/proj/L-edge_splitting/S/hf3_S.tar.gz.0\r\n",
        "hf3_S.tar.gz has been copied to /home/olav/proj/L-edge_splitting/S\r\n",
        "copying SIRIUS.RST back from scratch directory\r\n",
        "Backup: renaming /home/olav/proj/L-edge_splitting/S/hf3_S.out.2 to /home/olav/proj/L-edge_splitting/S/hf3_S.out.3\r\n",
        "Backup: renaming /home/olav/proj/L-edge_splitting/S/hf3_S.out.1 to /home/olav/proj/L-edge_splitting/S/hf3_S.out.2\r\n",
        "Backup: renaming /home/olav/proj/L-edge_splitting/S/hf3_S.out.0 to /home/olav/proj/L-edge_splitting/S/hf3_S.out.1\r\n"
       ]
      },
      {
       "output_type": "stream",
       "stream": "stdout",
       "text": [
        "Backup: renaming /home/olav/proj/L-edge_splitting/S/hf3_S.out to /home/olav/proj/L-edge_splitting/S/hf3_S.out.0\r\n",
        "\r\n",
        "   Fri Dec 12 07:25:09 CET 2014\r\n",
        "   ***************************************** \r\n"
       ]
      }
     ],
     "prompt_number": 3
    },
    {
     "cell_type": "markdown",
     "metadata": {},
     "source": [
      "Another case is relaxation, consider the ionized form(3px^2 3py^2 2pz^1)-HF occ 32200000/32201000 (for x, y we need to do inner shell hole)"
     ]
    },
    {
     "cell_type": "code",
     "collapsed": false,
     "input": [
      "!cd S && ~/dev/dalton/git/build/master/dalton -get \"SIRIUS.RST\" hfrel S"
     ],
     "language": "python",
     "metadata": {},
     "outputs": [
      {
       "output_type": "stream",
       "stream": "stdout",
       "text": [
        "DALTON_TMPDIR not defined by user.\r\n",
        " Guessing /tmp is appropriate scratch directory, and DALTON_TMPDIR is set to this directory\r\n",
        "\r\n",
        "   ***************************************** \r\n",
        "   **** OUTPUT FROM DALTON SHELL SCRIPT **** \r\n",
        "   ***************************************** \r\n",
        "\r\n",
        "   DALTON release 2014.0\r\n",
        "\r\n",
        "   Invocation: /home/olav/dev/dalton/git/build/master/dalton -get SIRIUS.RST hfrel S\r\n",
        "\r\n",
        "   Fri Dec 12 07:25:10 CET 2014\r\n",
        "\r\n",
        "   Calculation: hfrel_S  (input files: hfrel.dal and S.mol)\r\n",
        "   PID        : 5673\r\n",
        "   Input dir  : /home/olav/proj/L-edge_splitting/S\r\n",
        "   Scratch dir: /tmp/DALTON_scratch_olav/hfrel_S_5673\r\n",
        "\r\n"
       ]
      },
      {
       "output_type": "stream",
       "stream": "stdout",
       "text": [
        "\r\n",
        " DALTON: default work memory size used.            64000000\r\n",
        "\r\n",
        " Work memory size (LMWORK+2):    64000002 =  488.28 megabytes; node   0\r\n",
        "\r\n",
        "   0: Directories for basis set searches:\r\n",
        "     /home/olav/proj/L-edge_splitting/S:/home/olav/dev/dalton/git/build/master/basis\r\n"
       ]
      },
      {
       "output_type": "stream",
       "stream": "stdout",
       "text": [
        "Backup: renaming /home/olav/proj/L-edge_splitting/S/hfrel_S.tar.gz.1 to /home/olav/proj/L-edge_splitting/S/hfrel_S.tar.gz.2\r\n",
        "Backup: renaming /home/olav/proj/L-edge_splitting/S/hfrel_S.tar.gz.0 to /home/olav/proj/L-edge_splitting/S/hfrel_S.tar.gz.1\r\n",
        "Backup: renaming /home/olav/proj/L-edge_splitting/S/hfrel_S.tar.gz to /home/olav/proj/L-edge_splitting/S/hfrel_S.tar.gz.0\r\n",
        "hfrel_S.tar.gz has been copied to /home/olav/proj/L-edge_splitting/S\r\n",
        "copying SIRIUS.RST back from scratch directory\r\n"
       ]
      },
      {
       "output_type": "stream",
       "stream": "stdout",
       "text": [
        "Backup: renaming /home/olav/proj/L-edge_splitting/S/hfrel_S.out.1 to /home/olav/proj/L-edge_splitting/S/hfrel_S.out.2\r\n",
        "Backup: renaming /home/olav/proj/L-edge_splitting/S/hfrel_S.out.0 to /home/olav/proj/L-edge_splitting/S/hfrel_S.out.1\r\n",
        "Backup: renaming /home/olav/proj/L-edge_splitting/S/hfrel_S.out to /home/olav/proj/L-edge_splitting/S/hfrel_S.out.0\r\n",
        "\r\n",
        "   Fri Dec 12 07:25:11 CET 2014\r\n",
        "   ***************************************** \r\n"
       ]
      }
     ],
     "prompt_number": 4
    },
    {
     "cell_type": "markdown",
     "metadata": {},
     "source": [
      "Now the integral is in S/hf_S.AOPROPER"
     ]
    },
    {
     "cell_type": "code",
     "collapsed": false,
     "input": [
      "from daltools import prop\n",
      "from dalmisc import sirrst"
     ],
     "language": "python",
     "metadata": {},
     "outputs": [],
     "prompt_number": 5
    },
    {
     "cell_type": "code",
     "collapsed": false,
     "input": [
      "angmom = prop.read('X1SPNORB', 'Y1SPNORB', 'Z1SPNORB', filename=aoproper)"
     ],
     "language": "python",
     "metadata": {},
     "outputs": [],
     "prompt_number": 40
    },
    {
     "cell_type": "markdown",
     "metadata": {},
     "source": [
      "Get the p-orbitals, read from SIRRST"
     ]
    },
    {
     "cell_type": "code",
     "collapsed": false,
     "input": [
      "rst = sirrst.SiriusRestart(name=\"S/hf_S.SIRIUS.RST\")\n",
      "cmo = rst.cmo"
     ],
     "language": "python",
     "metadata": {},
     "outputs": [],
     "prompt_number": 41
    },
    {
     "cell_type": "code",
     "collapsed": false,
     "input": [
      "\n",
      "rst3 = sirrst.SiriusRestart(name=\"S/hf3_S.SIRIUS.RST\")\n",
      "cmo3 = rst3.cmo"
     ],
     "language": "python",
     "metadata": {},
     "outputs": [],
     "prompt_number": 42
    },
    {
     "cell_type": "code",
     "collapsed": false,
     "input": [
      "rstrel = sirrst.SiriusRestart(name=\"S/hfrel_S.SIRIUS.RST\")\n",
      "cmorel = rstrel.cmo"
     ],
     "language": "python",
     "metadata": {},
     "outputs": [],
     "prompt_number": 43
    },
    {
     "cell_type": "code",
     "collapsed": true,
     "input": [
      "def get_ps(mo):\n",
      "    _px, _py, _pz = (1, 2, 4)\n",
      "    return mo[_px][:, 0], mo[_py][:, 0], mo[_pz][:, 0]\n",
      "\n",
      "px, py, pz = get_ps(cmo)\n",
      "px3, py3, pz3 = get_ps(cmo3)\n",
      "pxrel, pyrel, pzrel = get_ps(cmorel)\n",
      "\n",
      "print px, py, pz\n",
      "#print px, px3, pxrel"
     ],
     "language": "python",
     "metadata": {},
     "outputs": [
      {
       "output_type": "stream",
       "stream": "stdout",
       "text": [
        "\n",
        " (6,) \n",
        "              Column   1\n",
        "       1      1.00179538\n",
        "       2      0.00115419\n",
        "       3     -0.00341405\n",
        "       4     -0.00112856\n",
        "       5      0.00032629\n",
        "\n",
        " \n",
        " (6,) \n",
        "              Column   1\n",
        "       1      1.00179538\n",
        "       2      0.00115419\n",
        "       3     -0.00341405\n",
        "       4     -0.00112856\n",
        "       6      0.00032629\n",
        "\n",
        " \n",
        " (6,) \n",
        "              Column   1\n",
        "       1      0.99656939\n",
        "       2     -0.00477253\n",
        "       3      0.00649723\n",
        "       4      0.00218673\n",
        "       5      0.00041297\n",
        "\n",
        "\n"
       ]
      }
     ],
     "prompt_number": 140
    },
    {
     "cell_type": "code",
     "collapsed": false,
     "input": [
      "cmo0 = cmo.unblock()\n",
      "cmo03 = cmo3.unblock()\n",
      "cmo0rel = cmorel.unblock()"
     ],
     "language": "python",
     "metadata": {},
     "outputs": [],
     "prompt_number": 130
    },
    {
     "cell_type": "code",
     "collapsed": false,
     "input": [
      "x, y, z = 9, 15, 23\n",
      "p = cmo0[:, (x, y, z)]\n",
      "p3 = cmo03[:, (x, y, z)]\n",
      "prel = cmo0rel[:, (x, y, z)]\n"
     ],
     "language": "python",
     "metadata": {},
     "outputs": [],
     "prompt_number": 131
    },
    {
     "cell_type": "code",
     "collapsed": false,
     "input": [
      "print p, p3, prel"
     ],
     "language": "python",
     "metadata": {},
     "outputs": [
      {
       "output_type": "stream",
       "stream": "stdout",
       "text": [
        "\n",
        " (34, 3) \n",
        "              Column   1    Column   2    Column   3\n",
        "      10      1.00179538    0.00000000    0.00000000\n",
        "      11      0.00115419    0.00000000    0.00000000\n",
        "      12     -0.00341405    0.00000000    0.00000000\n",
        "      13     -0.00112856    0.00000000    0.00000000\n",
        "      14      0.00032629    0.00000000    0.00000000\n",
        "      16      0.00000000    1.00179538    0.00000000\n",
        "      17      0.00000000    0.00115419    0.00000000\n",
        "      18      0.00000000   -0.00341405    0.00000000\n",
        "      19      0.00000000   -0.00112856    0.00000000\n",
        "      21      0.00000000    0.00032629    0.00000000\n",
        "      24      0.00000000    0.00000000    0.99656939\n",
        "      25      0.00000000    0.00000000   -0.00477253\n",
        "      26      0.00000000    0.00000000    0.00649723\n",
        "      27      0.00000000    0.00000000    0.00218673\n",
        "      28      0.00000000    0.00000000    0.00041297\n",
        " \n",
        " (34, 3) \n",
        "              Column   1    Column   2    Column   3\n",
        "      10      0.99919603    0.00000000    0.00000000\n",
        "      11     -0.00140608    0.00000000    0.00000000\n",
        "      12      0.00152713    0.00000000    0.00000000\n",
        "      13      0.00049420    0.00000000    0.00000000\n",
        "      14     -0.00015379    0.00000000    0.00000000\n",
        "      16      0.00000000    0.99919603    0.00000000\n",
        "      17      0.00000000   -0.00140608    0.00000000\n",
        "      18      0.00000000    0.00152713    0.00000000\n",
        "      19      0.00000000    0.00049420    0.00000000\n",
        "      21      0.00000000   -0.00015379    0.00000000\n",
        "      24      0.00000000    0.00000000    1.00160050\n",
        "      25      0.00000000    0.00000000    0.00095382\n",
        "      26      0.00000000    0.00000000   -0.00304187\n",
        "      27      0.00000000    0.00000000   -0.00101448\n",
        "      28      0.00000000    0.00000000   -0.00018108\n",
        " \n",
        " (34, 3) \n",
        "              Column   1    Column   2    Column   3\n",
        "      10      1.03530898    0.00000000    0.00000000\n",
        "      11      0.04205808    0.00000000    0.00000000\n",
        "      12     -0.06807682    0.00000000    0.00000000\n",
        "      13     -0.02423426    0.00000000    0.00000000\n",
        "      14      0.00044852    0.00000000    0.00000000\n",
        "      16      0.00000000    1.03530898    0.00000000\n",
        "      17      0.00000000    0.04205808    0.00000000\n",
        "      18      0.00000000   -0.06807682    0.00000000\n",
        "      19      0.00000000   -0.02423426    0.00000000\n",
        "      21      0.00000000    0.00044852    0.00000000\n",
        "      24      0.00000000    0.00000000    1.03752271\n",
        "      25      0.00000000    0.00000000    0.04393110\n",
        "      26      0.00000000    0.00000000   -0.07254927\n",
        "      27      0.00000000    0.00000000   -0.02524500\n",
        "      28      0.00000000    0.00000000    0.00075131\n",
        "\n"
       ]
      }
     ],
     "prompt_number": 141
    },
    {
     "cell_type": "code",
     "collapsed": false,
     "input": [
      "from scipy.constants import alpha\n",
      "prefactor = alpha**2/2\n",
      "ls = [prefactor*p.T*M*p for M in angmom]\n",
      "ls3 = [prefactor*p3.T*M*p3 for M in angmom]\n",
      "lsrel = [prefactor*prel.T*M*prel for M in angmom]\n"
     ],
     "language": "python",
     "metadata": {},
     "outputs": [],
     "prompt_number": 133
    },
    {
     "cell_type": "code",
     "collapsed": false,
     "input": [
      "for m in ls:\n",
      "    print m"
     ],
     "language": "python",
     "metadata": {},
     "outputs": [
      {
       "output_type": "stream",
       "stream": "stdout",
       "text": [
        "\n",
        " (3, 3) \n",
        "              Column   1    Column   2    Column   3\n",
        "       2      0.00000000    0.00000000    0.03385742\n",
        "       3      0.00000000   -0.03385742    0.00000000\n",
        "\n",
        "\n",
        " (3, 3) \n",
        "              Column   1    Column   2    Column   3\n",
        "       1      0.00000000    0.00000000   -0.03385742\n",
        "       3      0.03385742    0.00000000    0.00000000\n",
        "\n",
        "\n",
        " (3, 3) \n",
        "              Column   1    Column   2    Column   3\n",
        "       1      0.00000000    0.03396038    0.00000000\n",
        "       2     -0.03396038    0.00000000    0.00000000\n",
        "\n"
       ]
      }
     ],
     "prompt_number": 143
    },
    {
     "cell_type": "markdown",
     "metadata": {},
     "source": [
      "Form complex matrices"
     ]
    },
    {
     "cell_type": "code",
     "collapsed": false,
     "input": [
      "import numpy as np"
     ],
     "language": "python",
     "metadata": {},
     "outputs": [],
     "prompt_number": 144
    },
    {
     "cell_type": "code",
     "collapsed": false,
     "input": [
      "V = np.zeros((6, 6), dtype='complex', order='F')\n",
      "V3 = np.zeros((6, 6), dtype='complex', order='F')\n",
      "Vrel = np.zeros((6, 6), dtype='complex', order='F')\n"
     ],
     "language": "python",
     "metadata": {},
     "outputs": [],
     "prompt_number": 145
    },
    {
     "cell_type": "code",
     "collapsed": true,
     "input": [
      "def makeV(ls):\n",
      "    V = np.zeros((6, 6), dtype='complex', order='F')\n",
      "    V[:3, :3] = ls[2]\n",
      "    V[3:, 3:] = -ls[2]\n",
      "    V[:3, 3:] = ls[0] + 1j*ls[1]\n",
      "    V[3:, :3] = ls[0] - 1j*ls[1]\n",
      "    V *= 1j/2\n",
      "    return V\n",
      "\n",
      "\n",
      "V = makeV(ls)\n",
      "V3 = makeV(ls3)\n",
      "Vrel = makeV(lsrel)"
     ],
     "language": "python",
     "metadata": {},
     "outputs": [],
     "prompt_number": 146
    },
    {
     "cell_type": "code",
     "collapsed": true,
     "input": [
      "eigvals =  numpy.linalg.eigvals(V)\n",
      "eigvals3 =  numpy.linalg.eigvals(V3)\n",
      "eigvalsrel =  numpy.linalg.eigvals(Vrel)\n"
     ],
     "language": "python",
     "metadata": {},
     "outputs": [],
     "prompt_number": 147
    },
    {
     "cell_type": "code",
     "collapsed": true,
     "input": [
      "print eigvals.real\n",
      "print eigvals3.real\n",
      "print eigvalsrel.real\n"
     ],
     "language": "python",
     "metadata": {},
     "outputs": [
      {
       "output_type": "stream",
       "stream": "stdout",
       "text": [
        "[-0.03389175  0.01698019  0.01691156 -0.03389175  0.01691156  0.01698019]\n",
        "[-0.03388538  0.01695942 -0.03388538  0.01692596  0.01695942  0.01692596]\n",
        "[-0.03527365  0.01762048  0.01765318 -0.03527365  0.01762048  0.01765318]\n"
       ]
      }
     ],
     "prompt_number": 148
    },
    {
     "cell_type": "code",
     "collapsed": false,
     "input": [
      "eV = 27.211396132"
     ],
     "language": "python",
     "metadata": {},
     "outputs": [],
     "prompt_number": 149
    },
    {
     "cell_type": "code",
     "collapsed": false,
     "input": [
      "split = abs(eigvals[0] - .5*(eigvals[-1]+eigvals[-2]))\n",
      "print split*eV, 'eV'"
     ],
     "language": "python",
     "metadata": {},
     "outputs": [
      {
       "output_type": "stream",
       "stream": "stdout",
       "text": [
        "1.38336268014 eV\n"
       ]
      }
     ],
     "prompt_number": 150
    },
    {
     "cell_type": "code",
     "collapsed": false,
     "input": [
      "split = abs(eigvals3[0] - .5*(eigvals3[-1]+eigvals3[-2]))\n",
      "print split*eV, 'eV'"
     ],
     "language": "python",
     "metadata": {},
     "outputs": [
      {
       "output_type": "stream",
       "stream": "stdout",
       "text": [
        "1.38310259848 eV\n"
       ]
      }
     ],
     "prompt_number": 151
    },
    {
     "cell_type": "code",
     "collapsed": false,
     "input": [
      "split = abs(eigvalsrel[0] - .5*(eigvalsrel[-1]+eigvalsrel[2]))\n",
      "print split*eV, 'eV'"
     ],
     "language": "python",
     "metadata": {},
     "outputs": [
      {
       "output_type": "stream",
       "stream": "stdout",
       "text": [
        "1.44021293984 eV\n"
       ]
      }
     ],
     "prompt_number": 152
    },
    {
     "cell_type": "markdown",
     "metadata": {},
     "source": [
      "**Two-electron**"
     ]
    },
    {
     "cell_type": "code",
     "collapsed": false,
     "input": [
      "from dalmisc.twoso import fockab"
     ],
     "language": "python",
     "metadata": {},
     "outputs": [],
     "prompt_number": 153
    },
    {
     "cell_type": "markdown",
     "metadata": {},
     "source": [
      "The fock routine takes alpha- and beta densities"
     ]
    },
    {
     "cell_type": "code",
     "collapsed": true,
     "input": [
      "print cmo"
     ],
     "language": "python",
     "metadata": {},
     "outputs": [
      {
       "output_type": "stream",
       "stream": "stdout",
       "text": [
        "\n",
        "Block 1\n",
        "\n",
        " (9, 9) \n",
        "              Column   1    Column   2    Column   3    Column   4    Column   5\n",
        "       1      0.99999877    0.00003221   -0.00009349   -0.15220719   -0.02518655\n",
        "       2     -0.00001068    1.00015914   -0.00006308   -1.06758437   -0.17426548\n",
        "       3     -0.00000635    0.00007130    1.00306594   -2.90605773   -0.46754868\n",
        "       4      0.00000796   -0.00019774    0.00195657    0.27313207    0.05390092\n",
        "       5      0.00000393   -0.00004804   -0.00466823    3.08753728    0.47954067\n",
        "       6      0.00001954    0.00147075    0.00049376   -0.01256688   -0.13549280\n",
        "       8     -0.00000011   -0.00095884   -0.01025297    0.15965776   -0.90176631\n",
        "\n",
        "              Column   6    Column   7    Column   8    Column   9\n",
        "       1     -0.00000000   -0.00755962    0.00000000   -0.74022394\n",
        "       2     -0.00000000   -0.05000203    0.00000000   -4.31667494\n",
        "       3     -0.00000000   -0.10597531    0.00000000   -5.69157791\n",
        "       4      0.00000000    0.02812056   -0.00000000    4.43839121\n",
        "       5      0.00000000    0.09990884   -0.00000000    3.67895583\n",
        "       6      0.00000000    1.23863472    0.00000000   -0.00542903\n",
        "       7      0.14010656   -0.00000000   -1.23819798   -0.00000000\n",
        "       8     -0.00000000   -0.84495143    0.00000000    0.00648405\n",
        "       9      0.91006486   -0.00000000    0.85120270   -0.00000000\n",
        "\n",
        "Block 2\n",
        "\n",
        " (6, 6) \n",
        "              Column   1    Column   2    Column   3    Column   4    Column   5\n",
        "       1      1.00179538   -0.00561128    0.38704903    0.04183453   -0.00000000\n",
        "       2      0.00115419    0.96709661    2.07207962    0.06871441   -0.00000000\n",
        "       3     -0.00341405    0.01052321   -0.45864326   -0.07829225    0.00000000\n",
        "       4     -0.00112856    0.03138700   -2.13496406   -0.03945070    0.00000000\n",
        "       5      0.00032629    0.01433319    0.00885239    0.99942077    0.00000000\n",
        "       6     -0.00000000   -0.00000000    0.00000000    0.00000000    1.00000000\n",
        "\n",
        "              Column   6\n",
        "       1      1.53830728\n",
        "       2      3.41189809\n",
        "       3     -2.77868599\n",
        "       4     -1.95751939\n",
        "       5     -0.02956695\n",
        "\n",
        "Block 3\n",
        "\n",
        " (6, 6) \n",
        "              Column   1    Column   2    Column   3    Column   4    Column   5\n",
        "       1      1.00179538   -0.00561128    0.38704903    0.04183453    0.00000000\n",
        "       2      0.00115419    0.96709661    2.07207962    0.06871441    0.00000000\n",
        "       3     -0.00341405    0.01052321   -0.45864326   -0.07829225   -0.00000000\n",
        "       4     -0.00112856    0.03138700   -2.13496406   -0.03945070   -0.00000000\n",
        "       5      0.00000000    0.00000000   -0.00000000   -0.00000000    1.00000000\n",
        "       6      0.00032629    0.01433319    0.00885239    0.99942077    0.00000000\n",
        "\n",
        "              Column   6\n",
        "       1      1.53830728\n",
        "       2      3.41189809\n",
        "       3     -2.77868599\n",
        "       4     -1.95751939\n",
        "       6     -0.02956695\n",
        "\n",
        "Block 4\n",
        "\n",
        " (2, 2) \n",
        "              Column   1    Column   2\n",
        "       1      0.14010656   -1.23819798\n",
        "       2      0.91006486    0.85120270\n",
        "\n",
        "Block 5\n",
        "\n",
        " (6, 6) \n",
        "              Column   1    Column   2    Column   3    Column   4    Column   5\n",
        "       1      0.99656939   -0.02883475    0.40047324    0.05446024   -0.00000000\n",
        "       2     -0.00477253    0.76017213    2.22101576    0.09001756   -0.00000000\n",
        "       3      0.00649723    0.01692074   -0.48913424   -0.10137873    0.00000000\n",
        "       4      0.00218673    0.26501036   -2.13871076   -0.05176066    0.00000000\n",
        "       5      0.00041297    0.01582575    0.01279096    0.99904408    0.00000000\n",
        "       6     -0.00000000   -0.00000000   -0.00000000    0.00000000    1.00000000\n",
        "\n",
        "              Column   6\n",
        "       1      1.53761019\n",
        "       2      3.36981643\n",
        "       3     -2.77269599\n",
        "       4     -1.93532899\n",
        "       5     -0.03868720\n",
        "\n",
        "Block 6\n",
        "\n",
        " (2, 2) \n",
        "              Column   1    Column   2\n",
        "       1      0.13483907   -1.23878267\n",
        "       2      0.91367690    0.84732437\n",
        "\n",
        "Block 7\n",
        "\n",
        " (2, 2) \n",
        "              Column   1    Column   2\n",
        "       1      0.13483907   -1.23878267\n",
        "       2      0.91367690    0.84732437\n",
        "\n",
        "Block 8\n",
        "\n",
        " (1, 1) \n",
        "              Column   1\n",
        "       1      1.00000000\n",
        "\n"
       ]
      }
     ],
     "prompt_number": 154
    },
    {
     "cell_type": "code",
     "collapsed": false,
     "input": [
      "nocc_alpha = [3, 2, 2, 0, 1, 0, 0, 0]\n",
      "nocc_beta  = [3, 2, 2, 0, 1, 0, 0, 0]\n",
      "cmoa = [ c[:, :na] for c, na in zip(cmo, nocc_alpha) ]"
     ],
     "language": "python",
     "metadata": {},
     "outputs": [],
     "prompt_number": 155
    },
    {
     "cell_type": "code",
     "collapsed": false,
     "input": [
      "for ca in cmoa:\n",
      "    print ca"
     ],
     "language": "python",
     "metadata": {},
     "outputs": [
      {
       "output_type": "stream",
       "stream": "stdout",
       "text": [
        "\n",
        " (9, 3) \n",
        "              Column   1    Column   2    Column   3\n",
        "       1      0.99999877    0.00003221   -0.00009349\n",
        "       2     -0.00001068    1.00015914   -0.00006308\n",
        "       3     -0.00000635    0.00007130    1.00306594\n",
        "       4      0.00000796   -0.00019774    0.00195657\n",
        "       5      0.00000393   -0.00004804   -0.00466823\n",
        "       6      0.00001954    0.00147075    0.00049376\n",
        "       8     -0.00000011   -0.00095884   -0.01025297\n",
        "\n",
        "\n",
        " (6, 2) \n",
        "              Column   1    Column   2\n",
        "       1      1.00179538   -0.00561128\n",
        "       2      0.00115419    0.96709661\n",
        "       3     -0.00341405    0.01052321\n",
        "       4     -0.00112856    0.03138700\n",
        "       5      0.00032629    0.01433319\n",
        "\n",
        "\n",
        " (6, 2) \n",
        "              Column   1    Column   2\n",
        "       1      1.00179538   -0.00561128\n",
        "       2      0.00115419    0.96709661\n",
        "       3     -0.00341405    0.01052321\n",
        "       4     -0.00112856    0.03138700\n",
        "       6      0.00032629    0.01433319\n",
        "\n",
        "\n",
        " (2, 0) \n",
        "\n",
        "\n",
        " (6, 1) \n",
        "              Column   1\n",
        "       1      0.99656939\n",
        "       2     -0.00477253\n",
        "       3      0.00649723\n",
        "       4      0.00218673\n",
        "       5      0.00041297\n",
        "\n",
        "\n",
        " (2, 0) \n",
        "\n",
        "\n",
        " (2, 0) \n",
        "\n",
        "\n",
        " (1, 0) \n",
        "\n"
       ]
      }
     ],
     "prompt_number": 156
    },
    {
     "cell_type": "code",
     "collapsed": false,
     "input": [
      "from daltools import dens #is there a blocked form?\n"
     ],
     "language": "python",
     "metadata": {},
     "outputs": [],
     "prompt_number": 157
    },
    {
     "cell_type": "markdown",
     "metadata": {},
     "source": [
      "Is there a blocked range selector for occupied orbitals?"
     ]
    },
    {
     "cell_type": "code",
     "collapsed": false,
     "input": [
      "cmo_occ_alpha = cmo.get_columns(nocc_alpha)\n",
      "cmo_occ_beta = cmo.get_columns(nocc_beta)"
     ],
     "language": "python",
     "metadata": {},
     "outputs": [],
     "prompt_number": 158
    },
    {
     "cell_type": "code",
     "collapsed": false,
     "input": [
      "Da = (cmo_occ_alpha*cmo_occ_alpha.T()).unblock()\n",
      "Db = (cmo_occ_alpha*cmo_occ_alpha.T()).unblock()"
     ],
     "language": "python",
     "metadata": {},
     "outputs": [],
     "prompt_number": 159
    },
    {
     "cell_type": "markdown",
     "metadata": {},
     "source": [
      "Verify"
     ]
    },
    {
     "cell_type": "code",
     "collapsed": false,
     "input": [
      "from daltools import one\n"
     ],
     "language": "python",
     "metadata": {},
     "outputs": [],
     "prompt_number": 160
    },
    {
     "cell_type": "code",
     "collapsed": true,
     "input": [
      "Sbl = one.read(filename='S/hf_S.AOONEINT').unpack()\n",
      "S = Sbl.unblock()\n",
      "print Sbl"
     ],
     "language": "python",
     "metadata": {},
     "outputs": [
      {
       "output_type": "stream",
       "stream": "stdout",
       "text": [
        "\n",
        "Block 1\n",
        "\n",
        " (9, 9) \n",
        "              Column   1    Column   2    Column   3    Column   4    Column   5\n",
        "       1      1.00000000    0.00000011    0.00000028    0.13587879    0.03727715\n",
        "       2      0.00000011    1.00000000    0.00000056    0.74026503    0.28028192\n",
        "       3      0.00000028    0.00000056    1.00000000    0.54072096    0.89457614\n",
        "       4      0.13587879    0.74026503    0.54072096    1.00000000    0.59208548\n",
        "       5      0.03727715    0.28028192    0.89457614    0.59208548    1.00000000\n",
        "\n",
        "              Column   6    Column   7    Column   8    Column   9\n",
        "       6      1.00000000    0.00000000    0.59664660    0.00000000\n",
        "       7      0.00000000    1.00000000    0.00000000    0.59664660\n",
        "       8      0.59664660    0.00000000    1.00000000    0.00000000\n",
        "       9      0.00000000    0.59664660    0.00000000    1.00000000\n",
        "\n",
        "Block 2\n",
        "\n",
        " (6, 6) \n",
        "              Column   1    Column   2    Column   3    Column   4    Column   5\n",
        "       1      1.00000000    0.00000041    0.50268999    0.07296018    0.00000000\n",
        "       2      0.00000041    1.00000000    0.64542598    0.82575475    0.00000000\n",
        "       3      0.50268999    0.64542598    1.00000000    0.31656628    0.00000000\n",
        "       4      0.07296018    0.82575475    0.31656628    1.00000000    0.00000000\n",
        "       5      0.00000000    0.00000000    0.00000000    0.00000000    1.00000000\n",
        "\n",
        "              Column   6\n",
        "       6      1.00000000\n",
        "\n",
        "Block 3\n",
        "\n",
        " (6, 6) \n",
        "              Column   1    Column   2    Column   3    Column   4    Column   5\n",
        "       1      1.00000000    0.00000041    0.50268999    0.07296018    0.00000000\n",
        "       2      0.00000041    1.00000000    0.64542598    0.82575475    0.00000000\n",
        "       3      0.50268999    0.64542598    1.00000000    0.31656628    0.00000000\n",
        "       4      0.07296018    0.82575475    0.31656628    1.00000000    0.00000000\n",
        "       5      0.00000000    0.00000000    0.00000000    0.00000000    1.00000000\n",
        "\n",
        "              Column   6\n",
        "       6      1.00000000\n",
        "\n",
        "Block 4\n",
        "\n",
        " (2, 2) \n",
        "              Column   1    Column   2\n",
        "       1      1.00000000    0.59664660\n",
        "       2      0.59664660    1.00000000\n",
        "\n",
        "Block 5\n",
        "\n",
        " (6, 6) \n",
        "              Column   1    Column   2    Column   3    Column   4    Column   5\n",
        "       1      1.00000000    0.00000041    0.50268999    0.07296018    0.00000000\n",
        "       2      0.00000041    1.00000000    0.64542598    0.82575475    0.00000000\n",
        "       3      0.50268999    0.64542598    1.00000000    0.31656628    0.00000000\n",
        "       4      0.07296018    0.82575475    0.31656628    1.00000000    0.00000000\n",
        "       5      0.00000000    0.00000000    0.00000000    0.00000000    1.00000000\n",
        "\n",
        "              Column   6\n",
        "       6      1.00000000\n",
        "\n",
        "Block 6\n",
        "\n",
        " (2, 2) \n",
        "              Column   1    Column   2\n",
        "       1      1.00000000    0.59664660\n",
        "       2      0.59664660    1.00000000\n",
        "\n",
        "Block 7\n",
        "\n",
        " (2, 2) \n",
        "              Column   1    Column   2\n",
        "       1      1.00000000    0.59664660\n",
        "       2      0.59664660    1.00000000\n",
        "\n",
        "Block 8\n",
        "\n",
        " (1, 1) \n",
        "              Column   1\n",
        "       1      1.00000000\n",
        "\n"
       ]
      }
     ],
     "prompt_number": 161
    },
    {
     "cell_type": "markdown",
     "metadata": {},
     "source": [
      "Should be 8"
     ]
    },
    {
     "cell_type": "code",
     "collapsed": false,
     "input": [
      "print (Da&S) + (Db&S)"
     ],
     "language": "python",
     "metadata": {},
     "outputs": [
      {
       "output_type": "stream",
       "stream": "stdout",
       "text": [
        "16.0\n"
       ]
      }
     ],
     "prompt_number": 162
    },
    {
     "cell_type": "code",
     "collapsed": false,
     "input": [
      "help(fockab)"
     ],
     "language": "python",
     "metadata": {},
     "outputs": [
      {
       "output_type": "stream",
       "stream": "stdout",
       "text": [
        "Help on function fockab in module dalmisc.twoso:\n",
        "\n",
        "fockab(Da, Db, component, **kwargs)\n",
        "    Generate two-electron spin-orbit Fock(alpha,beta) matrix from \n",
        "    integral file AO2SOINT\n",
        "    Input: component 'x', 'y', or 'z'\n",
        "           Density matrices, tuple (Da, Db)\n",
        "           AO intergral file, FortranBinary object, positioned\n",
        "    Output Fock matrics, tuple(Fa, Fb)\n",
        "\n"
       ]
      }
     ],
     "prompt_number": 163
    },
    {
     "cell_type": "code",
     "collapsed": false,
     "input": [
      "fa, fb = fockab(Da, Db, 'x', filename=ao2soint)"
     ],
     "language": "python",
     "metadata": {},
     "outputs": [],
     "prompt_number": 164
    },
    {
     "cell_type": "code",
     "collapsed": true,
     "input": [
      "print fa - fb"
     ],
     "language": "python",
     "metadata": {},
     "outputs": [
      {
       "output_type": "stream",
       "stream": "stdout",
       "text": [
        "\n",
        " (34, 34) \n",
        "              Column   1    Column   2    Column   3    Column   4    Column   5\n",
        "      32      0.76207922   -0.67348703   -0.21381210   -0.90456214   -0.16187210\n",
        "      33      0.48888271   -0.34322296   -0.18562136   -0.50753321   -0.09602878\n",
        "\n",
        "              Column   6    Column   7    Column   8    Column   9    Column  10\n",
        "      32    -25.92925703  -15.24984125   -8.86492373   -5.51898492    0.00000000\n",
        "      33     -9.00804496   -5.31123500   -5.92836508   -3.71575834    0.00000000\n",
        "      34      0.00000000    0.00000000    0.00000000    0.00000000   -0.13456256\n",
        "\n",
        "              Column  11    Column  12    Column  13    Column  14    Column  15\n",
        "      34     -0.20353076   -0.43575651   -0.03037927   -8.53433587   -6.86613618\n",
        "\n",
        "              Column  16    Column  17    Column  18    Column  19    Column  20\n",
        "      24    465.61455982  -97.91286149   62.41079696    5.63178394   -0.00000000\n",
        "      25    -98.02867091   30.51406005    1.01213716    2.76696803    0.00000000\n",
        "      26     62.16026125    1.42098880   33.16592823    5.04160201   -0.00000000\n",
        "      27      5.60290825    2.61279268    4.74495257    2.27396718    0.00000000\n",
        "      28      0.17359807   -0.20887124    0.10449262   -0.20438622    0.00000000\n",
        "      29      0.13456256    0.20353076    0.43575651    0.03037927    6.86613618\n",
        "\n",
        "              Column  21    Column  22    Column  23    Column  24    Column  25\n",
        "      16      0.00000000    0.00000000    0.00000000 -465.61455982   98.02867091\n",
        "      17      0.00000000    0.00000000    0.00000000   97.91286149  -30.51406005\n",
        "      18      0.00000000    0.00000000    0.00000000  -62.41079696   -1.01213716\n",
        "      19      0.00000000    0.00000000    0.00000000   -5.63178394   -2.76696803\n",
        "      21      0.00000000    0.00000000    0.00000000   -0.23162896    0.02549134\n",
        "      24      0.23162896    0.00000000    0.00000000    0.00000000    0.00000000\n",
        "      25     -0.02549134    0.00000000    0.00000000    0.00000000    0.00000000\n",
        "      26      0.39804894    0.00000000    0.00000000    0.00000000    0.00000000\n",
        "      27     -0.14843170    0.00000000    0.00000000    0.00000000    0.00000000\n",
        "      28     12.93850340    0.00000000    0.00000000    0.00000000    0.00000000\n",
        "      29      8.53433587    0.00000000    0.00000000    0.00000000    0.00000000\n",
        "      30      0.00000000   15.24984125    5.51898492    0.00000000    0.00000000\n",
        "      31      0.00000000    5.31123500    3.71575834    0.00000000    0.00000000\n",
        "\n",
        "              Column  26    Column  27    Column  28    Column  29    Column  30\n",
        "      16    -62.16026125   -5.60290825   -0.17359807   -0.13456256    0.00000000\n",
        "      17     -1.42098880   -2.61279268    0.20887124   -0.20353076    0.00000000\n",
        "      18    -33.16592823   -4.74495257   -0.10449262   -0.43575651    0.00000000\n",
        "      19     -5.04160201   -2.27396718    0.20438622   -0.03037927    0.00000000\n",
        "      20      0.00000000   -0.00000000   -0.00000000   -6.86613618    0.00000000\n",
        "      21     -0.39804894    0.14843170  -12.93850340   -8.53433587    0.00000000\n",
        "      22      0.00000000    0.00000000    0.00000000    0.00000000  -15.24984125\n",
        "      23      0.00000000    0.00000000    0.00000000    0.00000000   -5.51898492\n",
        "\n",
        "              Column  31    Column  32    Column  33    Column  34\n",
        "       1      0.00000000   -0.76207922   -0.48888271    0.00000000\n",
        "       2      0.00000000    0.67348703    0.34322296    0.00000000\n",
        "       3      0.00000000    0.21381210    0.18562136    0.00000000\n",
        "       4      0.00000000    0.90456214    0.50753321    0.00000000\n",
        "       5      0.00000000    0.16187210    0.09602878    0.00000000\n",
        "       6      0.00000000   25.92925703    9.00804496    0.00000000\n",
        "       7      0.00000000   15.24984125    5.31123500    0.00000000\n",
        "       8      0.00000000    8.86492373    5.92836508    0.00000000\n",
        "       9      0.00000000    5.51898492    3.71575834    0.00000000\n",
        "      10      0.00000000    0.00000000    0.00000000    0.13456256\n",
        "      11      0.00000000    0.00000000    0.00000000    0.20353076\n",
        "      12      0.00000000    0.00000000    0.00000000    0.43575651\n",
        "      13      0.00000000    0.00000000    0.00000000    0.03037927\n",
        "      14      0.00000000    0.00000000    0.00000000    8.53433587\n",
        "      15      0.00000000    0.00000000    0.00000000    6.86613618\n",
        "      22     -5.31123500    0.00000000    0.00000000    0.00000000\n",
        "      23     -3.71575834    0.00000000    0.00000000    0.00000000\n",
        "\n"
       ]
      }
     ],
     "prompt_number": 165
    },
    {
     "cell_type": "markdown",
     "metadata": {},
     "source": [
      "This convention illustrates that singlet combination is zero. The fa and fb matrix should be seen as single-contraction of twoso."
     ]
    },
    {
     "cell_type": "code",
     "collapsed": false,
     "input": [
      "fabs =  [fockab(Da, Db, c, filename=ao2soint) for c in \"xyz\"]"
     ],
     "language": "python",
     "metadata": {},
     "outputs": [],
     "prompt_number": 166
    },
    {
     "cell_type": "code",
     "collapsed": false,
     "input": [
      "ls2 = [fa - fb for fa, fb in fabs]"
     ],
     "language": "python",
     "metadata": {},
     "outputs": [],
     "prompt_number": 167
    },
    {
     "cell_type": "markdown",
     "metadata": {},
     "source": [
      "In principle these should be added as is to one-electron"
     ]
    },
    {
     "cell_type": "code",
     "collapsed": false,
     "input": [
      "oneso = ('X1SPNORB', 'Y1SPNORB', 'Z1SPNORB')\n",
      "ls1 = prop.read(*oneso, filename=aoproper)"
     ],
     "language": "python",
     "metadata": {},
     "outputs": [],
     "prompt_number": 168
    },
    {
     "cell_type": "code",
     "collapsed": false,
     "input": [
      "ls = [one + two for one, two in zip(ls1, ls2)]"
     ],
     "language": "python",
     "metadata": {},
     "outputs": [],
     "prompt_number": 185
    },
    {
     "cell_type": "code",
     "collapsed": false,
     "input": [
      "print ls"
     ],
     "language": "python",
     "metadata": {},
     "outputs": [
      {
       "output_type": "stream",
       "stream": "stdout",
       "text": [
        "(matrix([[ 0., -0., -0., ..., -0., -0., -0.],\n",
        "       [ 0.,  0., -0., ..., -0., -0., -0.],\n",
        "       [ 0.,  0.,  0., ..., -0., -0., -0.],\n",
        "       ..., \n",
        "       [ 0.,  0.,  0., ...,  0., -0., -0.],\n",
        "       [ 0.,  0.,  0., ...,  0.,  0., -0.],\n",
        "       [ 0.,  0.,  0., ...,  0.,  0.,  0.]]), matrix([[ 0., -0., -0., ..., -0., -0., -0.],\n",
        "       [ 0.,  0., -0., ..., -0., -0., -0.],\n",
        "       [ 0.,  0.,  0., ..., -0., -0., -0.],\n",
        "       ..., \n",
        "       [ 0.,  0.,  0., ...,  0., -0., -0.],\n",
        "       [ 0.,  0.,  0., ...,  0.,  0., -0.],\n",
        "       [ 0.,  0.,  0., ...,  0.,  0.,  0.]]), matrix([[ 0., -0., -0., ..., -0., -0., -0.],\n",
        "       [ 0.,  0., -0., ..., -0., -0., -0.],\n",
        "       [ 0.,  0.,  0., ..., -0., -0., -0.],\n",
        "       ..., \n",
        "       [ 0.,  0.,  0., ...,  0., -0., -0.],\n",
        "       [ 0.,  0.,  0., ...,  0.,  0., -0.],\n",
        "       [ 0.,  0.,  0., ...,  0.,  0.,  0.]]))\n"
       ]
      }
     ],
     "prompt_number": 170
    },
    {
     "cell_type": "code",
     "collapsed": true,
     "input": [
      "plsp = [prefactor*p.T*M*p for M in ls]\n",
      "print ls[0].shape\n"
     ],
     "language": "python",
     "metadata": {},
     "outputs": [
      {
       "output_type": "stream",
       "stream": "stdout",
       "text": [
        "(34, 34)\n"
       ]
      }
     ],
     "prompt_number": 186
    },
    {
     "cell_type": "code",
     "collapsed": false,
     "input": [
      "V = makeV(plsp)"
     ],
     "language": "python",
     "metadata": {},
     "outputs": [],
     "prompt_number": 187
    },
    {
     "cell_type": "code",
     "collapsed": true,
     "input": [
      "print V"
     ],
     "language": "python",
     "metadata": {},
     "outputs": [
      {
       "output_type": "stream",
       "stream": "stdout",
       "text": [
        "[[ 0.00000000+0.j          0.00000000+0.01081975j  0.00000000+0.j\n",
        "   0.00000000+0.j          0.00000000+0.j          0.01073286+0.j        ]\n",
        " [-0.00000000-0.01081975j  0.00000000+0.j          0.00000000+0.j\n",
        "   0.00000000+0.j          0.00000000+0.j          0.00000000+0.01073286j]\n",
        " [ 0.00000000+0.j          0.00000000+0.j          0.00000000+0.j\n",
        "  -0.01073286+0.j         -0.00000000-0.01073286j  0.00000000+0.j        ]\n",
        " [ 0.00000000+0.j          0.00000000+0.j         -0.01073286+0.j\n",
        "  -0.00000000+0.j         -0.00000000-0.01081975j -0.00000000+0.j        ]\n",
        " [ 0.00000000+0.j          0.00000000+0.j          0.00000000+0.01073286j\n",
        "   0.00000000+0.01081975j -0.00000000+0.j         -0.00000000+0.j        ]\n",
        " [ 0.01073286+0.j         -0.00000000-0.01073286j  0.00000000+0.j\n",
        "  -0.00000000+0.j         -0.00000000+0.j         -0.00000000+0.j        ]]\n"
       ]
      }
     ],
     "prompt_number": 188
    },
    {
     "cell_type": "code",
     "collapsed": false,
     "input": [
      "eigvals = numpy.linalg.eigvals(V)"
     ],
     "language": "python",
     "metadata": {},
     "outputs": [],
     "prompt_number": 189
    },
    {
     "cell_type": "code",
     "collapsed": false,
     "input": [
      "er = numpy.sort(eigvals.real)\n",
      "print er"
     ],
     "language": "python",
     "metadata": {},
     "outputs": [
      {
       "output_type": "stream",
       "stream": "stdout",
       "text": [
        "[-0.0215237  -0.0215237   0.01070395  0.01070395  0.01081975  0.01081975]\n"
       ]
      }
     ],
     "prompt_number": 190
    },
    {
     "cell_type": "code",
     "collapsed": false,
     "input": [
      "split = abs(.5*er[:2].sum() - .25*er[2:].sum())"
     ],
     "language": "python",
     "metadata": {},
     "outputs": [],
     "prompt_number": 191
    },
    {
     "cell_type": "code",
     "collapsed": false,
     "input": [
      "print split*eV"
     ],
     "language": "python",
     "metadata": {},
     "outputs": [
      {
       "output_type": "stream",
       "stream": "stdout",
       "text": [
        "0.878535004852\n"
       ]
      }
     ],
     "prompt_number": 192
    },
    {
     "cell_type": "code",
     "collapsed": false,
     "input": [],
     "language": "python",
     "metadata": {},
     "outputs": []
    }
   ],
   "metadata": {}
  }
 ]
}