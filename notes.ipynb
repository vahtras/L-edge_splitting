{
 "metadata": {
  "name": ""
 },
 "nbformat": 3,
 "nbformat_minor": 0,
 "worksheets": [
  {
   "cells": [
    {
     "cell_type": "code",
     "collapsed": false,
     "input": [
      "import sys\n",
      "import os\n",
      "import numpy\n",
      "\n",
      "sys.path.append(os.path.join(os.environ['HOME'], 'dev/py'))"
     ],
     "language": "python",
     "metadata": {},
     "outputs": [],
     "prompt_number": 1
    },
    {
     "cell_type": "markdown",
     "metadata": {},
     "source": [
      "**One-electron**\n",
      "\n",
      "We need to evaluate $\\langle p_{i\\beta}| l^z s^z | p_{j\\beta}\\rangle \n",
      "=  \\langle a_{i\\beta}^\\dagger l^z_{pq} s^z_{pq} a_{j\\beta}\\rangle\n",
      "=  -\\langle  {l_z}_{ji} (-1/2) \\rangle \n",
      "=  \\frac 1 2 l^z_{ji}$\n"
     ]
    },
    {
     "cell_type": "markdown",
     "metadata": {},
     "source": [
      "Since spin-coupling is now same for all components"
     ]
    },
    {
     "cell_type": "markdown",
     "metadata": {},
     "source": [
      "$ V_{ij} = \\frac 1 2 \\begin{pmatrix}  \n",
      "l^z_{ji} & (l^x + i l^y)_{ji} \\\\\n",
      "(l^x + i l^y)_{ji} & -l^z_{ji}\n",
      "\\end{pmatrix}$"
     ]
    },
    {
     "cell_type": "markdown",
     "metadata": {},
     "source": [
      "**Sulphur atom**"
     ]
    },
    {
     "cell_type": "markdown",
     "metadata": {},
     "source": [
      "Run Dalton"
     ]
    },
    {
     "cell_type": "code",
     "collapsed": true,
     "input": [
      "#!cd S && ~/dev/dalton/git/build/master/dalton -get \"AOONEINT AOPROPER SIRIUS.RST AO2SOINT\" hf S"
     ],
     "language": "python",
     "metadata": {},
     "outputs": [],
     "prompt_number": 2
    },
    {
     "cell_type": "markdown",
     "metadata": {},
     "source": [
      "mostly we will use integrals from this set. Define filenames\n"
     ]
    },
    {
     "cell_type": "code",
     "collapsed": false,
     "input": [
      "aooneint = \"S/hf_S.AOONEINT\"\n",
      "aoproper = \"S/hf_S.AOPROPER\"\n",
      "ao2soint = \"S/hf_S.AO2SOINT\""
     ],
     "language": "python",
     "metadata": {},
     "outputs": [],
     "prompt_number": 3
    },
    {
     "cell_type": "markdown",
     "metadata": {},
     "source": [
      "The default input gives singlet (3px^2 3py^2 - HF occ 32201000). \n",
      "This is triplet Sulphur (3px 3py 3pz^2) - HF occ 31102000/01100000"
     ]
    },
    {
     "cell_type": "code",
     "collapsed": true,
     "input": [
      "#!cd S && ~/dev/dalton/git/build/master/dalton -get \"SIRIUS.RST\" hf3 S"
     ],
     "language": "python",
     "metadata": {},
     "outputs": [],
     "prompt_number": 4
    },
    {
     "cell_type": "markdown",
     "metadata": {},
     "source": [
      "Another case is relaxation, consider the ionized form(3px^2 3py^2 2pz^1)-HF occ 32200000/32201000 (for x, y we need to do inner shell hole)"
     ]
    },
    {
     "cell_type": "code",
     "collapsed": true,
     "input": [
      "#!cd S && ~/dev/dalton/git/build/master/dalton -get \"SIRIUS.RST\" hfrel S"
     ],
     "language": "python",
     "metadata": {},
     "outputs": [],
     "prompt_number": 5
    },
    {
     "cell_type": "markdown",
     "metadata": {},
     "source": [
      "Now the integral is in S/hf_S.AOPROPER"
     ]
    },
    {
     "cell_type": "code",
     "collapsed": false,
     "input": [
      "from daltools import prop\n",
      "from dalmisc import sirrst"
     ],
     "language": "python",
     "metadata": {},
     "outputs": [],
     "prompt_number": 6
    },
    {
     "cell_type": "code",
     "collapsed": false,
     "input": [
      "angmom = prop.read('X1SPNORB', 'Y1SPNORB', 'Z1SPNORB', filename=aoproper)"
     ],
     "language": "python",
     "metadata": {},
     "outputs": [],
     "prompt_number": 7
    },
    {
     "cell_type": "markdown",
     "metadata": {},
     "source": [
      "Get the p-orbitals, read from SIRRST"
     ]
    },
    {
     "cell_type": "code",
     "collapsed": false,
     "input": [
      "rst = sirrst.SiriusRestart(name=\"S/hf_S.SIRIUS.RST\")\n",
      "cmo = rst.cmo"
     ],
     "language": "python",
     "metadata": {},
     "outputs": [],
     "prompt_number": 8
    },
    {
     "cell_type": "code",
     "collapsed": false,
     "input": [
      "\n",
      "rst3 = sirrst.SiriusRestart(name=\"S/hf3_S.SIRIUS.RST\")\n",
      "cmo3 = rst3.cmo"
     ],
     "language": "python",
     "metadata": {},
     "outputs": [],
     "prompt_number": 9
    },
    {
     "cell_type": "code",
     "collapsed": false,
     "input": [
      "rstrel = sirrst.SiriusRestart(name=\"S/hfrel_S.SIRIUS.RST\")\n",
      "cmorel = rstrel.cmo"
     ],
     "language": "python",
     "metadata": {},
     "outputs": [],
     "prompt_number": 10
    },
    {
     "cell_type": "code",
     "collapsed": false,
     "input": [
      "def get_ps(mo):\n",
      "    _px, _py, _pz = (1, 2, 4)\n",
      "    return mo[_px][:, 0], mo[_py][:, 0], mo[_pz][:, 0]\n",
      "\n",
      "px, py, pz = get_ps(cmo)\n",
      "px3, py3, pz3 = get_ps(cmo3)\n",
      "pxrel, pyrel, pzrel = get_ps(cmorel)\n",
      "\n",
      "#print px, py, pz\n",
      "#print px3, py3, pz3\n",
      "#print pxrel, pyrel, pzrel"
     ],
     "language": "python",
     "metadata": {},
     "outputs": [],
     "prompt_number": 11
    },
    {
     "cell_type": "code",
     "collapsed": false,
     "input": [
      "cmo0 = cmo.unblock()\n",
      "cmo03 = cmo3.unblock()\n",
      "cmo0rel = cmorel.unblock()"
     ],
     "language": "python",
     "metadata": {},
     "outputs": [],
     "prompt_number": 12
    },
    {
     "cell_type": "code",
     "collapsed": false,
     "input": [
      "x, y, z = 9, 15, 23\n",
      "p = cmo0[:, (x, y, z)]\n",
      "p3 = cmo03[:, (x, y, z)]\n",
      "prel = cmo0rel[:, (x, y, z)]\n"
     ],
     "language": "python",
     "metadata": {},
     "outputs": [],
     "prompt_number": 13
    },
    {
     "cell_type": "code",
     "collapsed": true,
     "input": [
      "#print p, p3, prel"
     ],
     "language": "python",
     "metadata": {},
     "outputs": [],
     "prompt_number": 14
    },
    {
     "cell_type": "code",
     "collapsed": false,
     "input": [
      "from scipy.constants import alpha\n",
      "prefactor = alpha**2/2\n",
      "ls = [prefactor*p.T*M*p for M in angmom]\n",
      "ls3 = [prefactor*p3.T*M*p3 for M in angmom]\n",
      "lsrel = [prefactor*prel.T*M*prel for M in angmom]\n"
     ],
     "language": "python",
     "metadata": {},
     "outputs": [],
     "prompt_number": 15
    },
    {
     "cell_type": "markdown",
     "metadata": {},
     "source": [
      "Form complex matrices"
     ]
    },
    {
     "cell_type": "code",
     "collapsed": false,
     "input": [
      "import numpy as np"
     ],
     "language": "python",
     "metadata": {},
     "outputs": [],
     "prompt_number": 16
    },
    {
     "cell_type": "code",
     "collapsed": false,
     "input": [
      "V = np.zeros((6, 6), dtype='complex', order='F')\n",
      "V3 = np.zeros((6, 6), dtype='complex', order='F')\n",
      "Vrel = np.zeros((6, 6), dtype='complex', order='F')\n"
     ],
     "language": "python",
     "metadata": {},
     "outputs": [],
     "prompt_number": 17
    },
    {
     "cell_type": "code",
     "collapsed": true,
     "input": [
      "def makeV(ls):\n",
      "    V = np.zeros((6, 6), dtype='complex', order='F')\n",
      "    V[:3, :3] = ls[2]\n",
      "    V[3:, 3:] = -ls[2]\n",
      "    V[:3, 3:] = ls[0] + 1j*ls[1]\n",
      "    V[3:, :3] = ls[0] - 1j*ls[1]\n",
      "    V *= 1j/2\n",
      "    return V\n",
      "\n",
      "\n",
      "V = makeV(ls)\n",
      "V3 = makeV(ls3)\n",
      "Vrel = makeV(lsrel)"
     ],
     "language": "python",
     "metadata": {},
     "outputs": [],
     "prompt_number": 18
    },
    {
     "cell_type": "code",
     "collapsed": true,
     "input": [
      "eigvals =  numpy.linalg.eigvals(V)\n",
      "eigvals3 =  numpy.linalg.eigvals(V3)\n",
      "eigvalsrel =  numpy.linalg.eigvals(Vrel)\n"
     ],
     "language": "python",
     "metadata": {},
     "outputs": [],
     "prompt_number": 19
    },
    {
     "cell_type": "code",
     "collapsed": true,
     "input": [
      "print eigvals.real\n",
      "print eigvals3.real\n",
      "print eigvalsrel.real\n"
     ],
     "language": "python",
     "metadata": {},
     "outputs": [
      {
       "output_type": "stream",
       "stream": "stdout",
       "text": [
        "[-0.03389175  0.01698019  0.01691156 -0.03389175  0.01691156  0.01698019]\n",
        "[-0.03388538  0.01695942 -0.03388538  0.01692596  0.01695942  0.01692596]\n",
        "[-0.03527365  0.01762048  0.01765318 -0.03527365  0.01762048  0.01765318]\n"
       ]
      }
     ],
     "prompt_number": 20
    },
    {
     "cell_type": "code",
     "collapsed": false,
     "input": [
      "eV = 27.211396132"
     ],
     "language": "python",
     "metadata": {},
     "outputs": [],
     "prompt_number": 21
    },
    {
     "cell_type": "code",
     "collapsed": false,
     "input": [
      "split = abs(eigvals[0] - .5*(eigvals[-1]+eigvals[-2]))\n",
      "print split*eV, 'eV'"
     ],
     "language": "python",
     "metadata": {},
     "outputs": [
      {
       "output_type": "stream",
       "stream": "stdout",
       "text": [
        "1.38336268014 eV\n"
       ]
      }
     ],
     "prompt_number": 22
    },
    {
     "cell_type": "code",
     "collapsed": false,
     "input": [
      "split = abs(eigvals3[0] - .5*(eigvals3[-1]+eigvals3[-2]))\n",
      "print split*eV, 'eV'"
     ],
     "language": "python",
     "metadata": {},
     "outputs": [
      {
       "output_type": "stream",
       "stream": "stdout",
       "text": [
        "1.38310259848 eV\n"
       ]
      }
     ],
     "prompt_number": 23
    },
    {
     "cell_type": "code",
     "collapsed": false,
     "input": [
      "split = abs(eigvalsrel[0] - .5*(eigvalsrel[-1]+eigvalsrel[2]))\n",
      "print split*eV, 'eV'"
     ],
     "language": "python",
     "metadata": {},
     "outputs": [
      {
       "output_type": "stream",
       "stream": "stdout",
       "text": [
        "1.44021293984 eV\n"
       ]
      }
     ],
     "prompt_number": 24
    },
    {
     "cell_type": "markdown",
     "metadata": {},
     "source": [
      "**Two-electron**"
     ]
    },
    {
     "cell_type": "code",
     "collapsed": false,
     "input": [
      "from dalmisc.twoso import fockab"
     ],
     "language": "python",
     "metadata": {},
     "outputs": [],
     "prompt_number": 25
    },
    {
     "cell_type": "markdown",
     "metadata": {},
     "source": [
      "The fock routine takes alpha- and beta densities"
     ]
    },
    {
     "cell_type": "code",
     "collapsed": false,
     "input": [
      "#print cmo"
     ],
     "language": "python",
     "metadata": {},
     "outputs": [],
     "prompt_number": 26
    },
    {
     "cell_type": "code",
     "collapsed": true,
     "input": [
      "nocc_alpha = [3, 2, 2, 0, 1, 0, 0, 0]\n",
      "nocc_beta  = [3, 2, 2, 0, 1, 0, 0, 0]\n",
      "cmoa = [ c[:, :na] for c, na in zip(cmo, nocc_alpha) ]"
     ],
     "language": "python",
     "metadata": {},
     "outputs": [],
     "prompt_number": 27
    },
    {
     "cell_type": "code",
     "collapsed": true,
     "input": [
      "#for ca in cmoa:\n",
      "#    print ca"
     ],
     "language": "python",
     "metadata": {},
     "outputs": [],
     "prompt_number": 28
    },
    {
     "cell_type": "code",
     "collapsed": false,
     "input": [
      "from daltools import dens #is there a blocked form?\n"
     ],
     "language": "python",
     "metadata": {},
     "outputs": [],
     "prompt_number": 29
    },
    {
     "cell_type": "markdown",
     "metadata": {},
     "source": [
      "Is there a blocked range selector for occupied orbitals?"
     ]
    },
    {
     "cell_type": "code",
     "collapsed": false,
     "input": [
      "cmo_occ_alpha = cmo.get_columns(nocc_alpha)\n",
      "cmo_occ_beta = cmo.get_columns(nocc_beta)"
     ],
     "language": "python",
     "metadata": {},
     "outputs": [],
     "prompt_number": 30
    },
    {
     "cell_type": "code",
     "collapsed": false,
     "input": [
      "Da = (cmo_occ_alpha*cmo_occ_alpha.T()).unblock()\n",
      "Db = (cmo_occ_alpha*cmo_occ_alpha.T()).unblock()"
     ],
     "language": "python",
     "metadata": {},
     "outputs": [],
     "prompt_number": 31
    },
    {
     "cell_type": "markdown",
     "metadata": {},
     "source": [
      "Verify"
     ]
    },
    {
     "cell_type": "code",
     "collapsed": false,
     "input": [
      "from daltools import one\n"
     ],
     "language": "python",
     "metadata": {},
     "outputs": [],
     "prompt_number": 32
    },
    {
     "cell_type": "code",
     "collapsed": true,
     "input": [
      "Sbl = one.read(filename='S/hf_S.AOONEINT').unpack()\n",
      "S = Sbl.unblock()\n",
      "#print Sbl"
     ],
     "language": "python",
     "metadata": {},
     "outputs": [],
     "prompt_number": 33
    },
    {
     "cell_type": "markdown",
     "metadata": {},
     "source": [
      "Should be 16"
     ]
    },
    {
     "cell_type": "code",
     "collapsed": false,
     "input": [
      "print (Da&S) + (Db&S)"
     ],
     "language": "python",
     "metadata": {},
     "outputs": [
      {
       "output_type": "stream",
       "stream": "stdout",
       "text": [
        "16.0\n"
       ]
      }
     ],
     "prompt_number": 34
    },
    {
     "cell_type": "code",
     "collapsed": false,
     "input": [
      "fa, fb = fockab(Da, Db, 'x', filename=ao2soint)"
     ],
     "language": "python",
     "metadata": {},
     "outputs": [],
     "prompt_number": 35
    },
    {
     "cell_type": "code",
     "collapsed": true,
     "input": [
      "#print fa - fb"
     ],
     "language": "python",
     "metadata": {},
     "outputs": [],
     "prompt_number": 36
    },
    {
     "cell_type": "markdown",
     "metadata": {},
     "source": [
      "This convention illustrates that singlet combination is zero. The fa and fb matrix should be seen as single-contraction of twoso."
     ]
    },
    {
     "cell_type": "code",
     "collapsed": false,
     "input": [
      "fabs =  [fockab(Da, Db, c, filename=ao2soint) for c in \"xyz\"]"
     ],
     "language": "python",
     "metadata": {},
     "outputs": [],
     "prompt_number": 37
    },
    {
     "cell_type": "code",
     "collapsed": false,
     "input": [
      "ls2 = [0.5*(fa - fb) for fa, fb in fabs]"
     ],
     "language": "python",
     "metadata": {},
     "outputs": [],
     "prompt_number": 38
    },
    {
     "cell_type": "markdown",
     "metadata": {},
     "source": [
      "In principle these should be added as is to one-electron"
     ]
    },
    {
     "cell_type": "code",
     "collapsed": false,
     "input": [
      "oneso = ('X1SPNORB', 'Y1SPNORB', 'Z1SPNORB')\n",
      "ls1 = prop.read(*oneso, filename=aoproper)"
     ],
     "language": "python",
     "metadata": {},
     "outputs": [],
     "prompt_number": 39
    },
    {
     "cell_type": "code",
     "collapsed": false,
     "input": [
      "ls = [one + two for one, two in zip(ls1, ls2)]"
     ],
     "language": "python",
     "metadata": {},
     "outputs": [],
     "prompt_number": 40
    },
    {
     "cell_type": "code",
     "collapsed": true,
     "input": [
      "#print ls"
     ],
     "language": "python",
     "metadata": {},
     "outputs": [],
     "prompt_number": 41
    },
    {
     "cell_type": "code",
     "collapsed": true,
     "input": [
      "plsp = [prefactor*p.T*M*p for M in ls]\n",
      "print ls[0].shape\n"
     ],
     "language": "python",
     "metadata": {},
     "outputs": [
      {
       "output_type": "stream",
       "stream": "stdout",
       "text": [
        "(34, 34)\n"
       ]
      }
     ],
     "prompt_number": 42
    },
    {
     "cell_type": "code",
     "collapsed": false,
     "input": [
      "V = makeV(plsp)"
     ],
     "language": "python",
     "metadata": {},
     "outputs": [],
     "prompt_number": 43
    },
    {
     "cell_type": "code",
     "collapsed": true,
     "input": [
      "#print V"
     ],
     "language": "python",
     "metadata": {},
     "outputs": [],
     "prompt_number": 44
    },
    {
     "cell_type": "code",
     "collapsed": false,
     "input": [
      "eigvals = numpy.linalg.eigvals(V)"
     ],
     "language": "python",
     "metadata": {},
     "outputs": [],
     "prompt_number": 45
    },
    {
     "cell_type": "code",
     "collapsed": false,
     "input": [
      "er = numpy.sort(eigvals.real)\n",
      "print er"
     ],
     "language": "python",
     "metadata": {},
     "outputs": [
      {
       "output_type": "stream",
       "stream": "stdout",
       "text": [
        "[-0.02770772 -0.02770772  0.01380775  0.01380775  0.01389997  0.01389997]\n"
       ]
      }
     ],
     "prompt_number": 46
    },
    {
     "cell_type": "code",
     "collapsed": false,
     "input": [
      "split = abs(.5*er[:2].sum() - .25*er[2:].sum())"
     ],
     "language": "python",
     "metadata": {},
     "outputs": [],
     "prompt_number": 47
    },
    {
     "cell_type": "code",
     "collapsed": false,
     "input": [
      "print split*eV"
     ],
     "language": "python",
     "metadata": {},
     "outputs": [
      {
       "output_type": "stream",
       "stream": "stdout",
       "text": [
        "1.13094858927\n"
       ]
      }
     ],
     "prompt_number": 48
    },
    {
     "cell_type": "markdown",
     "metadata": {},
     "source": [
      "A function for these steps"
     ]
    },
    {
     "cell_type": "code",
     "collapsed": false,
     "input": [
      "def two_p_split(cmo, occa, occb):\n",
      "    occupied_alpha = cmo.get_columns(occa)\n",
      "    occupied_beta = cmo.get_columns(occb)\n",
      "    \n",
      "    Da = (occupied_alpha*occupied_alpha.T()).unblock()\n",
      "    Db = (occupied_beta*occupied_alpha.T()).unblock()\n",
      "    \n",
      "    ls1 = prop.read(*oneso, filename=aoproper)\n",
      "    ls2 = [0.5*(fa - fb) for fa, fb in [fockab(Da, Db, c, filename=ao2soint) for c in \"xyz\"]]\n",
      "    \n",
      "    ls = [one + two for one, two in zip(ls1, ls2)]\n",
      "    \n",
      "    plsp = [prefactor*p.T*ls_component*p for ls_component in ls]\n",
      "    \n",
      "    V = makeV(plsp)\n",
      "    \n",
      "    eigvals = numpy.linalg.eigvals(V)\n",
      "    er = numpy.sort(eigvals.real)\n",
      "    \n",
      "    print er\n",
      "    split = abs(.5*er[:2].sum() - .25*er[2:].sum())\n",
      "    \n",
      "    return split*eV\n",
      "\n",
      "    "
     ],
     "language": "python",
     "metadata": {},
     "outputs": [],
     "prompt_number": 49
    },
    {
     "cell_type": "code",
     "collapsed": false,
     "input": [
      "two_p_split(cmo, nocc_alpha, nocc_beta)"
     ],
     "language": "python",
     "metadata": {},
     "outputs": [
      {
       "output_type": "stream",
       "stream": "stdout",
       "text": [
        "[-0.02770772 -0.02770772  0.01380775  0.01380775  0.01389997  0.01389997]\n"
       ]
      },
      {
       "metadata": {},
       "output_type": "pyout",
       "prompt_number": 50,
       "text": [
        "1.1309485892685953"
       ]
      }
     ],
     "prompt_number": 50
    },
    {
     "cell_type": "code",
     "collapsed": false,
     "input": [
      "two_p_split(cmorel, nocc_alpha, nocc_beta)"
     ],
     "language": "python",
     "metadata": {},
     "outputs": [
      {
       "output_type": "stream",
       "stream": "stdout",
       "text": [
        "[-0.02765388 -0.02765388  0.01377816  0.01377816  0.01387572  0.01387572]\n"
       ]
      },
      {
       "metadata": {},
       "output_type": "pyout",
       "prompt_number": 51,
       "text": [
        "1.1287511649406907"
       ]
      }
     ],
     "prompt_number": 51
    },
    {
     "cell_type": "code",
     "collapsed": false,
     "input": [
      "(1.1309485892685953-1.1287511649406907)/1.1287511649406907\n"
     ],
     "language": "python",
     "metadata": {},
     "outputs": [
      {
       "metadata": {},
       "output_type": "pyout",
       "prompt_number": 52,
       "text": [
        "0.0019467748040109952"
       ]
      }
     ],
     "prompt_number": 52
    },
    {
     "cell_type": "code",
     "collapsed": false,
     "input": [],
     "language": "python",
     "metadata": {},
     "outputs": []
    }
   ],
   "metadata": {}
  }
 ]
}