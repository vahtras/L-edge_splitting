{
 "metadata": {
  "name": ""
 },
 "nbformat": 3,
 "nbformat_minor": 0,
 "worksheets": [
  {
   "cells": [
    {
     "cell_type": "code",
     "collapsed": false,
     "input": [
      "import os\n",
      "import sys\n",
      "import numpy\n",
      "\n",
      "sys.path.append(os.path.join(os.environ['HOME'], 'dev/py'))"
     ],
     "language": "python",
     "metadata": {},
     "outputs": [],
     "prompt_number": 1
    },
    {
     "cell_type": "code",
     "collapsed": false,
     "input": [
      "SO_LABELS = ('X1SPNORB', 'Y1SPNORB', 'Z1SPNORB')\n",
      "eV = 1/27.211396132"
     ],
     "language": "python",
     "metadata": {},
     "outputs": [],
     "prompt_number": 2
    },
    {
     "cell_type": "code",
     "collapsed": false,
     "input": [
      "def two_p_splitting(cmo, occa, occb, ps, aoproper=\"AOPROPER\", ao2soint=\"AO2SOINT\", one_electron=False):\n",
      "    \n",
      "    SO_LABELS = ('X1SPNORB', 'Y1SPNORB', 'Z1SPNORB')\n",
      "    \n",
      "    from scipy.constants import alpha\n",
      "    prefactor = alpha**2/2\n",
      "    \n",
      "    occupied_alpha = cmo.get_columns(occa)\n",
      "    occupied_beta = cmo.get_columns(occb)\n",
      "    \n",
      "    Da = (occupied_alpha*occupied_alpha.T()).unblock()\n",
      "    Db = (occupied_beta*occupied_alpha.T()).unblock()\n",
      "    \n",
      "        \n",
      "    ls1 = prop.read(*SO_LABELS, filename=aoproper)\n",
      "    \n",
      "    if one_electron:\n",
      "        ls = ls1\n",
      "    else:\n",
      "        ls2 = [0.5*(fa - fb) for fa, fb in [twoso.fockab(Da, Db, c, filename=ao2soint) for c in \"xyz\"]]  \n",
      "        ls = [one + two for one, two in zip(ls1, ls2)]\n",
      "    \n",
      "    p = cmo.unblock()[:, ps]\n",
      "    plsp = [prefactor*p.T*ls_component*p for ls_component in ls]\n",
      "    \n",
      "    V = makeV(plsp)\n",
      "    \n",
      "    eigvals = numpy.linalg.eigvals(V)\n",
      "    er = numpy.sort(eigvals.real)\n",
      "    \n",
      "    print er\n",
      "    split = abs(.5*er[:2].sum() - .25*er[2:].sum())\n",
      "    \n",
      "    return split/eV\n",
      "\n",
      "def makeV(ls):\n",
      "    V = numpy.zeros((6, 6), dtype='complex', order='F')\n",
      "    V[:3, :3] = ls[2]\n",
      "    V[3:, 3:] = -ls[2]\n",
      "    V[:3, 3:] = ls[0] + 1j*ls[1]\n",
      "    V[3:, :3] = ls[0] - 1j*ls[1]\n",
      "    V *= 1j/2\n",
      "    return V\n",
      "\n"
     ],
     "language": "python",
     "metadata": {},
     "outputs": [],
     "prompt_number": 12
    },
    {
     "cell_type": "code",
     "collapsed": false,
     "input": [
      "from dalmisc import sirrst, twoso\n",
      "from daltools import prop"
     ],
     "language": "python",
     "metadata": {},
     "outputs": [],
     "prompt_number": 13
    },
    {
     "cell_type": "code",
     "collapsed": false,
     "input": [
      "#system specific\n",
      "mol = (\"Cystein\", \"cys\")\n",
      "mol = (\"S\", \"S\")\n",
      "aoproper = \"%s/hf_%s.AOPROPER\" % mol\n",
      "ao2soint = \"%s/hf_%s.AO2SOINT\" % mol\n",
      "sirius_rst = \"%s/hf_%s.SIRIUS.RST\" % mol\n",
      "\n",
      "nocc_alpha = [32] #[3, 2, 2, 0, 1, 0, 0, 0]\n",
      "nocc_beta  = [32] #[3, 2, 2, 0, 1, 0, 0, 0]"
     ],
     "language": "python",
     "metadata": {},
     "outputs": [],
     "prompt_number": 21
    },
    {
     "cell_type": "code",
     "collapsed": false,
     "input": [
      "!ls Cystein"
     ],
     "language": "python",
     "metadata": {},
     "outputs": [
      {
       "output_type": "stream",
       "stream": "stdout",
       "text": [
        "cys.mol\t\t hf_cys.out\t    hf.dal\t     sto3g.mol\r\n",
        "hf_cys.AO2SOINT  hf_cys.SIRIUS.RST  hf_sto3g.out\r\n",
        "hf_cys.AOPROPER  hf_cys.tar.gz\t    hf_sto3g.tar.gz\r\n"
       ]
      }
     ],
     "prompt_number": 22
    },
    {
     "cell_type": "code",
     "collapsed": false,
     "input": [
      "\n",
      "cmo = sirrst.SiriusRestart(name=sirius_rst).cmo\n"
     ],
     "language": "python",
     "metadata": {},
     "outputs": [],
     "prompt_number": 23
    },
    {
     "cell_type": "code",
     "collapsed": false,
     "input": [
      "x, y, z = 9, 15, 23\n",
      "#x, y, z = 9, 10, 11 #9, 15, 23"
     ],
     "language": "python",
     "metadata": {},
     "outputs": [],
     "prompt_number": 24
    },
    {
     "cell_type": "code",
     "collapsed": false,
     "input": [
      "print nocc_alpha, nocc_beta"
     ],
     "language": "python",
     "metadata": {},
     "outputs": [
      {
       "output_type": "stream",
       "stream": "stdout",
       "text": [
        "[32] [32]\n"
       ]
      }
     ],
     "prompt_number": 25
    },
    {
     "cell_type": "code",
     "collapsed": false,
     "input": [
      "print cmo.nrow"
     ],
     "language": "python",
     "metadata": {},
     "outputs": [
      {
       "output_type": "stream",
       "stream": "stdout",
       "text": [
        "[9 6 6 2 6 2 2 1]\n"
       ]
      }
     ],
     "prompt_number": 26
    },
    {
     "cell_type": "code",
     "collapsed": false,
     "input": [
      "two_p_splitting(cmo, nocc_alpha, nocc_beta, (x, y, z), aoproper=aoproper, ao2soint=ao2soint)"
     ],
     "language": "python",
     "metadata": {},
     "outputs": [
      {
       "ename": "AssertionError",
       "evalue": "",
       "output_type": "pyerr",
       "traceback": [
        "\u001b[0;31m---------------------------------------------------------------------------\u001b[0m\n\u001b[0;31mAssertionError\u001b[0m                            Traceback (most recent call last)",
        "\u001b[0;32m<ipython-input-27-79efa63f0698>\u001b[0m in \u001b[0;36m<module>\u001b[0;34m()\u001b[0m\n\u001b[0;32m----> 1\u001b[0;31m \u001b[0mtwo_p_splitting\u001b[0m\u001b[0;34m(\u001b[0m\u001b[0mcmo\u001b[0m\u001b[0;34m,\u001b[0m \u001b[0mnocc_alpha\u001b[0m\u001b[0;34m,\u001b[0m \u001b[0mnocc_beta\u001b[0m\u001b[0;34m,\u001b[0m \u001b[0;34m(\u001b[0m\u001b[0mx\u001b[0m\u001b[0;34m,\u001b[0m \u001b[0my\u001b[0m\u001b[0;34m,\u001b[0m \u001b[0mz\u001b[0m\u001b[0;34m)\u001b[0m\u001b[0;34m,\u001b[0m \u001b[0maoproper\u001b[0m\u001b[0;34m=\u001b[0m\u001b[0maoproper\u001b[0m\u001b[0;34m,\u001b[0m \u001b[0mao2soint\u001b[0m\u001b[0;34m=\u001b[0m\u001b[0mao2soint\u001b[0m\u001b[0;34m)\u001b[0m\u001b[0;34m\u001b[0m\u001b[0m\n\u001b[0m",
        "\u001b[0;32m<ipython-input-12-2a590d1e00a7>\u001b[0m in \u001b[0;36mtwo_p_splitting\u001b[0;34m(cmo, occa, occb, ps, aoproper, ao2soint, one_electron)\u001b[0m\n\u001b[1;32m      6\u001b[0m     \u001b[0mprefactor\u001b[0m \u001b[0;34m=\u001b[0m \u001b[0malpha\u001b[0m\u001b[0;34m**\u001b[0m\u001b[0;36m2\u001b[0m\u001b[0;34m/\u001b[0m\u001b[0;36m2\u001b[0m\u001b[0;34m\u001b[0m\u001b[0m\n\u001b[1;32m      7\u001b[0m \u001b[0;34m\u001b[0m\u001b[0m\n\u001b[0;32m----> 8\u001b[0;31m     \u001b[0moccupied_alpha\u001b[0m \u001b[0;34m=\u001b[0m \u001b[0mcmo\u001b[0m\u001b[0;34m.\u001b[0m\u001b[0mget_columns\u001b[0m\u001b[0;34m(\u001b[0m\u001b[0mocca\u001b[0m\u001b[0;34m)\u001b[0m\u001b[0;34m\u001b[0m\u001b[0m\n\u001b[0m\u001b[1;32m      9\u001b[0m     \u001b[0moccupied_beta\u001b[0m \u001b[0;34m=\u001b[0m \u001b[0mcmo\u001b[0m\u001b[0;34m.\u001b[0m\u001b[0mget_columns\u001b[0m\u001b[0;34m(\u001b[0m\u001b[0moccb\u001b[0m\u001b[0;34m)\u001b[0m\u001b[0;34m\u001b[0m\u001b[0m\n\u001b[1;32m     10\u001b[0m \u001b[0;34m\u001b[0m\u001b[0m\n",
        "\u001b[0;32m/home/olav/dev/py/daltools/util/blocked.pyc\u001b[0m in \u001b[0;36mget_columns\u001b[0;34m(self, columns_per_symmetry)\u001b[0m\n\u001b[1;32m    217\u001b[0m \u001b[0;34m\u001b[0m\u001b[0m\n\u001b[1;32m    218\u001b[0m     \u001b[0;32mdef\u001b[0m \u001b[0mget_columns\u001b[0m\u001b[0;34m(\u001b[0m\u001b[0mself\u001b[0m\u001b[0;34m,\u001b[0m \u001b[0mcolumns_per_symmetry\u001b[0m\u001b[0;34m)\u001b[0m\u001b[0;34m:\u001b[0m\u001b[0;34m\u001b[0m\u001b[0m\n\u001b[0;32m--> 219\u001b[0;31m         \u001b[0mnew\u001b[0m \u001b[0;34m=\u001b[0m \u001b[0mBlockDiagonalMatrix\u001b[0m\u001b[0;34m(\u001b[0m\u001b[0mself\u001b[0m\u001b[0;34m.\u001b[0m\u001b[0mnrow\u001b[0m\u001b[0;34m,\u001b[0m \u001b[0mcolumns_per_symmetry\u001b[0m\u001b[0;34m)\u001b[0m\u001b[0;34m\u001b[0m\u001b[0m\n\u001b[0m\u001b[1;32m    220\u001b[0m         \u001b[0;32mfor\u001b[0m \u001b[0moldblock\u001b[0m\u001b[0;34m,\u001b[0m \u001b[0mnewblock\u001b[0m\u001b[0;34m,\u001b[0m \u001b[0mcols\u001b[0m \u001b[0;32min\u001b[0m \u001b[0mzip\u001b[0m\u001b[0;34m(\u001b[0m\u001b[0mself\u001b[0m\u001b[0;34m,\u001b[0m \u001b[0mnew\u001b[0m\u001b[0;34m,\u001b[0m \u001b[0mcolumns_per_symmetry\u001b[0m\u001b[0;34m)\u001b[0m\u001b[0;34m:\u001b[0m\u001b[0;34m\u001b[0m\u001b[0m\n\u001b[1;32m    221\u001b[0m             \u001b[0;32mif\u001b[0m \u001b[0mcols\u001b[0m\u001b[0;34m:\u001b[0m\u001b[0;34m\u001b[0m\u001b[0m\n",
        "\u001b[0;32m/home/olav/dev/py/daltools/util/blocked.pyc\u001b[0m in \u001b[0;36m__init__\u001b[0;34m(self, nrow, ncol)\u001b[0m\n\u001b[1;32m      7\u001b[0m         \u001b[0;34m\"\"\" Constructur of the class.\"\"\"\u001b[0m\u001b[0;34m\u001b[0m\u001b[0m\n\u001b[1;32m      8\u001b[0m \u001b[0;34m\u001b[0m\u001b[0m\n\u001b[0;32m----> 9\u001b[0;31m         \u001b[0;32massert\u001b[0m \u001b[0;34m(\u001b[0m \u001b[0mlen\u001b[0m\u001b[0;34m(\u001b[0m\u001b[0mnrow\u001b[0m\u001b[0;34m)\u001b[0m \u001b[0;34m==\u001b[0m \u001b[0mlen\u001b[0m\u001b[0;34m(\u001b[0m\u001b[0mncol\u001b[0m\u001b[0;34m)\u001b[0m \u001b[0;34m)\u001b[0m\u001b[0;34m\u001b[0m\u001b[0m\n\u001b[0m\u001b[1;32m     10\u001b[0m         \u001b[0mself\u001b[0m\u001b[0;34m.\u001b[0m\u001b[0mnblocks\u001b[0m\u001b[0;34m=\u001b[0m\u001b[0mlen\u001b[0m\u001b[0;34m(\u001b[0m\u001b[0mnrow\u001b[0m\u001b[0;34m)\u001b[0m\u001b[0;34m\u001b[0m\u001b[0m\n\u001b[1;32m     11\u001b[0m         \u001b[0mself\u001b[0m\u001b[0;34m.\u001b[0m\u001b[0mnrow\u001b[0m\u001b[0;34m=\u001b[0m\u001b[0mnrow\u001b[0m\u001b[0;34m\u001b[0m\u001b[0m\n",
        "\u001b[0;31mAssertionError\u001b[0m: "
       ]
      }
     ],
     "prompt_number": 27
    },
    {
     "cell_type": "code",
     "collapsed": false,
     "input": [
      "cmorel = sirrst.SiriusRestart(name=\"S/hfrel_S.SIRIUS.RST\").cmo"
     ],
     "language": "python",
     "metadata": {},
     "outputs": [],
     "prompt_number": 120
    },
    {
     "cell_type": "code",
     "collapsed": false,
     "input": [
      "two_p_splitting(cmorel, nocc_alpha, nocc_beta, (x, y, z), aoproper=aoproper, ao2soint=ao2soint, one_electron=True)"
     ],
     "language": "python",
     "metadata": {},
     "outputs": [
      {
       "ename": "AssertionError",
       "evalue": "",
       "output_type": "pyerr",
       "traceback": [
        "\u001b[0;31m---------------------------------------------------------------------------\u001b[0m\n\u001b[0;31mAssertionError\u001b[0m                            Traceback (most recent call last)",
        "\u001b[0;32m<ipython-input-140-cedfe1d3eec3>\u001b[0m in \u001b[0;36m<module>\u001b[0;34m()\u001b[0m\n\u001b[0;32m----> 1\u001b[0;31m \u001b[0mtwo_p_splitting\u001b[0m\u001b[0;34m(\u001b[0m\u001b[0mcmorel\u001b[0m\u001b[0;34m,\u001b[0m \u001b[0mnocc_alpha\u001b[0m\u001b[0;34m,\u001b[0m \u001b[0mnocc_beta\u001b[0m\u001b[0;34m,\u001b[0m \u001b[0;34m(\u001b[0m\u001b[0mx\u001b[0m\u001b[0;34m,\u001b[0m \u001b[0my\u001b[0m\u001b[0;34m,\u001b[0m \u001b[0mz\u001b[0m\u001b[0;34m)\u001b[0m\u001b[0;34m,\u001b[0m \u001b[0maoproper\u001b[0m\u001b[0;34m=\u001b[0m\u001b[0maoproper\u001b[0m\u001b[0;34m,\u001b[0m \u001b[0mao2soint\u001b[0m\u001b[0;34m=\u001b[0m\u001b[0mao2soint\u001b[0m\u001b[0;34m,\u001b[0m \u001b[0mone_electron\u001b[0m\u001b[0;34m=\u001b[0m\u001b[0mTrue\u001b[0m\u001b[0;34m)\u001b[0m\u001b[0;34m\u001b[0m\u001b[0m\n\u001b[0m",
        "\u001b[0;32m<ipython-input-134-2a590d1e00a7>\u001b[0m in \u001b[0;36mtwo_p_splitting\u001b[0;34m(cmo, occa, occb, ps, aoproper, ao2soint, one_electron)\u001b[0m\n\u001b[1;32m      6\u001b[0m     \u001b[0mprefactor\u001b[0m \u001b[0;34m=\u001b[0m \u001b[0malpha\u001b[0m\u001b[0;34m**\u001b[0m\u001b[0;36m2\u001b[0m\u001b[0;34m/\u001b[0m\u001b[0;36m2\u001b[0m\u001b[0;34m\u001b[0m\u001b[0m\n\u001b[1;32m      7\u001b[0m \u001b[0;34m\u001b[0m\u001b[0m\n\u001b[0;32m----> 8\u001b[0;31m     \u001b[0moccupied_alpha\u001b[0m \u001b[0;34m=\u001b[0m \u001b[0mcmo\u001b[0m\u001b[0;34m.\u001b[0m\u001b[0mget_columns\u001b[0m\u001b[0;34m(\u001b[0m\u001b[0mocca\u001b[0m\u001b[0;34m)\u001b[0m\u001b[0;34m\u001b[0m\u001b[0m\n\u001b[0m\u001b[1;32m      9\u001b[0m     \u001b[0moccupied_beta\u001b[0m \u001b[0;34m=\u001b[0m \u001b[0mcmo\u001b[0m\u001b[0;34m.\u001b[0m\u001b[0mget_columns\u001b[0m\u001b[0;34m(\u001b[0m\u001b[0moccb\u001b[0m\u001b[0;34m)\u001b[0m\u001b[0;34m\u001b[0m\u001b[0m\n\u001b[1;32m     10\u001b[0m \u001b[0;34m\u001b[0m\u001b[0m\n",
        "\u001b[0;32m/home/vahtras/dev/py/daltools/util/blocked.pyc\u001b[0m in \u001b[0;36mget_columns\u001b[0;34m(self, columns_per_symmetry)\u001b[0m\n\u001b[1;32m    217\u001b[0m \u001b[0;34m\u001b[0m\u001b[0m\n\u001b[1;32m    218\u001b[0m     \u001b[0;32mdef\u001b[0m \u001b[0mget_columns\u001b[0m\u001b[0;34m(\u001b[0m\u001b[0mself\u001b[0m\u001b[0;34m,\u001b[0m \u001b[0mcolumns_per_symmetry\u001b[0m\u001b[0;34m)\u001b[0m\u001b[0;34m:\u001b[0m\u001b[0;34m\u001b[0m\u001b[0m\n\u001b[0;32m--> 219\u001b[0;31m         \u001b[0mnew\u001b[0m \u001b[0;34m=\u001b[0m \u001b[0mBlockDiagonalMatrix\u001b[0m\u001b[0;34m(\u001b[0m\u001b[0mself\u001b[0m\u001b[0;34m.\u001b[0m\u001b[0mnrow\u001b[0m\u001b[0;34m,\u001b[0m \u001b[0mcolumns_per_symmetry\u001b[0m\u001b[0;34m)\u001b[0m\u001b[0;34m\u001b[0m\u001b[0m\n\u001b[0m\u001b[1;32m    220\u001b[0m         \u001b[0;32mfor\u001b[0m \u001b[0moldblock\u001b[0m\u001b[0;34m,\u001b[0m \u001b[0mnewblock\u001b[0m\u001b[0;34m,\u001b[0m \u001b[0mcols\u001b[0m \u001b[0;32min\u001b[0m \u001b[0mzip\u001b[0m\u001b[0;34m(\u001b[0m\u001b[0mself\u001b[0m\u001b[0;34m,\u001b[0m \u001b[0mnew\u001b[0m\u001b[0;34m,\u001b[0m \u001b[0mcolumns_per_symmetry\u001b[0m\u001b[0;34m)\u001b[0m\u001b[0;34m:\u001b[0m\u001b[0;34m\u001b[0m\u001b[0m\n\u001b[1;32m    221\u001b[0m             \u001b[0;32mif\u001b[0m \u001b[0mcols\u001b[0m\u001b[0;34m:\u001b[0m\u001b[0;34m\u001b[0m\u001b[0m\n",
        "\u001b[0;32m/home/vahtras/dev/py/daltools/util/blocked.pyc\u001b[0m in \u001b[0;36m__init__\u001b[0;34m(self, nrow, ncol)\u001b[0m\n\u001b[1;32m      7\u001b[0m         \u001b[0;34m\"\"\" Constructur of the class.\"\"\"\u001b[0m\u001b[0;34m\u001b[0m\u001b[0m\n\u001b[1;32m      8\u001b[0m \u001b[0;34m\u001b[0m\u001b[0m\n\u001b[0;32m----> 9\u001b[0;31m         \u001b[0;32massert\u001b[0m \u001b[0;34m(\u001b[0m \u001b[0mlen\u001b[0m\u001b[0;34m(\u001b[0m\u001b[0mnrow\u001b[0m\u001b[0;34m)\u001b[0m \u001b[0;34m==\u001b[0m \u001b[0mlen\u001b[0m\u001b[0;34m(\u001b[0m\u001b[0mncol\u001b[0m\u001b[0;34m)\u001b[0m \u001b[0;34m)\u001b[0m\u001b[0;34m\u001b[0m\u001b[0m\n\u001b[0m\u001b[1;32m     10\u001b[0m         \u001b[0mself\u001b[0m\u001b[0;34m.\u001b[0m\u001b[0mnblocks\u001b[0m\u001b[0;34m=\u001b[0m\u001b[0mlen\u001b[0m\u001b[0;34m(\u001b[0m\u001b[0mnrow\u001b[0m\u001b[0;34m)\u001b[0m\u001b[0;34m\u001b[0m\u001b[0m\n\u001b[1;32m     11\u001b[0m         \u001b[0mself\u001b[0m\u001b[0;34m.\u001b[0m\u001b[0mnrow\u001b[0m\u001b[0;34m=\u001b[0m\u001b[0mnrow\u001b[0m\u001b[0;34m\u001b[0m\u001b[0m\n",
        "\u001b[0;31mAssertionError\u001b[0m: "
       ]
      }
     ],
     "prompt_number": 140
    },
    {
     "cell_type": "code",
     "collapsed": false,
     "input": [],
     "language": "python",
     "metadata": {},
     "outputs": []
    }
   ],
   "metadata": {}
  }
 ]
}