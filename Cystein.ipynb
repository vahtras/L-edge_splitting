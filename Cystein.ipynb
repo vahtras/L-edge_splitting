{
 "metadata": {
  "name": ""
 },
 "nbformat": 3,
 "nbformat_minor": 0,
 "worksheets": [
  {
   "cells": [
    {
     "cell_type": "markdown",
     "metadata": {},
     "source": []
    },
    {
     "cell_type": "code",
     "collapsed": false,
     "input": [
      "import sys\n",
      "import os\n",
      "sys.path.append(os.path.join(os.environ['HOME'], 'dev/py'))\n"
     ],
     "language": "python",
     "metadata": {},
     "outputs": [],
     "prompt_number": 1
    },
    {
     "cell_type": "code",
     "collapsed": false,
     "input": [
      "!(cd Cystein;~/dev/dalton/git/build/master/dalton -N 8 -get \"AOONEINT SIRIFC SIRIUS.RST\" hf cys)"
     ],
     "language": "python",
     "metadata": {},
     "outputs": [
      {
       "output_type": "stream",
       "stream": "stdout",
       "text": [
        "DALTON_TMPDIR not defined by user.\r\n",
        " Guessing /tmp is appropriate scratch directory, and DALTON_TMPDIR is set to this directory\r\n",
        "\r\n",
        "   ***************************************** \r\n",
        "   **** OUTPUT FROM DALTON SHELL SCRIPT **** \r\n",
        "   ***************************************** \r\n",
        "\r\n",
        "   DALTON release 2014.0\r\n",
        "\r\n",
        "   Invocation: /home/vahtras/dev/dalton/git/build/master/dalton -N 8 -get AOONEINT SIRIFC SIRIUS.RST hf cys\r\n",
        "\r\n",
        "   tor 11 dec 2014 11:06:17 CET\r\n",
        "\r\n",
        "   Calculation: hf_cys  (input files: hf.dal and cys.mol)\r\n",
        "   PID        : 8692\r\n",
        "   Input dir  : /home/vahtras/proj/L-edge_splitting/Cystein\r\n",
        "   Scratch dir: /tmp/DALTON_scratch_vahtras/hf_cys_8692\r\n",
        "\r\n",
        "\r\n",
        "INFO : OMP_NUM_THREADS set to 1 because it was not defined by user\r\n",
        "INFO : and the cores are probably used by MPI\r\n",
        "\r\n"
       ]
      },
      {
       "output_type": "stream",
       "stream": "stdout",
       "text": [
        "\r\n",
        " output from the communication group generator:\r\n",
        "   1 intra-node group has been built.\r\n",
        "\r\n",
        "\r\n",
        " DALTON: default work memory size used.            64000000\r\n",
        "\r\n",
        " DALTON: master work memory size also used for slaves.            64000000\r\n",
        "\r\n",
        " Work memory size (LMWORK+2):    64000002 =  488.28 megabytes; node   0\r\n",
        "\r\n",
        "   0: Directories for basis set searches:\r\n",
        "     /home/vahtras/proj/L-edge_splitting/Cystein:/home/vahtras/dev/dalton/git/build/master/basis\r\n",
        "\r\n",
        " Work memory size (LMWORK+2):    64000002 =  488.28 megabytes; node   1\r\n",
        "\r\n",
        "   1: Directories for basis set searches:\r\n",
        "     /home/vahtras/proj/L-edge_splitting/Cystein:/home/vahtras/dev/dalton/git/build/master/basis\r\n"
       ]
      },
      {
       "output_type": "stream",
       "stream": "stdout",
       "text": [
        "Backup: renaming /home/vahtras/proj/L-edge_splitting/Cystein/hf_cys.tar.gz.0 to /home/vahtras/proj/L-edge_splitting/Cystein/hf_cys.tar.gz.1\r\n",
        "Backup: renaming /home/vahtras/proj/L-edge_splitting/Cystein/hf_cys.tar.gz to /home/vahtras/proj/L-edge_splitting/Cystein/hf_cys.tar.gz.0\r\n",
        "hf_cys.tar.gz has been copied to /home/vahtras/proj/L-edge_splitting/Cystein\r\n",
        "copying AOONEINT back from scratch directory\r\n",
        "copying SIRIFC back from scratch directory\r\n",
        "copying SIRIUS.RST back from scratch directory\r\n",
        "Backup: renaming /home/vahtras/proj/L-edge_splitting/Cystein/hf_cys.out.0 to /home/vahtras/proj/L-edge_splitting/Cystein/hf_cys.out.1\r\n",
        "Backup: renaming /home/vahtras/proj/L-edge_splitting/Cystein/hf_cys.out to /home/vahtras/proj/L-edge_splitting/Cystein/hf_cys.out.0\r\n",
        "----------------------------------------------------------\r\n",
        "1 informational messages have been issued by Dalton,\r\n",
        "output from 'grep -n INFO'  (max 10 lines):\r\n",
        "591:    INFORMATION: Switched to \"new\" integral transformation (from 1988 ;-) )\r\n",
        "\r\n",
        "   tor 11 dec 2014 11:24:03 CET\r\n",
        "   ***************************************** \r\n"
       ]
      }
     ],
     "prompt_number": 4
    },
    {
     "cell_type": "code",
     "collapsed": false,
     "input": [],
     "language": "python",
     "metadata": {},
     "outputs": []
    }
   ],
   "metadata": {}
  }
 ]
}