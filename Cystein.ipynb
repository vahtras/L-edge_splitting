{
 "metadata": {
  "name": ""
 },
 "nbformat": 3,
 "nbformat_minor": 0,
 "worksheets": [
  {
   "cells": [
    {
     "cell_type": "markdown",
     "metadata": {},
     "source": []
    },
    {
     "cell_type": "code",
     "collapsed": false,
     "input": [
      "import sys\n",
      "import os\n",
      "sys.path.append(os.path.join(os.environ['HOME'], 'dev/py'))\n"
     ],
     "language": "python",
     "metadata": {},
     "outputs": [],
     "prompt_number": 2
    },
    {
     "cell_type": "code",
     "collapsed": false,
     "input": [
      "!(cd Cystein;~/dev/dalton/git/build/master/dalton  -get \"AOONEINT SIRIFC SIRIUS.RST AO2SOINT\" hf sto3g)"
     ],
     "language": "python",
     "metadata": {},
     "outputs": [
      {
       "output_type": "stream",
       "stream": "stdout",
       "text": [
        "DALTON_TMPDIR not defined by user.\r\n",
        " Guessing /tmp is appropriate scratch directory, and DALTON_TMPDIR is set to this directory\r\n",
        "\r\n",
        "   ******************************************* \r\n",
        "   **** OUTPUT FROM DALTON SHELL SCRIPT\r\n",
        "   ******************************************* \r\n",
        "\r\n",
        "   DALTON release 2015.alpha\r\n",
        "\r\n",
        "   Invocation: /home/vahtras/dev/dalton/git/build/master/dalton -get AOONEINT SIRIFC SIRIUS.RST AO2SOINT hf sto3g\r\n",
        "\r\n",
        "   tis 20 jan 2015 15:21:06 CET\r\n",
        "\r\n",
        "   Calculation: hf_sto3g  (input files: hf.dal and sto3g.mol)\r\n",
        "   PID        : 13948\r\n",
        "   Input dir  : /home/vahtras/proj/L-edge_splitting/Cystein\r\n",
        "   Scratch dir: /tmp/DALTON_scratch_vahtras/hf_sto3g_13948\r\n",
        "\r\n",
        "\r\n",
        " INFO : OMP_NUM_THREADS is not defined by the user, and default values will be assumed:\r\n",
        " INFO : gnu and intel compilers defaults to all available cores, \r\n",
        " INFO : whereas portland compilers defaults to one\r\n",
        "\r\n"
       ]
      },
      {
       "output_type": "stream",
       "stream": "stdout",
       "text": [
        "\r\n",
        " DALTON: default work memory size used.            64000000\r\n",
        "\r\n",
        " Work memory size (LMWORK+2):    64000002 =  488.28 megabytes; node   0\r\n",
        "\r\n",
        "   0: Directories for basis set searches:\r\n",
        "     /home/vahtras/proj/L-edge_splitting/Cystein:/home/vahtras/dev/dalton/git/build/master/basis\r\n"
       ]
      },
      {
       "output_type": "stream",
       "stream": "stdout",
       "text": [
        "Backup: renaming /home/vahtras/proj/L-edge_splitting/Cystein/hf_sto3g.tar.gz.2 to /home/vahtras/proj/L-edge_splitting/Cystein/hf_sto3g.tar.gz.3\r\n",
        "Backup: renaming /home/vahtras/proj/L-edge_splitting/Cystein/hf_sto3g.tar.gz.1 to /home/vahtras/proj/L-edge_splitting/Cystein/hf_sto3g.tar.gz.2\r\n",
        "Backup: renaming /home/vahtras/proj/L-edge_splitting/Cystein/hf_sto3g.tar.gz.0 to /home/vahtras/proj/L-edge_splitting/Cystein/hf_sto3g.tar.gz.1\r\n",
        "Backup: renaming /home/vahtras/proj/L-edge_splitting/Cystein/hf_sto3g.tar.gz to /home/vahtras/proj/L-edge_splitting/Cystein/hf_sto3g.tar.gz.0\r\n",
        "hf_sto3g.tar.gz has been copied to /home/vahtras/proj/L-edge_splitting/Cystein\r\n",
        "copying AOONEINT back from scratch directory\r\n",
        "copying SIRIFC back from scratch directory\r\n",
        "copying SIRIUS.RST back from scratch directory\r\n",
        "copying AO2SOINT back from scratch directory\r\n"
       ]
      },
      {
       "output_type": "stream",
       "stream": "stdout",
       "text": [
        "Backup: renaming /home/vahtras/proj/L-edge_splitting/Cystein/hf_sto3g.out.2 to /home/vahtras/proj/L-edge_splitting/Cystein/hf_sto3g.out.3\r\n",
        "Backup: renaming /home/vahtras/proj/L-edge_splitting/Cystein/hf_sto3g.out.1 to /home/vahtras/proj/L-edge_splitting/Cystein/hf_sto3g.out.2\r\n",
        "Backup: renaming /home/vahtras/proj/L-edge_splitting/Cystein/hf_sto3g.out.0 to /home/vahtras/proj/L-edge_splitting/Cystein/hf_sto3g.out.1\r\n",
        "Backup: renaming /home/vahtras/proj/L-edge_splitting/Cystein/hf_sto3g.out to /home/vahtras/proj/L-edge_splitting/Cystein/hf_sto3g.out.0\r\n"
       ]
      },
      {
       "output_type": "stream",
       "stream": "stdout",
       "text": [
        "\r\n",
        "   tis 20 jan 2015 15:21:11 CET\r\n",
        "   ***************************************** \r\n"
       ]
      }
     ],
     "prompt_number": 7
    },
    {
     "cell_type": "code",
     "collapsed": false,
     "input": [],
     "language": "python",
     "metadata": {},
     "outputs": []
    }
   ],
   "metadata": {}
  }
 ]
}