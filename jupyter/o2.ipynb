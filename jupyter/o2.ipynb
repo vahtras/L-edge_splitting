{
 "metadata": {
  "name": ""
 },
 "nbformat": 3,
 "nbformat_minor": 0,
 "worksheets": [
  {
   "cells": [
    {
     "cell_type": "code",
     "collapsed": false,
     "input": [
      "!mkdir o2\n"
     ],
     "language": "python",
     "metadata": {},
     "outputs": []
    },
    {
     "cell_type": "code",
     "collapsed": false,
     "input": [
      "with open(\"o2/hf.dal\", 'w') as dal:\n",
      "    dal.write(\"\"\"**DALTON\n",
      ".RUN WAVE\n",
      "**INTEGRAL\n",
      ".SPIN-ORBIT\n",
      ".PROPRI\n",
      "**WAVE FUNCTION\n",
      ".HF\n",
      ".INTERFACE\n",
      "*PRINT\n",
      ".CMOPRI\n",
      "**END OF\n",
      "\"\"\")"
     ],
     "language": "python",
     "metadata": {},
     "outputs": []
    },
    {
     "cell_type": "code",
     "collapsed": false,
     "input": [
      "with open(\"o2/o2.mol\", 'w') as mol:\n",
      "    mol.write(\"\"\"ATOMBASIS\n",
      "Energy calculation without symmetry\n",
      "Basis set specified with ATOMBASIS\n",
      "    1    \n",
      "        8.    2      Basis=STO-3G\n",
      "O         0.0 0.0 -1.2249058930 \n",
      "O         0.0 0.0 1.2249058930 \n",
      "\"\"\")\n",
      "\n",
      "\n",
      "\n"
     ],
     "language": "python",
     "metadata": {},
     "outputs": []
    },
    {
     "cell_type": "code",
     "collapsed": true,
     "input": [
      "!(cd o2; ~/dev/dalton/git/build/Dalton2013_release/dalton -get \"AOONEINT SIRIFC\" hf o2)"
     ],
     "language": "python",
     "metadata": {},
     "outputs": []
    },
    {
     "cell_type": "code",
     "collapsed": false,
     "input": [
      "!cat o2/hf_o2.out"
     ],
     "language": "python",
     "metadata": {},
     "outputs": []
    },
    {
     "cell_type": "code",
     "collapsed": false,
     "input": [
      "\n",
      "\n",
      "import sys\n",
      "import os\n",
      "sys.path.append(os.path.join(os.environ['HOME'], 'dev/py'))\n"
     ],
     "language": "python",
     "metadata": {},
     "outputs": []
    },
    {
     "cell_type": "code",
     "collapsed": false,
     "input": [
      "from daltools import sirifc"
     ],
     "language": "python",
     "metadata": {},
     "outputs": []
    },
    {
     "cell_type": "code",
     "collapsed": false,
     "input": [
      "cmo = sirifc.sirifc(name='o2/hf_o2.SIRIFC').cmo"
     ],
     "language": "python",
     "metadata": {},
     "outputs": []
    },
    {
     "cell_type": "code",
     "collapsed": false,
     "input": [
      "from daltools import one"
     ],
     "language": "python",
     "metadata": {},
     "outputs": []
    },
    {
     "cell_type": "code",
     "collapsed": false,
     "input": [
      "S = one.read(label='OVERLAP', filename='o2/hf_o2.AOONEINT')"
     ],
     "language": "python",
     "metadata": {},
     "outputs": []
    },
    {
     "cell_type": "code",
     "collapsed": false,
     "input": [
      "print S"
     ],
     "language": "python",
     "metadata": {},
     "outputs": []
    },
    {
     "cell_type": "code",
     "collapsed": false,
     "input": [
      "print cmo.T()*S*cmo"
     ],
     "language": "python",
     "metadata": {},
     "outputs": []
    },
    {
     "cell_type": "code",
     "collapsed": false,
     "input": [],
     "language": "python",
     "metadata": {},
     "outputs": []
    },
    {
     "cell_type": "code",
     "collapsed": false,
     "input": [],
     "language": "python",
     "metadata": {},
     "outputs": []
    }
   ],
   "metadata": {}
  }
 ]
}