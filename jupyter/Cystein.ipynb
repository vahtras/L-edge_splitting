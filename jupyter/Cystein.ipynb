{
 "cells": [
  {
   "cell_type": "code",
   "execution_count": 1,
   "metadata": {
    "collapsed": false
   },
   "outputs": [],
   "source": [
    "import os\n",
    "import sys\n",
    "import numpy\n",
    "\n",
    "sys.path.append(os.path.join(os.environ['HOME'], 'dev/py'))"
   ]
  },
  {
   "cell_type": "code",
   "execution_count": 2,
   "metadata": {
    "collapsed": false
   },
   "outputs": [],
   "source": [
    "SO_LABELS = ('X1SPNORB', 'Y1SPNORB', 'Z1SPNORB')\n",
    "eV = 1/27.211396132"
   ]
  },
  {
   "cell_type": "code",
   "execution_count": 3,
   "metadata": {
    "collapsed": false
   },
   "outputs": [],
   "source": [
    "def two_p_splitting(cmo, occa, occb, ps, aoproper=\"AOPROPER\", ao2soint=\"AO2SOINT\", one_electron=False):\n",
    "    \n",
    "    SO_LABELS = ('X1SPNORB', 'Y1SPNORB', 'Z1SPNORB')\n",
    "    \n",
    "    from scipy.constants import alpha\n",
    "    prefactor = alpha**2/2\n",
    "    \n",
    "    occupied_alpha = cmo.get_columns(occa)\n",
    "    occupied_beta = cmo.get_columns(occb)\n",
    "    \n",
    "    Da = (occupied_alpha*occupied_alpha.T()).unblock()\n",
    "    Db = (occupied_beta*occupied_alpha.T()).unblock()\n",
    "    \n",
    "        \n",
    "    ls1 = prop.read(*SO_LABELS, filename=aoproper)\n",
    "    \n",
    "    if one_electron:\n",
    "        ls = ls1\n",
    "    else:\n",
    "        ls2 = [0.5*(fa - fb) for fa, fb in [twoso.fockab(Da, Db, c, filename=ao2soint) for c in \"xyz\"]]  \n",
    "        ls = [one + two for one, two in zip(ls1, ls2)]\n",
    "    \n",
    "    p = cmo.unblock()[:, ps]\n",
    "    plsp = [prefactor*p.T*ls_component*p for ls_component in ls]\n",
    "    \n",
    "    V = makeV(plsp)\n",
    "    \n",
    "    eigvals = numpy.linalg.eigvals(V)\n",
    "    er = numpy.sort(eigvals.real)\n",
    "    \n",
    "    print er\n",
    "    split = abs(.5*er[:2].sum() - .25*er[2:].sum())\n",
    "    \n",
    "    return split/eV\n",
    "\n",
    "def makeV(ls):\n",
    "    V = numpy.zeros((6, 6), dtype='complex', order='F')\n",
    "    V[:3, :3] = ls[2]\n",
    "    V[3:, 3:] = -ls[2]\n",
    "    V[:3, 3:] = ls[0] + 1j*ls[1]\n",
    "    V[3:, :3] = ls[0] - 1j*ls[1]\n",
    "    V *= 1j/2\n",
    "    return V\n",
    "\n"
   ]
  },
  {
   "cell_type": "code",
   "execution_count": 4,
   "metadata": {
    "collapsed": false
   },
   "outputs": [],
   "source": [
    "from dalmisc import sirrst, twoso\n",
    "from daltools import prop"
   ]
  },
  {
   "cell_type": "code",
   "execution_count": 11,
   "metadata": {
    "collapsed": false
   },
   "outputs": [],
   "source": [
    "#system specific\n",
    "mol = (\"Cystein\", \"cys\")\n",
    "#mol = (\"S\", \"S\")\n",
    "aoproper = \"%s/hf_%s.AOPROPER\" % mol\n",
    "ao2soint = \"%s/hf_%s.AO2SOINT\" % mol\n",
    "sirius_rst = \"%s/hf_%s.SIRIUS.RST\" % mol\n",
    "\n",
    "nocc_alpha = [32] #[3, 2, 2, 0, 1, 0, 0, 0]\n",
    "nocc_beta  = [32] #[3, 2, 2, 0, 1, 0, 0, 0]"
   ]
  },
  {
   "cell_type": "code",
   "execution_count": 12,
   "metadata": {
    "collapsed": false
   },
   "outputs": [
    {
     "name": "stdout",
     "output_type": "stream",
     "text": [
      "AOPROPER\t      int2_sto3g.tar.gz\t\t  lr_cc-pVDZ.tar.gz\r\n",
      "cc-pVDZ.mol\t      int_cc-pVDZ.out\t\t  lr_cc-pVTZ.out\r\n",
      "cc-pVTZ.mol\t      int_cc-pVDZ.tar.gz\t  lr_cc-pVTZ.tar.gz\r\n",
      "hf_cc-pVDZ.hso\t      int_cc-pVTZ.AO2SOINT\t  lr.dal\r\n",
      "hf_cc-pVDZ.hso1       int_cc-pVTZ.master.out\t  lr_sto3g.AO2SOINT\r\n",
      "hf_cc-pVDZ.hso2       int_cc-pVTZ.out\t\t  lr_sto3g.master.AO2SOINT\r\n",
      "hf_cc-pVDZ.out\t      int_cc-pVTZ.tar.gz\t  lr_sto3g.master.debug.out\r\n",
      "hf_cc-pVDZ.tar.gz     int.dal\t\t\t  lr_sto3g.master.out\r\n",
      "hf_cc-pVTZ.hso1       int_sto3g.master.debug.out  lr_sto3g.out\r\n",
      "hf_cc-pVTZ.out\t      int_sto3g.master.out\t  lr_sto3g.so255.AO2SOINT\r\n",
      "hf_cc-pVTZ.tar.gz     int_sto3g.so000.out\t  lr_sto3g.so255.out\r\n",
      "hf.dal\t\t      int_sto3g.so255.out\t  lr_sto3g.tar.gz\r\n",
      "hf_sto3g.AOPROPER     int_sto3g.tar.gz\t\t  peaksplit24.py\r\n",
      "hf_sto3g.hso\t      lr1.dal\t\t\t  shield2.dal\r\n",
      "hf_sto3g.hso1\t      lr1_sto3g.out\t\t  shield2_sto3g.so255.out\r\n",
      "hf_sto3g.hso2\t      lr1_sto3g.tar.gz\t\t  shield2_sto3g.tar.gz\r\n",
      "hf_sto3g.out\t      lr2.dal\t\t\t  shield.dal\r\n",
      "hf_sto3g.tar.gz       lr2_sto3g.so255.out\t  shield_sto3g.so255.out\r\n",
      "int2.dal\t      lr2_sto3g.tar.gz\t\t  shield_sto3g.tar.gz\r\n",
      "int2_sto3g.so255.out  lr_cc-pVDZ.out\t\t  sto3g.mol\r\n"
     ]
    }
   ],
   "source": [
    "!ls Cystein"
   ]
  },
  {
   "cell_type": "code",
   "execution_count": 13,
   "metadata": {
    "collapsed": false
   },
   "outputs": [
    {
     "name": "stdout",
     "output_type": "stream",
     "text": [
      "\n",
      "daltools.util.unformatted.SiriusRestart: file Cystein/hf_cys.SIRIUS.RST not found\n",
      "\n"
     ]
    },
    {
     "ename": "IOError",
     "evalue": "",
     "output_type": "error",
     "traceback": [
      "\u001b[0;31m---------------------------------------------------------------------------\u001b[0m\n\u001b[0;31mIOError\u001b[0m                                   Traceback (most recent call last)",
      "\u001b[0;32m<ipython-input-13-97bab771b0f8>\u001b[0m in \u001b[0;36m<module>\u001b[0;34m()\u001b[0m\n\u001b[1;32m      1\u001b[0m \u001b[0;34m\u001b[0m\u001b[0m\n\u001b[0;32m----> 2\u001b[0;31m \u001b[0mcmo\u001b[0m \u001b[0;34m=\u001b[0m \u001b[0msirrst\u001b[0m\u001b[0;34m.\u001b[0m\u001b[0mSiriusRestart\u001b[0m\u001b[0;34m(\u001b[0m\u001b[0mname\u001b[0m\u001b[0;34m=\u001b[0m\u001b[0msirius_rst\u001b[0m\u001b[0;34m)\u001b[0m\u001b[0;34m.\u001b[0m\u001b[0mcmo\u001b[0m\u001b[0;34m\u001b[0m\u001b[0m\n\u001b[0m",
      "\u001b[0;32m/home/olav/dev/py/dalmisc/sirrst.pyc\u001b[0m in \u001b[0;36m__init__\u001b[0;34m(self, name)\u001b[0m\n\u001b[1;32m      6\u001b[0m \u001b[0;32mclass\u001b[0m \u001b[0mSiriusRestart\u001b[0m\u001b[0;34m(\u001b[0m\u001b[0munformatted\u001b[0m\u001b[0;34m.\u001b[0m\u001b[0mFortranBinary\u001b[0m\u001b[0;34m)\u001b[0m\u001b[0;34m:\u001b[0m\u001b[0;34m\u001b[0m\u001b[0m\n\u001b[1;32m      7\u001b[0m     \u001b[0;32mdef\u001b[0m \u001b[0m__init__\u001b[0m\u001b[0;34m(\u001b[0m\u001b[0mself\u001b[0m\u001b[0;34m,\u001b[0m \u001b[0mname\u001b[0m\u001b[0;34m=\u001b[0m\u001b[0;34m\"SIRIUS.RST\"\u001b[0m\u001b[0;34m)\u001b[0m\u001b[0;34m:\u001b[0m\u001b[0;34m\u001b[0m\u001b[0m\n\u001b[0;32m----> 8\u001b[0;31m         \u001b[0munformatted\u001b[0m\u001b[0;34m.\u001b[0m\u001b[0mFortranBinary\u001b[0m\u001b[0;34m.\u001b[0m\u001b[0m__init__\u001b[0m\u001b[0;34m(\u001b[0m\u001b[0mself\u001b[0m\u001b[0;34m,\u001b[0m \u001b[0mname\u001b[0m\u001b[0;34m)\u001b[0m\u001b[0;34m\u001b[0m\u001b[0m\n\u001b[0m\u001b[1;32m      9\u001b[0m         \u001b[0mself\u001b[0m\u001b[0;34m.\u001b[0m\u001b[0mbasinfo\u001b[0m \u001b[0;34m=\u001b[0m \u001b[0mBasInfo\u001b[0m\u001b[0;34m(\u001b[0m\u001b[0mname\u001b[0m\u001b[0;34m)\u001b[0m\u001b[0;34m\u001b[0m\u001b[0m\n\u001b[1;32m     10\u001b[0m         \u001b[0mself\u001b[0m\u001b[0;34m.\u001b[0m\u001b[0mcmo\u001b[0m \u001b[0;34m=\u001b[0m \u001b[0mself\u001b[0m\u001b[0;34m.\u001b[0m\u001b[0mgetcmo\u001b[0m\u001b[0;34m(\u001b[0m\u001b[0;34m)\u001b[0m\u001b[0;34m\u001b[0m\u001b[0m\n",
      "\u001b[0;32m/home/olav/dev/py/daltools/util/unformatted.pyc\u001b[0m in \u001b[0;36m__init__\u001b[0;34m(self, name, status, label)\u001b[0m\n\u001b[1;32m     17\u001b[0m             \u001b[0;32mexcept\u001b[0m\u001b[0;34m(\u001b[0m\u001b[0mIOError\u001b[0m\u001b[0;34m)\u001b[0m\u001b[0;34m:\u001b[0m\u001b[0;34m\u001b[0m\u001b[0m\n\u001b[1;32m     18\u001b[0m                 \u001b[0;32mprint\u001b[0m \u001b[0;34m\"\\n%s: file %s not found\\n\"\u001b[0m \u001b[0;34m%\u001b[0m \u001b[0;34m(\u001b[0m\u001b[0m__name__\u001b[0m \u001b[0;34m+\u001b[0m \u001b[0;34m'.'\u001b[0m \u001b[0;34m+\u001b[0m \u001b[0mself\u001b[0m\u001b[0;34m.\u001b[0m\u001b[0m__class__\u001b[0m\u001b[0;34m.\u001b[0m\u001b[0m__name__\u001b[0m\u001b[0;34m,\u001b[0m \u001b[0mname\u001b[0m\u001b[0;34m)\u001b[0m\u001b[0;34m\u001b[0m\u001b[0m\n\u001b[0;32m---> 19\u001b[0;31m                 \u001b[0;32mraise\u001b[0m \u001b[0mIOError\u001b[0m\u001b[0;34m\u001b[0m\u001b[0m\n\u001b[0m\u001b[1;32m     20\u001b[0m                 \u001b[0msys\u001b[0m\u001b[0;34m.\u001b[0m\u001b[0mexit\u001b[0m\u001b[0;34m(\u001b[0m\u001b[0;36m1\u001b[0m\u001b[0;34m)\u001b[0m\u001b[0;34m\u001b[0m\u001b[0m\n\u001b[1;32m     21\u001b[0m         \u001b[0mself\u001b[0m\u001b[0;34m.\u001b[0m\u001b[0mdata\u001b[0m \u001b[0;34m=\u001b[0m \u001b[0mNone\u001b[0m\u001b[0;34m\u001b[0m\u001b[0m\n",
      "\u001b[0;31mIOError\u001b[0m: "
     ]
    }
   ],
   "source": [
    "\n",
    "cmo = sirrst.SiriusRestart(name=sirius_rst).cmo\n"
   ]
  },
  {
   "cell_type": "code",
   "execution_count": 8,
   "metadata": {
    "collapsed": false
   },
   "outputs": [],
   "source": [
    "x, y, z = 9, 15, 23\n",
    "#x, y, z = 9, 10, 11 #9, 15, 23"
   ]
  },
  {
   "cell_type": "code",
   "execution_count": 9,
   "metadata": {
    "collapsed": false
   },
   "outputs": [
    {
     "name": "stdout",
     "output_type": "stream",
     "text": [
      "[32] [32]\n"
     ]
    }
   ],
   "source": [
    "print nocc_alpha, nocc_beta"
   ]
  },
  {
   "cell_type": "code",
   "execution_count": 10,
   "metadata": {
    "collapsed": false
   },
   "outputs": [
    {
     "name": "stdout",
     "output_type": "stream",
     "text": [
      "[9 6 6 2 6 2 2 1]\n"
     ]
    }
   ],
   "source": [
    "print cmo.nrow"
   ]
  },
  {
   "cell_type": "code",
   "execution_count": 27,
   "metadata": {
    "collapsed": false
   },
   "outputs": [
    {
     "ename": "AssertionError",
     "evalue": "",
     "output_type": "error",
     "traceback": [
      "\u001b[0;31m---------------------------------------------------------------------------\u001b[0m\n\u001b[0;31mAssertionError\u001b[0m                            Traceback (most recent call last)",
      "\u001b[0;32m<ipython-input-27-79efa63f0698>\u001b[0m in \u001b[0;36m<module>\u001b[0;34m()\u001b[0m\n\u001b[0;32m----> 1\u001b[0;31m \u001b[0mtwo_p_splitting\u001b[0m\u001b[0;34m(\u001b[0m\u001b[0mcmo\u001b[0m\u001b[0;34m,\u001b[0m \u001b[0mnocc_alpha\u001b[0m\u001b[0;34m,\u001b[0m \u001b[0mnocc_beta\u001b[0m\u001b[0;34m,\u001b[0m \u001b[0;34m(\u001b[0m\u001b[0mx\u001b[0m\u001b[0;34m,\u001b[0m \u001b[0my\u001b[0m\u001b[0;34m,\u001b[0m \u001b[0mz\u001b[0m\u001b[0;34m)\u001b[0m\u001b[0;34m,\u001b[0m \u001b[0maoproper\u001b[0m\u001b[0;34m=\u001b[0m\u001b[0maoproper\u001b[0m\u001b[0;34m,\u001b[0m \u001b[0mao2soint\u001b[0m\u001b[0;34m=\u001b[0m\u001b[0mao2soint\u001b[0m\u001b[0;34m)\u001b[0m\u001b[0;34m\u001b[0m\u001b[0m\n\u001b[0m",
      "\u001b[0;32m<ipython-input-12-2a590d1e00a7>\u001b[0m in \u001b[0;36mtwo_p_splitting\u001b[0;34m(cmo, occa, occb, ps, aoproper, ao2soint, one_electron)\u001b[0m\n\u001b[1;32m      6\u001b[0m     \u001b[0mprefactor\u001b[0m \u001b[0;34m=\u001b[0m \u001b[0malpha\u001b[0m\u001b[0;34m**\u001b[0m\u001b[0;36m2\u001b[0m\u001b[0;34m/\u001b[0m\u001b[0;36m2\u001b[0m\u001b[0;34m\u001b[0m\u001b[0m\n\u001b[1;32m      7\u001b[0m \u001b[0;34m\u001b[0m\u001b[0m\n\u001b[0;32m----> 8\u001b[0;31m     \u001b[0moccupied_alpha\u001b[0m \u001b[0;34m=\u001b[0m \u001b[0mcmo\u001b[0m\u001b[0;34m.\u001b[0m\u001b[0mget_columns\u001b[0m\u001b[0;34m(\u001b[0m\u001b[0mocca\u001b[0m\u001b[0;34m)\u001b[0m\u001b[0;34m\u001b[0m\u001b[0m\n\u001b[0m\u001b[1;32m      9\u001b[0m     \u001b[0moccupied_beta\u001b[0m \u001b[0;34m=\u001b[0m \u001b[0mcmo\u001b[0m\u001b[0;34m.\u001b[0m\u001b[0mget_columns\u001b[0m\u001b[0;34m(\u001b[0m\u001b[0moccb\u001b[0m\u001b[0;34m)\u001b[0m\u001b[0;34m\u001b[0m\u001b[0m\n\u001b[1;32m     10\u001b[0m \u001b[0;34m\u001b[0m\u001b[0m\n",
      "\u001b[0;32m/home/olav/dev/py/daltools/util/blocked.pyc\u001b[0m in \u001b[0;36mget_columns\u001b[0;34m(self, columns_per_symmetry)\u001b[0m\n\u001b[1;32m    217\u001b[0m \u001b[0;34m\u001b[0m\u001b[0m\n\u001b[1;32m    218\u001b[0m     \u001b[0;32mdef\u001b[0m \u001b[0mget_columns\u001b[0m\u001b[0;34m(\u001b[0m\u001b[0mself\u001b[0m\u001b[0;34m,\u001b[0m \u001b[0mcolumns_per_symmetry\u001b[0m\u001b[0;34m)\u001b[0m\u001b[0;34m:\u001b[0m\u001b[0;34m\u001b[0m\u001b[0m\n\u001b[0;32m--> 219\u001b[0;31m         \u001b[0mnew\u001b[0m \u001b[0;34m=\u001b[0m \u001b[0mBlockDiagonalMatrix\u001b[0m\u001b[0;34m(\u001b[0m\u001b[0mself\u001b[0m\u001b[0;34m.\u001b[0m\u001b[0mnrow\u001b[0m\u001b[0;34m,\u001b[0m \u001b[0mcolumns_per_symmetry\u001b[0m\u001b[0;34m)\u001b[0m\u001b[0;34m\u001b[0m\u001b[0m\n\u001b[0m\u001b[1;32m    220\u001b[0m         \u001b[0;32mfor\u001b[0m \u001b[0moldblock\u001b[0m\u001b[0;34m,\u001b[0m \u001b[0mnewblock\u001b[0m\u001b[0;34m,\u001b[0m \u001b[0mcols\u001b[0m \u001b[0;32min\u001b[0m \u001b[0mzip\u001b[0m\u001b[0;34m(\u001b[0m\u001b[0mself\u001b[0m\u001b[0;34m,\u001b[0m \u001b[0mnew\u001b[0m\u001b[0;34m,\u001b[0m \u001b[0mcolumns_per_symmetry\u001b[0m\u001b[0;34m)\u001b[0m\u001b[0;34m:\u001b[0m\u001b[0;34m\u001b[0m\u001b[0m\n\u001b[1;32m    221\u001b[0m             \u001b[0;32mif\u001b[0m \u001b[0mcols\u001b[0m\u001b[0;34m:\u001b[0m\u001b[0;34m\u001b[0m\u001b[0m\n",
      "\u001b[0;32m/home/olav/dev/py/daltools/util/blocked.pyc\u001b[0m in \u001b[0;36m__init__\u001b[0;34m(self, nrow, ncol)\u001b[0m\n\u001b[1;32m      7\u001b[0m         \u001b[0;34m\"\"\" Constructur of the class.\"\"\"\u001b[0m\u001b[0;34m\u001b[0m\u001b[0m\n\u001b[1;32m      8\u001b[0m \u001b[0;34m\u001b[0m\u001b[0m\n\u001b[0;32m----> 9\u001b[0;31m         \u001b[0;32massert\u001b[0m \u001b[0;34m(\u001b[0m \u001b[0mlen\u001b[0m\u001b[0;34m(\u001b[0m\u001b[0mnrow\u001b[0m\u001b[0;34m)\u001b[0m \u001b[0;34m==\u001b[0m \u001b[0mlen\u001b[0m\u001b[0;34m(\u001b[0m\u001b[0mncol\u001b[0m\u001b[0;34m)\u001b[0m \u001b[0;34m)\u001b[0m\u001b[0;34m\u001b[0m\u001b[0m\n\u001b[0m\u001b[1;32m     10\u001b[0m         \u001b[0mself\u001b[0m\u001b[0;34m.\u001b[0m\u001b[0mnblocks\u001b[0m\u001b[0;34m=\u001b[0m\u001b[0mlen\u001b[0m\u001b[0;34m(\u001b[0m\u001b[0mnrow\u001b[0m\u001b[0;34m)\u001b[0m\u001b[0;34m\u001b[0m\u001b[0m\n\u001b[1;32m     11\u001b[0m         \u001b[0mself\u001b[0m\u001b[0;34m.\u001b[0m\u001b[0mnrow\u001b[0m\u001b[0;34m=\u001b[0m\u001b[0mnrow\u001b[0m\u001b[0;34m\u001b[0m\u001b[0m\n",
      "\u001b[0;31mAssertionError\u001b[0m: "
     ]
    }
   ],
   "source": [
    "two_p_splitting(cmo, nocc_alpha, nocc_beta, (x, y, z), aoproper=aoproper, ao2soint=ao2soint)"
   ]
  },
  {
   "cell_type": "code",
   "execution_count": 120,
   "metadata": {
    "collapsed": false
   },
   "outputs": [],
   "source": [
    "cmorel = sirrst.SiriusRestart(name=\"S/hfrel_S.SIRIUS.RST\").cmo"
   ]
  },
  {
   "cell_type": "code",
   "execution_count": 140,
   "metadata": {
    "collapsed": false
   },
   "outputs": [
    {
     "ename": "AssertionError",
     "evalue": "",
     "output_type": "error",
     "traceback": [
      "\u001b[0;31m---------------------------------------------------------------------------\u001b[0m\n\u001b[0;31mAssertionError\u001b[0m                            Traceback (most recent call last)",
      "\u001b[0;32m<ipython-input-140-cedfe1d3eec3>\u001b[0m in \u001b[0;36m<module>\u001b[0;34m()\u001b[0m\n\u001b[0;32m----> 1\u001b[0;31m \u001b[0mtwo_p_splitting\u001b[0m\u001b[0;34m(\u001b[0m\u001b[0mcmorel\u001b[0m\u001b[0;34m,\u001b[0m \u001b[0mnocc_alpha\u001b[0m\u001b[0;34m,\u001b[0m \u001b[0mnocc_beta\u001b[0m\u001b[0;34m,\u001b[0m \u001b[0;34m(\u001b[0m\u001b[0mx\u001b[0m\u001b[0;34m,\u001b[0m \u001b[0my\u001b[0m\u001b[0;34m,\u001b[0m \u001b[0mz\u001b[0m\u001b[0;34m)\u001b[0m\u001b[0;34m,\u001b[0m \u001b[0maoproper\u001b[0m\u001b[0;34m=\u001b[0m\u001b[0maoproper\u001b[0m\u001b[0;34m,\u001b[0m \u001b[0mao2soint\u001b[0m\u001b[0;34m=\u001b[0m\u001b[0mao2soint\u001b[0m\u001b[0;34m,\u001b[0m \u001b[0mone_electron\u001b[0m\u001b[0;34m=\u001b[0m\u001b[0mTrue\u001b[0m\u001b[0;34m)\u001b[0m\u001b[0;34m\u001b[0m\u001b[0m\n\u001b[0m",
      "\u001b[0;32m<ipython-input-134-2a590d1e00a7>\u001b[0m in \u001b[0;36mtwo_p_splitting\u001b[0;34m(cmo, occa, occb, ps, aoproper, ao2soint, one_electron)\u001b[0m\n\u001b[1;32m      6\u001b[0m     \u001b[0mprefactor\u001b[0m \u001b[0;34m=\u001b[0m \u001b[0malpha\u001b[0m\u001b[0;34m**\u001b[0m\u001b[0;36m2\u001b[0m\u001b[0;34m/\u001b[0m\u001b[0;36m2\u001b[0m\u001b[0;34m\u001b[0m\u001b[0m\n\u001b[1;32m      7\u001b[0m \u001b[0;34m\u001b[0m\u001b[0m\n\u001b[0;32m----> 8\u001b[0;31m     \u001b[0moccupied_alpha\u001b[0m \u001b[0;34m=\u001b[0m \u001b[0mcmo\u001b[0m\u001b[0;34m.\u001b[0m\u001b[0mget_columns\u001b[0m\u001b[0;34m(\u001b[0m\u001b[0mocca\u001b[0m\u001b[0;34m)\u001b[0m\u001b[0;34m\u001b[0m\u001b[0m\n\u001b[0m\u001b[1;32m      9\u001b[0m     \u001b[0moccupied_beta\u001b[0m \u001b[0;34m=\u001b[0m \u001b[0mcmo\u001b[0m\u001b[0;34m.\u001b[0m\u001b[0mget_columns\u001b[0m\u001b[0;34m(\u001b[0m\u001b[0moccb\u001b[0m\u001b[0;34m)\u001b[0m\u001b[0;34m\u001b[0m\u001b[0m\n\u001b[1;32m     10\u001b[0m \u001b[0;34m\u001b[0m\u001b[0m\n",
      "\u001b[0;32m/home/vahtras/dev/py/daltools/util/blocked.pyc\u001b[0m in \u001b[0;36mget_columns\u001b[0;34m(self, columns_per_symmetry)\u001b[0m\n\u001b[1;32m    217\u001b[0m \u001b[0;34m\u001b[0m\u001b[0m\n\u001b[1;32m    218\u001b[0m     \u001b[0;32mdef\u001b[0m \u001b[0mget_columns\u001b[0m\u001b[0;34m(\u001b[0m\u001b[0mself\u001b[0m\u001b[0;34m,\u001b[0m \u001b[0mcolumns_per_symmetry\u001b[0m\u001b[0;34m)\u001b[0m\u001b[0;34m:\u001b[0m\u001b[0;34m\u001b[0m\u001b[0m\n\u001b[0;32m--> 219\u001b[0;31m         \u001b[0mnew\u001b[0m \u001b[0;34m=\u001b[0m \u001b[0mBlockDiagonalMatrix\u001b[0m\u001b[0;34m(\u001b[0m\u001b[0mself\u001b[0m\u001b[0;34m.\u001b[0m\u001b[0mnrow\u001b[0m\u001b[0;34m,\u001b[0m \u001b[0mcolumns_per_symmetry\u001b[0m\u001b[0;34m)\u001b[0m\u001b[0;34m\u001b[0m\u001b[0m\n\u001b[0m\u001b[1;32m    220\u001b[0m         \u001b[0;32mfor\u001b[0m \u001b[0moldblock\u001b[0m\u001b[0;34m,\u001b[0m \u001b[0mnewblock\u001b[0m\u001b[0;34m,\u001b[0m \u001b[0mcols\u001b[0m \u001b[0;32min\u001b[0m \u001b[0mzip\u001b[0m\u001b[0;34m(\u001b[0m\u001b[0mself\u001b[0m\u001b[0;34m,\u001b[0m \u001b[0mnew\u001b[0m\u001b[0;34m,\u001b[0m \u001b[0mcolumns_per_symmetry\u001b[0m\u001b[0;34m)\u001b[0m\u001b[0;34m:\u001b[0m\u001b[0;34m\u001b[0m\u001b[0m\n\u001b[1;32m    221\u001b[0m             \u001b[0;32mif\u001b[0m \u001b[0mcols\u001b[0m\u001b[0;34m:\u001b[0m\u001b[0;34m\u001b[0m\u001b[0m\n",
      "\u001b[0;32m/home/vahtras/dev/py/daltools/util/blocked.pyc\u001b[0m in \u001b[0;36m__init__\u001b[0;34m(self, nrow, ncol)\u001b[0m\n\u001b[1;32m      7\u001b[0m         \u001b[0;34m\"\"\" Constructur of the class.\"\"\"\u001b[0m\u001b[0;34m\u001b[0m\u001b[0m\n\u001b[1;32m      8\u001b[0m \u001b[0;34m\u001b[0m\u001b[0m\n\u001b[0;32m----> 9\u001b[0;31m         \u001b[0;32massert\u001b[0m \u001b[0;34m(\u001b[0m \u001b[0mlen\u001b[0m\u001b[0;34m(\u001b[0m\u001b[0mnrow\u001b[0m\u001b[0;34m)\u001b[0m \u001b[0;34m==\u001b[0m \u001b[0mlen\u001b[0m\u001b[0;34m(\u001b[0m\u001b[0mncol\u001b[0m\u001b[0;34m)\u001b[0m \u001b[0;34m)\u001b[0m\u001b[0;34m\u001b[0m\u001b[0m\n\u001b[0m\u001b[1;32m     10\u001b[0m         \u001b[0mself\u001b[0m\u001b[0;34m.\u001b[0m\u001b[0mnblocks\u001b[0m\u001b[0;34m=\u001b[0m\u001b[0mlen\u001b[0m\u001b[0;34m(\u001b[0m\u001b[0mnrow\u001b[0m\u001b[0;34m)\u001b[0m\u001b[0;34m\u001b[0m\u001b[0m\n\u001b[1;32m     11\u001b[0m         \u001b[0mself\u001b[0m\u001b[0;34m.\u001b[0m\u001b[0mnrow\u001b[0m\u001b[0;34m=\u001b[0m\u001b[0mnrow\u001b[0m\u001b[0;34m\u001b[0m\u001b[0m\n",
      "\u001b[0;31mAssertionError\u001b[0m: "
     ]
    }
   ],
   "source": [
    "two_p_splitting(cmorel, nocc_alpha, nocc_beta, (x, y, z), aoproper=aoproper, ao2soint=ao2soint, one_electron=True)"
   ]
  },
  {
   "cell_type": "code",
   "execution_count": null,
   "metadata": {
    "collapsed": false
   },
   "outputs": [],
   "source": []
  }
 ],
 "metadata": {
  "kernelspec": {
   "display_name": "Python 3",
   "language": "python",
   "name": "python3"
  },
  "language_info": {
   "codemirror_mode": {
    "name": "ipython",
    "version": 3
   },
   "file_extension": ".py",
   "mimetype": "text/x-python",
   "name": "python",
   "nbconvert_exporter": "python",
   "pygments_lexer": "ipython3",
   "version": "3.5.2"
  }
 },
 "nbformat": 4,
 "nbformat_minor": 0
}
