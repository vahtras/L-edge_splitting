{
 "metadata": {
  "name": "",
  "signature": "sha256:567afd1251672d885364f9bd423ad9ceeba660493245262204cb0f8217e45993"
 },
 "nbformat": 3,
 "nbformat_minor": 0,
 "worksheets": [
  {
   "cells": [
    {
     "cell_type": "code",
     "collapsed": false,
     "input": [
      "import os\n",
      "import sys\n",
      "import numpy\n",
      "\n",
      "sys.path.append(os.path.join(os.environ['HOME'], 'dev/py'))"
     ],
     "language": "python",
     "metadata": {},
     "outputs": []
    },
    {
     "cell_type": "code",
     "collapsed": false,
     "input": [
      "SO_LABELS = ('X1SPNORB', 'Y1SPNORB', 'Z1SPNORB')\n",
      "eV = 1/27.211396132"
     ],
     "language": "python",
     "metadata": {},
     "outputs": []
    },
    {
     "cell_type": "code",
     "collapsed": false,
     "input": [
      "def two_p_splitting(cmo, occa, occb, ps, aoproper=\"AOPROPER\", ao2soint=\"AO2SOINT\", one_electron=False):\n",
      "    \n",
      "    SO_LABELS = ('X1SPNORB', 'Y1SPNORB', 'Z1SPNORB')\n",
      "    \n",
      "    from scipy.constants import alpha\n",
      "    prefactor = alpha**2/2\n",
      "    \n",
      "    occupied_alpha = cmo.get_columns(occa)\n",
      "    occupied_beta = cmo.get_columns(occb)\n",
      "    \n",
      "    Da = (occupied_alpha*occupied_alpha.T()).unblock()\n",
      "    Db = (occupied_beta*occupied_alpha.T()).unblock()\n",
      "    \n",
      "        \n",
      "    ls1 = prop.read(*SO_LABELS, filename=aoproper)\n",
      "    \n",
      "    if one_electron:\n",
      "        ls = ls1\n",
      "    else:\n",
      "        ls2 = [0.5*(fa - fb) for fa, fb in [twoso.fockab(Da, Db, c, filename=ao2soint) for c in \"xyz\"]]  \n",
      "        ls = [one + two for one, two in zip(ls1, ls2)]\n",
      "    \n",
      "    p = cmo.unblock()[:, ps]\n",
      "    plsp = [prefactor*p.T*ls_component*p for ls_component in ls]\n",
      "    \n",
      "    V = makeV(plsp)\n",
      "    \n",
      "    eigvals = numpy.linalg.eigvals(V)\n",
      "    er = numpy.sort(eigvals.real)\n",
      "    \n",
      "    print er\n",
      "    split = abs(.5*er[:2].sum() - .25*er[2:].sum())\n",
      "    \n",
      "    return split/eV\n",
      "\n",
      "def makeV(ls):\n",
      "    V = numpy.zeros((6, 6), dtype='complex', order='F')\n",
      "    V[:3, :3] = ls[2]\n",
      "    V[3:, 3:] = -ls[2]\n",
      "    V[:3, 3:] = ls[0] + 1j*ls[1]\n",
      "    V[3:, :3] = ls[0] - 1j*ls[1]\n",
      "    V *= 1j/2\n",
      "    return V\n",
      "\n"
     ],
     "language": "python",
     "metadata": {},
     "outputs": []
    },
    {
     "cell_type": "code",
     "collapsed": false,
     "input": [
      "from dalmisc import sirrst, twoso\n",
      "from daltools import prop"
     ],
     "language": "python",
     "metadata": {},
     "outputs": []
    },
    {
     "cell_type": "code",
     "collapsed": false,
     "input": [
      "#system specific\n",
      "mol = (\"Cystein\", \"cys\")\n",
      "#mol = (\"S\", \"S\")\n",
      "aoproper = \"%s/hf_%s.AOPROPER\" % mol\n",
      "ao2soint = \"%s/hf_%s.AO2SOINT\" % mol\n",
      "sirius_rst = \"%s/hf_%s.SIRIUS.RST\" % mol\n",
      "\n",
      "nocc_alpha = [32] #[3, 2, 2, 0, 1, 0, 0, 0]\n",
      "nocc_beta  = [32] #[3, 2, 2, 0, 1, 0, 0, 0]"
     ],
     "language": "python",
     "metadata": {},
     "outputs": []
    },
    {
     "cell_type": "code",
     "collapsed": false,
     "input": [
      "!ls Cystein"
     ],
     "language": "python",
     "metadata": {},
     "outputs": []
    },
    {
     "cell_type": "code",
     "collapsed": false,
     "input": [
      "\n",
      "cmo = sirrst.SiriusRestart(name=sirius_rst).cmo\n"
     ],
     "language": "python",
     "metadata": {},
     "outputs": []
    },
    {
     "cell_type": "code",
     "collapsed": false,
     "input": [
      "x, y, z = 9, 15, 23\n",
      "#x, y, z = 9, 10, 11 #9, 15, 23"
     ],
     "language": "python",
     "metadata": {},
     "outputs": []
    },
    {
     "cell_type": "code",
     "collapsed": false,
     "input": [
      "print nocc_alpha, nocc_beta"
     ],
     "language": "python",
     "metadata": {},
     "outputs": []
    },
    {
     "cell_type": "code",
     "collapsed": false,
     "input": [
      "print cmo.nrow"
     ],
     "language": "python",
     "metadata": {},
     "outputs": []
    },
    {
     "cell_type": "code",
     "collapsed": false,
     "input": [
      "two_p_splitting(cmo, nocc_alpha, nocc_beta, (x, y, z), aoproper=aoproper, ao2soint=ao2soint)"
     ],
     "language": "python",
     "metadata": {},
     "outputs": []
    },
    {
     "cell_type": "code",
     "collapsed": false,
     "input": [
      "cmorel = sirrst.SiriusRestart(name=\"S/hfrel_S.SIRIUS.RST\").cmo"
     ],
     "language": "python",
     "metadata": {},
     "outputs": []
    },
    {
     "cell_type": "code",
     "collapsed": false,
     "input": [
      "two_p_splitting(cmorel, nocc_alpha, nocc_beta, (x, y, z), aoproper=aoproper, ao2soint=ao2soint, one_electron=True)"
     ],
     "language": "python",
     "metadata": {},
     "outputs": []
    },
    {
     "cell_type": "code",
     "collapsed": false,
     "input": [],
     "language": "python",
     "metadata": {},
     "outputs": []
    }
   ],
   "metadata": {}
  }
 ]
}