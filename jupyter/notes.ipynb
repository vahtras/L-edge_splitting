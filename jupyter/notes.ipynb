{
 "metadata": {
  "name": "",
  "signature": "sha256:d36f5808f450dbcf298539f0ad18489acce7faed637b8509f0e053747322800e"
 },
 "nbformat": 3,
 "nbformat_minor": 0,
 "worksheets": [
  {
   "cells": [
    {
     "cell_type": "code",
     "collapsed": false,
     "input": [
      "import sys\n",
      "import os\n",
      "import numpy"
     ],
     "language": "python",
     "metadata": {},
     "outputs": []
    },
    {
     "cell_type": "markdown",
     "metadata": {},
     "source": [
      "**One-electron**\n",
      "\n",
      "We need to evaluate $\\langle p_{i\\beta}| l^z s^z | p_{j\\beta}\\rangle \n",
      "=  \\langle a_{i\\beta}^\\dagger l^z_{pq} s^z_{pq} a_{j\\beta}\\rangle\n",
      "=  -\\langle  {l_z}_{ji} (-1/2) \\rangle \n",
      "=  \\frac 1 2 l^z_{ji}$\n"
     ]
    },
    {
     "cell_type": "markdown",
     "metadata": {},
     "source": [
      "Since spin-coupling is now same for all components"
     ]
    },
    {
     "cell_type": "markdown",
     "metadata": {},
     "source": [
      "$ V_{ij} = \\frac 1 2 \\begin{pmatrix}  \n",
      "-l^z_{ji} & (l^x + i l^y)_{ji} \\\\\n",
      "(l^x - i l^y)_{ji} & l^z_{ji}\n",
      "\\end{pmatrix}$"
     ]
    },
    {
     "cell_type": "markdown",
     "metadata": {},
     "source": [
      "**Sulphur atom**"
     ]
    },
    {
     "cell_type": "markdown",
     "metadata": {},
     "source": [
      "Run Dalton"
     ]
    },
    {
     "cell_type": "code",
     "collapsed": true,
     "input": [
      "#!cd S && ~/dev/dalton/git/build/master/dalton -get \"AOONEINT AOPROPER SIRIUS.RST AO2SOINT\" hf S"
     ],
     "language": "python",
     "metadata": {},
     "outputs": []
    },
    {
     "cell_type": "markdown",
     "metadata": {},
     "source": [
      "mostly we will use integrals from this set. Define filenames\n"
     ]
    },
    {
     "cell_type": "code",
     "collapsed": false,
     "input": [
      "aooneint = \"S/hf_S.AOONEINT\"\n",
      "aoproper = \"S/hf_S.AOPROPER\"\n",
      "ao2soint = \"S/hf_S.AO2SOINT\""
     ],
     "language": "python",
     "metadata": {},
     "outputs": []
    },
    {
     "cell_type": "markdown",
     "metadata": {},
     "source": [
      "The default input gives singlet (3px^2 3py^2 - HF occ 32201000). \n",
      "This is triplet Sulphur (3px 3py 3pz^2) - HF occ 31102000/01100000"
     ]
    },
    {
     "cell_type": "code",
     "collapsed": true,
     "input": [
      "#!cd S && ~/dev/dalton/git/build/master/dalton -get \"SIRIUS.RST\" hf3 S"
     ],
     "language": "python",
     "metadata": {},
     "outputs": []
    },
    {
     "cell_type": "markdown",
     "metadata": {},
     "source": [
      "Another case is relaxation, consider the ionized form(3px^2 3py^2 2pz^1)-HF occ 32200000/32201000 (for x, y we need to do inner shell hole)"
     ]
    },
    {
     "cell_type": "code",
     "collapsed": true,
     "input": [
      "#!cd S && ~/dev/dalton/git/build/master/dalton -get \"SIRIUS.RST\" hfrel S"
     ],
     "language": "python",
     "metadata": {},
     "outputs": []
    },
    {
     "cell_type": "markdown",
     "metadata": {},
     "source": [
      "Now the integral is in S/hf_S.AOPROPER"
     ]
    },
    {
     "cell_type": "code",
     "collapsed": false,
     "input": [
      "from daltools import prop, sirrst"
     ],
     "language": "python",
     "metadata": {},
     "outputs": []
    },
    {
     "cell_type": "code",
     "collapsed": false,
     "input": [
      "angmom = prop.read('X1SPNORB', 'Y1SPNORB', 'Z1SPNORB', filename=aoproper)"
     ],
     "language": "python",
     "metadata": {},
     "outputs": []
    },
    {
     "cell_type": "markdown",
     "metadata": {},
     "source": [
      "Get the p-orbitals, read from SIRRST"
     ]
    },
    {
     "cell_type": "code",
     "collapsed": false,
     "input": [
      "rst = sirrst.SiriusRestart(name=\"S/hf_S.SIRIUS.RST\")\n",
      "cmo = rst.cmo"
     ],
     "language": "python",
     "metadata": {},
     "outputs": []
    },
    {
     "cell_type": "code",
     "collapsed": false,
     "input": [
      "\n",
      "rst3 = sirrst.SiriusRestart(name=\"S/hf3_S.SIRIUS.RST\")\n",
      "cmo3 = rst3.cmo"
     ],
     "language": "python",
     "metadata": {},
     "outputs": []
    },
    {
     "cell_type": "code",
     "collapsed": false,
     "input": [
      "rstrel = sirrst.SiriusRestart(name=\"S/hfrel_S.SIRIUS.RST\")\n",
      "cmorel = rstrel.cmo"
     ],
     "language": "python",
     "metadata": {},
     "outputs": []
    },
    {
     "cell_type": "code",
     "collapsed": false,
     "input": [
      "def get_ps(mo):\n",
      "    \"\"\"Pick 2p-orbitals from atomic mo input, the first orbital in second, third and fifth symmetry\"\"\" \n",
      "    _px, _py, _pz = (1, 2, 4)\n",
      "    return mo[_px][:, 0], mo[_py][:, 0], mo[_pz][:, 0]\n",
      "\n",
      "px, py, pz = get_ps(cmo)\n",
      "px3, py3, pz3 = get_ps(cmo3)\n",
      "pxrel, pyrel, pzrel = get_ps(cmorel)\n",
      "\n",
      "print px, py, pz\n",
      "#print px3, py3, pz3\n",
      "#print pxrel, pyrel, pzrel"
     ],
     "language": "python",
     "metadata": {},
     "outputs": []
    },
    {
     "cell_type": "code",
     "collapsed": false,
     "input": [
      "cmo0 = cmo.unblock()\n",
      "cmo03 = cmo3.unblock()\n",
      "cmo0rel = cmorel.unblock()"
     ],
     "language": "python",
     "metadata": {},
     "outputs": []
    },
    {
     "cell_type": "markdown",
     "metadata": {},
     "source": [
      "For unblocked mos the p-orbitals in this case have indices 9, 15, 23 (0-based index)"
     ]
    },
    {
     "cell_type": "code",
     "collapsed": false,
     "input": [
      "x, y, z = 9, 15, 23\n",
      "p = cmo0[:, (x, y, z)]\n",
      "p3 = cmo03[:, (x, y, z)]\n",
      "prel = cmo0rel[:, (x, y, z)]\n"
     ],
     "language": "python",
     "metadata": {},
     "outputs": []
    },
    {
     "cell_type": "code",
     "collapsed": true,
     "input": [
      "#print p, p3, prel\n",
      "print p"
     ],
     "language": "python",
     "metadata": {},
     "outputs": []
    },
    {
     "cell_type": "code",
     "collapsed": false,
     "input": [
      "from scipy.constants import alpha\n",
      "prefactor = alpha**2/2\n",
      "ls = [prefactor*p.T*M*p for M in angmom]\n",
      "ls3 = [prefactor*p3.T*M*p3 for M in angmom]\n",
      "lsrel = [prefactor*prel.T*M*prel for M in angmom]\n"
     ],
     "language": "python",
     "metadata": {},
     "outputs": []
    },
    {
     "cell_type": "markdown",
     "metadata": {},
     "source": [
      "Form complex matrices"
     ]
    },
    {
     "cell_type": "code",
     "collapsed": false,
     "input": [
      "import numpy as np"
     ],
     "language": "python",
     "metadata": {},
     "outputs": []
    },
    {
     "cell_type": "code",
     "collapsed": false,
     "input": [
      "V = np.zeros((6, 6), dtype='complex', order='F')\n",
      "V3 = np.zeros((6, 6), dtype='complex', order='F')\n",
      "Vrel = np.zeros((6, 6), dtype='complex', order='F')\n"
     ],
     "language": "python",
     "metadata": {},
     "outputs": []
    },
    {
     "cell_type": "markdown",
     "metadata": {},
     "source": [
      "Here we set up the spin-orbit matrix over the p-hole states in $\\alpha-\\beta subblocks$\n",
      "\n",
      "$ V_{ij} = \\begin{pmatrix} \n",
      "\\langle a^\\dagger_{i\\alpha} V a_{j\\alpha}\\rangle & \\langle a^\\dagger_{i\\alpha} V a_{j\\beta}\\rangle \\\\\n",
      "\\langle a^\\dagger_{i\\beta} V a_{j\\alpha}\\rangle & \\langle a^\\dagger_{i\\beta} V a_{j\\beta}\\rangle \\\\\n",
      "\\end{pmatrix}\n",
      "$\n",
      "\n",
      " "
     ]
    },
    {
     "cell_type": "code",
     "collapsed": true,
     "input": [
      "def makeV(ls):\n",
      "    V = np.zeros((6, 6), dtype='complex', order='F')\n",
      "    V[:3, :3] = -ls[2]\n",
      "    V[3:, 3:] = ls[2]\n",
      "    V[:3, 3:] = ls[0] + 1j*ls[1]\n",
      "    V[3:, :3] = ls[0] - 1j*ls[1]\n",
      "    V *= 1j/2\n",
      "    return V\n",
      "\n",
      "\n",
      "V = makeV(ls)\n",
      "V3 = makeV(ls3)\n",
      "Vrel = makeV(lsrel)"
     ],
     "language": "python",
     "metadata": {},
     "outputs": []
    },
    {
     "cell_type": "code",
     "collapsed": true,
     "input": [
      "eigvals =  numpy.linalg.eigvals(V)\n",
      "eigvals3 =  numpy.linalg.eigvals(V3)\n",
      "eigvalsrel =  numpy.linalg.eigvals(Vrel)\n"
     ],
     "language": "python",
     "metadata": {},
     "outputs": []
    },
    {
     "cell_type": "code",
     "collapsed": true,
     "input": [
      "print eigvals.real\n",
      "print eigvals3.real\n",
      "print eigvalsrel.real\n"
     ],
     "language": "python",
     "metadata": {},
     "outputs": []
    },
    {
     "cell_type": "code",
     "collapsed": false,
     "input": [
      "eV = 27.211396132"
     ],
     "language": "python",
     "metadata": {},
     "outputs": []
    },
    {
     "cell_type": "code",
     "collapsed": false,
     "input": [
      "split = abs(eigvals[0] - .5*(eigvals[-1]+eigvals[-2]))\n",
      "print split*eV, 'eV'"
     ],
     "language": "python",
     "metadata": {},
     "outputs": []
    },
    {
     "cell_type": "code",
     "collapsed": false,
     "input": [
      "split = abs(eigvals3[0] - .5*(eigvals3[-1]+eigvals3[-2]))\n",
      "print split*eV, 'eV'"
     ],
     "language": "python",
     "metadata": {},
     "outputs": []
    },
    {
     "cell_type": "code",
     "collapsed": false,
     "input": [
      "split = abs(eigvalsrel[0] - .5*(eigvalsrel[-1]+eigvalsrel[2]))\n",
      "print split*eV, 'eV'"
     ],
     "language": "python",
     "metadata": {},
     "outputs": []
    },
    {
     "cell_type": "markdown",
     "metadata": {},
     "source": [
      "**Two-electron**"
     ]
    },
    {
     "cell_type": "code",
     "collapsed": false,
     "input": [
      "from two.twoso import fockab"
     ],
     "language": "python",
     "metadata": {},
     "outputs": []
    },
    {
     "cell_type": "markdown",
     "metadata": {},
     "source": [
      "The fock routine takes alpha- and beta densities"
     ]
    },
    {
     "cell_type": "code",
     "collapsed": false,
     "input": [
      "#print cmo"
     ],
     "language": "python",
     "metadata": {},
     "outputs": []
    },
    {
     "cell_type": "code",
     "collapsed": true,
     "input": [
      "nocc_alpha = [3, 2, 2, 0, 1, 0, 0, 0]\n",
      "nocc_beta  = [3, 2, 2, 0, 1, 0, 0, 0]\n",
      "cmoa = [ c[:, :na] for c, na in zip(cmo, nocc_alpha) ]"
     ],
     "language": "python",
     "metadata": {},
     "outputs": []
    },
    {
     "cell_type": "code",
     "collapsed": true,
     "input": [
      "#for ca in cmoa:\n",
      "#    print ca"
     ],
     "language": "python",
     "metadata": {},
     "outputs": []
    },
    {
     "cell_type": "code",
     "collapsed": false,
     "input": [
      "from daltools import dens #is there a blocked form?\n"
     ],
     "language": "python",
     "metadata": {},
     "outputs": []
    },
    {
     "cell_type": "markdown",
     "metadata": {},
     "source": [
      "Is there a blocked range selector for occupied orbitals?"
     ]
    },
    {
     "cell_type": "code",
     "collapsed": false,
     "input": [
      "cmo_occ_alpha = cmo.get_columns(nocc_alpha)\n",
      "cmo_occ_beta = cmo.get_columns(nocc_beta)"
     ],
     "language": "python",
     "metadata": {},
     "outputs": []
    },
    {
     "cell_type": "code",
     "collapsed": false,
     "input": [
      "Da = (cmo_occ_alpha*cmo_occ_alpha.T()).unblock()\n",
      "Db = (cmo_occ_alpha*cmo_occ_alpha.T()).unblock()"
     ],
     "language": "python",
     "metadata": {},
     "outputs": []
    },
    {
     "cell_type": "markdown",
     "metadata": {},
     "source": [
      "Verify"
     ]
    },
    {
     "cell_type": "code",
     "collapsed": false,
     "input": [
      "from daltools import one\n"
     ],
     "language": "python",
     "metadata": {},
     "outputs": []
    },
    {
     "cell_type": "code",
     "collapsed": true,
     "input": [
      "Sbl = one.read(filename='S/hf_S.AOONEINT').unpack()\n",
      "S = Sbl.unblock()\n",
      "#print Sbl"
     ],
     "language": "python",
     "metadata": {},
     "outputs": []
    },
    {
     "cell_type": "markdown",
     "metadata": {},
     "source": [
      "Should be 16"
     ]
    },
    {
     "cell_type": "code",
     "collapsed": false,
     "input": [
      "print (Da&S) + (Db&S)"
     ],
     "language": "python",
     "metadata": {},
     "outputs": []
    },
    {
     "cell_type": "code",
     "collapsed": false,
     "input": [
      "fa, fb = fockab(Da, Db, 'x', filename=ao2soint)"
     ],
     "language": "python",
     "metadata": {},
     "outputs": []
    },
    {
     "cell_type": "code",
     "collapsed": true,
     "input": [
      "#print fa - fb"
     ],
     "language": "python",
     "metadata": {},
     "outputs": []
    },
    {
     "cell_type": "markdown",
     "metadata": {},
     "source": [
      "This convention illustrates that singlet combination is zero. The fa and fb matrix should be seen as single-contraction of twoso."
     ]
    },
    {
     "cell_type": "code",
     "collapsed": false,
     "input": [
      "fabs =  [fockab(Da, Db, c, filename=ao2soint) for c in \"xyz\"]"
     ],
     "language": "python",
     "metadata": {},
     "outputs": []
    },
    {
     "cell_type": "code",
     "collapsed": false,
     "input": [
      "ls2 = [0.5*(fa - fb) for fa, fb in fabs]\n",
      "pls2p = [prefactor*p.T*M*p for M in ls2]\n"
     ],
     "language": "python",
     "metadata": {},
     "outputs": []
    },
    {
     "cell_type": "markdown",
     "metadata": {},
     "source": [
      "In principle these should be added as is to one-electron"
     ]
    },
    {
     "cell_type": "code",
     "collapsed": false,
     "input": [
      "oneso = ('X1SPNORB', 'Y1SPNORB', 'Z1SPNORB')\n",
      "ls1 = prop.read(*oneso, filename=aoproper)\n",
      "pls1p = [prefactor*p.T*M*p for M in ls1]\n"
     ],
     "language": "python",
     "metadata": {},
     "outputs": []
    },
    {
     "cell_type": "code",
     "collapsed": false,
     "input": [
      "ls = [one + two for one, two in zip(ls1, ls2)]"
     ],
     "language": "python",
     "metadata": {},
     "outputs": []
    },
    {
     "cell_type": "code",
     "collapsed": true,
     "input": [
      "print pls1p[0]\n",
      "print pls2p[0]"
     ],
     "language": "python",
     "metadata": {},
     "outputs": []
    },
    {
     "cell_type": "code",
     "collapsed": true,
     "input": [
      "plsp = [prefactor*p.T*M*p for M in ls]\n",
      "print ls[0].shape\n"
     ],
     "language": "python",
     "metadata": {},
     "outputs": []
    },
    {
     "cell_type": "code",
     "collapsed": false,
     "input": [
      "V1 = makeV(pls1p)\n",
      "V2 = makeV(pls2p)\n",
      "V = makeV(plsp)"
     ],
     "language": "python",
     "metadata": {},
     "outputs": []
    },
    {
     "cell_type": "code",
     "collapsed": true,
     "input": [
      "print V1[0]\n",
      "print V2[0]"
     ],
     "language": "python",
     "metadata": {},
     "outputs": []
    },
    {
     "cell_type": "code",
     "collapsed": false,
     "input": [
      "for v in V1, V2, V:\n",
      "    eigvals = numpy.linalg.eigvals(v)\n",
      "    er = numpy.sort(eigvals.real)\n",
      "    print er\n",
      "    split = abs(.5*er[:2].sum() - .25*er[2:].sum())\n",
      "    print split*eV"
     ],
     "language": "python",
     "metadata": {},
     "outputs": []
    },
    {
     "cell_type": "markdown",
     "metadata": {},
     "source": [
      "A function for these steps"
     ]
    },
    {
     "cell_type": "code",
     "collapsed": false,
     "input": [
      "def two_p_split(cmo, occa, occb):\n",
      "    occupied_alpha = cmo.get_columns(occa)\n",
      "    occupied_beta = cmo.get_columns(occb)\n",
      "    \n",
      "    Da = (occupied_alpha*occupied_alpha.T()).unblock()\n",
      "    Db = (occupied_beta*occupied_alpha.T()).unblock()\n",
      "    \n",
      "    ls1 = prop.read(*oneso, filename=aoproper)\n",
      "    ls2 = [0.5*(fa - fb) for fa, fb in [fockab(Da, Db, c, filename=ao2soint) for c in \"xyz\"]]\n",
      "    \n",
      "    ls = [one + two for one, two in zip(ls1, ls2)]\n",
      "    \n",
      "    plsp = [prefactor*p.T*ls_component*p for ls_component in ls]\n",
      "    \n",
      "    V = makeV(plsp)\n",
      "    \n",
      "    eigvals = numpy.linalg.eigvals(V)\n",
      "    er = numpy.sort(eigvals.real)\n",
      "    \n",
      "    print er\n",
      "    split = abs(.5*er[:2].sum() - .25*er[2:].sum())\n",
      "    \n",
      "    return split*eV\n",
      "\n",
      "    "
     ],
     "language": "python",
     "metadata": {},
     "outputs": []
    },
    {
     "cell_type": "code",
     "collapsed": false,
     "input": [
      "two_p_split(cmo, nocc_alpha, nocc_beta)"
     ],
     "language": "python",
     "metadata": {},
     "outputs": []
    },
    {
     "cell_type": "code",
     "collapsed": false,
     "input": [
      "two_p_split(cmorel, nocc_alpha, nocc_beta)"
     ],
     "language": "python",
     "metadata": {},
     "outputs": []
    },
    {
     "cell_type": "code",
     "collapsed": false,
     "input": [
      "(1.1309485892685953-1.1287511649406907)/1.1287511649406907\n"
     ],
     "language": "python",
     "metadata": {},
     "outputs": []
    },
    {
     "cell_type": "code",
     "collapsed": false,
     "input": [],
     "language": "python",
     "metadata": {},
     "outputs": []
    }
   ],
   "metadata": {}
  }
 ]
}