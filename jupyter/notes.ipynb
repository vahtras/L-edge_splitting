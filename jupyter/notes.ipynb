{
 "cells": [
  {
   "cell_type": "code",
   "execution_count": 79,
   "metadata": {
    "collapsed": false
   },
   "outputs": [],
   "source": [
    "import sys\n",
    "import os\n",
    "import numpy\n",
    "from util.full import matrix"
   ]
  },
  {
   "cell_type": "markdown",
   "metadata": {},
   "source": [
    "**One-electron**\n",
    "\n",
    "We need to evaluate $\\langle p_{i\\beta}| l^z s^z | p_{j\\beta}\\rangle \n",
    "=  \\langle a_{i\\beta}^\\dagger l^z_{pq} s^z_{pq} a_{j\\beta}\\rangle\n",
    "=  -\\langle  {l_z}_{ji} (-1/2) \\rangle \n",
    "=  \\frac 1 2 l^z_{ji}$\n"
   ]
  },
  {
   "cell_type": "markdown",
   "metadata": {},
   "source": [
    "Since spin-coupling is now same for all components"
   ]
  },
  {
   "cell_type": "markdown",
   "metadata": {},
   "source": [
    "$ V_{ij} = \\frac 1 2 \\begin{pmatrix}  \n",
    "-l^z_{ji} & (l^x + i l^y)_{ji} \\\\\n",
    "(l^x - i l^y)_{ji} & l^z_{ji}\n",
    "\\end{pmatrix}$"
   ]
  },
  {
   "cell_type": "markdown",
   "metadata": {},
   "source": [
    "**Sulphur atom**"
   ]
  },
  {
   "cell_type": "markdown",
   "metadata": {},
   "source": [
    "Run Dalton"
   ]
  },
  {
   "cell_type": "code",
   "execution_count": 80,
   "metadata": {
    "collapsed": true
   },
   "outputs": [],
   "source": [
    "#!cd S && ~/dev/dalton/git/build/master/dalton -get \"AOONEINT AOPROPER SIRIUS.RST AO2SOINT\" hf S"
   ]
  },
  {
   "cell_type": "markdown",
   "metadata": {},
   "source": [
    "mostly we will use integrals from this set. Define filenames\n"
   ]
  },
  {
   "cell_type": "code",
   "execution_count": 81,
   "metadata": {
    "collapsed": true
   },
   "outputs": [],
   "source": [
    "wrkdir = \"../tests/S\"\n",
    "def filepath(f):\n",
    "    return os.path.join(wrkdir, f)"
   ]
  },
  {
   "cell_type": "code",
   "execution_count": 82,
   "metadata": {
    "collapsed": false
   },
   "outputs": [],
   "source": [
    "aooneint = filepath(\"hf_S.AOONEINT\")\n",
    "aoproper = filepath(\"hf_S.AOPROPER\")\n",
    "ao2soint = filepath(\"hf_S.AO2SOINT\")\n",
    "sirius_rst = filepath(\"hf_S.SIRIUS.RST\")"
   ]
  },
  {
   "cell_type": "markdown",
   "metadata": {},
   "source": [
    "The default input gives singlet ($3p_x^2 3p_y^2$ - HF occ 32201000). \n",
    "This is triplet Sulphur ($3p_x^1 3p_y^1 3p_z^2$) - HF occ 31102000/01100000"
   ]
  },
  {
   "cell_type": "code",
   "execution_count": 83,
   "metadata": {
    "collapsed": true
   },
   "outputs": [],
   "source": [
    "#!cd S && ~/dev/dalton/git/build/master/dalton -get \"SIRIUS.RST\" hf3 S"
   ]
  },
  {
   "cell_type": "markdown",
   "metadata": {},
   "source": [
    "Another case is relaxation, consider the ionized form(3px^2 3py^2 2pz^1)-HF occ 32200000/32201000 (for x, y we need to do inner shell hole)"
   ]
  },
  {
   "cell_type": "code",
   "execution_count": 84,
   "metadata": {
    "collapsed": true
   },
   "outputs": [],
   "source": [
    "#!cd S && ~/dev/dalton/git/build/master/dalton -get \"SIRIUS.RST\" hfrel S"
   ]
  },
  {
   "cell_type": "markdown",
   "metadata": {},
   "source": [
    "Now the integral is in S/hf_S.AOPROPER"
   ]
  },
  {
   "cell_type": "code",
   "execution_count": 85,
   "metadata": {
    "collapsed": false
   },
   "outputs": [],
   "source": [
    "from daltools import prop, sirrst"
   ]
  },
  {
   "cell_type": "code",
   "execution_count": 86,
   "metadata": {
    "collapsed": false
   },
   "outputs": [],
   "source": [
    "angmom = prop.read('X1SPNORB', 'Y1SPNORB', 'Z1SPNORB', filename=aoproper)\n",
    "angmom_nosym = prop.read('X1SPNORB', 'Y1SPNORB', 'Z1SPNORB', filename=\"../tests/S_nosym/hf_S.AOPROPER\")"
   ]
  },
  {
   "cell_type": "markdown",
   "metadata": {},
   "source": [
    "Get the p-orbitals, read from SIRRST. We investigate three different cases:\n",
    "\n",
    "* Default input. populate $1s^2 2s^2 2p^6 3s^2 3p_x^2 3p_y^2$\n",
    "* Triplet input, populate $1s^2 2s^2 2p^6 3s^2  3p_z^2 {^3}(3p_x 3p_y)^2$\n",
    "* Relaxed orbitals $1s^2 2s^2 2p^5 3s^2 3p_x^2 3p_y^2  (2p^5 = 2p_x^1 2p_y^2 2p_z^1)$\n"
   ]
  },
  {
   "cell_type": "code",
   "execution_count": 87,
   "metadata": {
    "collapsed": false
   },
   "outputs": [],
   "source": [
    "rst = sirrst.SiriusRestart(name=sirius_rst)\n",
    "cmo = rst.cmo"
   ]
  },
  {
   "cell_type": "code",
   "execution_count": 88,
   "metadata": {
    "collapsed": false
   },
   "outputs": [],
   "source": [
    "rst_nosym = sirrst.SiriusRestart(name=\"../tests/S_nosym/hf_S.SIRIUS.RST\")\n",
    "cmo_nosym = rst_nosym.cmo[0]"
   ]
  },
  {
   "cell_type": "code",
   "execution_count": 89,
   "metadata": {
    "collapsed": false
   },
   "outputs": [],
   "source": [
    "\n",
    "rst3 = sirrst.SiriusRestart(name=filepath(\"hf3_S.SIRIUS.RST\"))\n",
    "cmo3 = rst3.cmo"
   ]
  },
  {
   "cell_type": "code",
   "execution_count": 90,
   "metadata": {
    "collapsed": false
   },
   "outputs": [],
   "source": [
    "rstrel = sirrst.SiriusRestart(name=filepath(\"hfrel_S.SIRIUS.RST\"))\n",
    "cmorel = rstrel.cmo"
   ]
  },
  {
   "cell_type": "code",
   "execution_count": 91,
   "metadata": {
    "collapsed": false
   },
   "outputs": [
    {
     "name": "stdout",
     "output_type": "stream",
     "text": [
      "\n",
      " (6,) \n",
      "              Column   1\n",
      "       1      1.00179538\n",
      "       2      0.00115419\n",
      "       3     -0.00341405\n",
      "       4     -0.00112856\n",
      "       5      0.00032629\n",
      " \n",
      " (6,) \n",
      "              Column   1\n",
      "       1      1.00179538\n",
      "       2      0.00115419\n",
      "       3     -0.00341405\n",
      "       4     -0.00112856\n",
      "       6      0.00032629\n",
      " \n",
      " (6,) \n",
      "              Column   1\n",
      "       1      0.99656939\n",
      "       2     -0.00477253\n",
      "       3      0.00649723\n",
      "       4      0.00218673\n",
      "       5      0.00041297\n",
      "\n"
     ]
    }
   ],
   "source": [
    "def get_ps(mo):\n",
    "    \"\"\"Pick 2p-orbitals from atomic mo input, the first orbital in second, third and fifth symmetry\"\"\" \n",
    "    _px, _py, _pz = (1, 2, 4)\n",
    "    return mo[_px][:, 0], mo[_py][:, 0], mo[_pz][:, 0]\n",
    "\n",
    "px, py, pz = get_ps(cmo)\n",
    "px3, py3, pz3 = get_ps(cmo3)\n",
    "pxrel, pyrel, pzrel = get_ps(cmorel)\n",
    "\n",
    "print (px, py, pz)\n",
    "#print px3, py3, pz3\n",
    "#print pxrel, pyrel, pzrel"
   ]
  },
  {
   "cell_type": "code",
   "execution_count": 92,
   "metadata": {
    "collapsed": false
   },
   "outputs": [],
   "source": [
    "cmo0 = cmo.unblock()\n",
    "cmo03 = cmo3.unblock()\n",
    "cmo0rel = cmorel.unblock()"
   ]
  },
  {
   "cell_type": "markdown",
   "metadata": {},
   "source": [
    "For unblocked mos the p-orbitals in this case have indices 9, 15, 23 (0-based index), for calculation without symmetry\n",
    " 2, 3, 4"
   ]
  },
  {
   "cell_type": "code",
   "execution_count": 93,
   "metadata": {
    "collapsed": false
   },
   "outputs": [],
   "source": [
    "x, y, z = 9, 15, 23\n",
    "p = cmo0[:, (x, y, z)]\n",
    "p3 = cmo03[:, (x, y, z)]\n",
    "prel = cmo0rel[:, (x, y, z)]\n"
   ]
  },
  {
   "cell_type": "code",
   "execution_count": 94,
   "metadata": {
    "collapsed": false
   },
   "outputs": [
    {
     "name": "stdout",
     "output_type": "stream",
     "text": [
      "\n",
      " (34, 3) \n",
      "              Column   1    Column   2    Column   3\n",
      "      10      1.00179538    0.00000000    0.00000000\n",
      "      11      0.00115419    0.00000000    0.00000000\n",
      "      12     -0.00341405    0.00000000    0.00000000\n",
      "      13     -0.00112856    0.00000000    0.00000000\n",
      "      14      0.00032629    0.00000000    0.00000000\n",
      "      16      0.00000000    1.00179538    0.00000000\n",
      "      17      0.00000000    0.00115419    0.00000000\n",
      "      18      0.00000000   -0.00341405    0.00000000\n",
      "      19      0.00000000   -0.00112856    0.00000000\n",
      "      21      0.00000000    0.00032629    0.00000000\n",
      "      24      0.00000000    0.00000000    0.99656939\n",
      "      25      0.00000000    0.00000000   -0.00477253\n",
      "      26      0.00000000    0.00000000    0.00649723\n",
      "      27      0.00000000    0.00000000    0.00218673\n",
      "      28      0.00000000    0.00000000    0.00041297\n",
      "\n"
     ]
    }
   ],
   "source": [
    "#print p, p3, prel\n",
    "print(p)"
   ]
  },
  {
   "cell_type": "markdown",
   "metadata": {},
   "source": [
    "For calculation without symmetry "
   ]
  },
  {
   "cell_type": "code",
   "execution_count": 95,
   "metadata": {
    "collapsed": false
   },
   "outputs": [],
   "source": [
    "p_nosym = cmo_nosym[:, (2, 3, 4)]"
   ]
  },
  {
   "cell_type": "code",
   "execution_count": 96,
   "metadata": {
    "collapsed": false
   },
   "outputs": [
    {
     "name": "stdout",
     "output_type": "stream",
     "text": [
      "\n",
      " (34, 3) \n",
      "              Column   1    Column   2    Column   3\n",
      "       6      0.99656944    0.00001489   -0.00000000\n",
      "       7     -0.00001481    1.00179538   -0.00000029\n",
      "       8      0.00000002    0.00000029    1.00179538\n",
      "       9     -0.00477242    0.00000003    0.00000000\n",
      "      10      0.00000006    0.00115419   -0.00000003\n",
      "      11      0.00000003    0.00000003    0.00115419\n",
      "      12      0.00649715   -0.00000007   -0.00000000\n",
      "      13     -0.00000007   -0.00341406    0.00000003\n",
      "      14     -0.00000003   -0.00000004   -0.00341406\n",
      "      15      0.00218667   -0.00000000    0.00000000\n",
      "      16     -0.00000003   -0.00112856    0.00000004\n",
      "      17     -0.00000002   -0.00000004   -0.00112856\n",
      "      28     -0.00000001    0.00031593   -0.00000001\n",
      "      30      0.00000000   -0.00008157    0.00000000\n",
      "      31     -0.00000001   -0.00000001   -0.00019981\n",
      "      32     -0.00025289   -0.00000000   -0.00000000\n",
      "      33      0.00000001   -0.00000000    0.00025796\n",
      "      34      0.00032648    0.00000001   -0.00000000\n",
      "\n"
     ]
    }
   ],
   "source": [
    "print (p_nosym)"
   ]
  },
  {
   "cell_type": "code",
   "execution_count": 97,
   "metadata": {
    "collapsed": false
   },
   "outputs": [],
   "source": [
    "from scipy.constants import alpha\n",
    "prefactor = alpha**2/2\n",
    "ls = [prefactor*p.T*M*p for M in angmom]\n",
    "ls3 = [prefactor*p3.T*M*p3 for M in angmom]\n",
    "lsrel = [prefactor*prel.T*M*prel for M in angmom]\n",
    "lsnosym = [prefactor*p_nosym.T*M*p_nosym for M in angmom_nosym]\n"
   ]
  },
  {
   "cell_type": "code",
   "execution_count": 98,
   "metadata": {
    "collapsed": false
   },
   "outputs": [],
   "source": [
    "#print ls[0], lsnosym[0]"
   ]
  },
  {
   "cell_type": "code",
   "execution_count": 99,
   "metadata": {
    "collapsed": false
   },
   "outputs": [],
   "source": [
    "#print ls[1], lsnosym[1]"
   ]
  },
  {
   "cell_type": "code",
   "execution_count": 100,
   "metadata": {
    "collapsed": false
   },
   "outputs": [],
   "source": [
    "#print ls[2], lsnosym[2]"
   ]
  },
  {
   "cell_type": "markdown",
   "metadata": {},
   "source": [
    "Form complex matrices"
   ]
  },
  {
   "cell_type": "code",
   "execution_count": 101,
   "metadata": {
    "collapsed": false
   },
   "outputs": [],
   "source": [
    "V = numpy.zeros((6, 6), dtype='complex', order='F')\n",
    "V3 = numpy.zeros((6, 6), dtype='complex', order='F')\n",
    "Vrel = numpy.zeros((6, 6), dtype='complex', order='F')\n"
   ]
  },
  {
   "cell_type": "markdown",
   "metadata": {},
   "source": [
    "Here we set up the spin-orbit matrix over the p-hole states in $\\alpha-\\beta subblocks$\n",
    "\n",
    "$ V_{ij} = \\begin{pmatrix} \n",
    "\\langle a^\\dagger_{i\\alpha} V a_{j\\alpha}\\rangle & \\langle a^\\dagger_{i\\alpha} V a_{j\\beta}\\rangle \\\\\n",
    "\\langle a^\\dagger_{i\\beta} V a_{j\\alpha}\\rangle & \\langle a^\\dagger_{i\\beta} V a_{j\\beta}\\rangle \\\\\n",
    "\\end{pmatrix}\n",
    "$\n",
    "\n",
    " "
   ]
  },
  {
   "cell_type": "code",
   "execution_count": 102,
   "metadata": {
    "collapsed": false
   },
   "outputs": [],
   "source": [
    "def makeV(ls):\n",
    "    V = numpy.zeros((6, 6), dtype='complex', order='F')\n",
    "    V[:3, :3] = -ls[2]\n",
    "    V[3:, 3:] = ls[2]\n",
    "    V[:3, 3:] = ls[0] + 1j*ls[1]\n",
    "    V[3:, :3] = ls[0] - 1j*ls[1]\n",
    "    V *= 1j/2\n",
    "    return V\n",
    "\n",
    "\n",
    "V = makeV(ls)\n",
    "V3 = makeV(ls3)\n",
    "Vrel = makeV(lsrel)\n",
    "Vnosym = makeV(lsnosym)"
   ]
  },
  {
   "cell_type": "code",
   "execution_count": 103,
   "metadata": {
    "collapsed": false
   },
   "outputs": [
    {
     "name": "stdout",
     "output_type": "stream",
     "text": [
      "\n",
      " (3, 3) \n",
      "              Column   1    Column   2    Column   3\n",
      "       1      0.00000000   -0.00000000   -0.00000050\n",
      "       2      0.00000000   -0.00000000    0.03396038\n",
      "       3      0.00000050   -0.03396038   -0.00000000\n",
      " \n",
      " (3, 3) \n",
      "              Column   1    Column   2    Column   3\n",
      "       1      0.00000000   -0.00000001   -0.03385742\n",
      "       2      0.00000001    0.00000000   -0.00000050\n",
      "       3      0.03385742    0.00000050   -0.00000000\n",
      " \n",
      " (3, 3) \n",
      "              Column   1    Column   2    Column   3\n",
      "       1     -0.00000000    0.03385742   -0.00000001\n",
      "       2     -0.03385742    0.00000000    0.00000000\n",
      "\n"
     ]
    }
   ],
   "source": [
    "print(lsnosym[0], lsnosym[1], lsnosym[2])"
   ]
  },
  {
   "cell_type": "code",
   "execution_count": 104,
   "metadata": {
    "collapsed": false
   },
   "outputs": [
    {
     "name": "stdout",
     "output_type": "stream",
     "text": [
      "0.0338574173686\n",
      "-0.0338574173686\n"
     ]
    }
   ],
   "source": [
    "print(lsnosym[2][0, 1])\n",
    "print(lsnosym[2][1, 0])"
   ]
  },
  {
   "cell_type": "code",
   "execution_count": 108,
   "metadata": {
    "collapsed": false
   },
   "outputs": [
    {
     "name": "stdout",
     "output_type": "stream",
     "text": [
      "[[ 0. +5.72293577e-23j -0. -1.69287087e-02j  0. +4.68265781e-09j]\n",
      " [ 0. +1.69287087e-02j -0. -1.62820591e-23j -0. -2.49224593e-11j]\n",
      " [-0. -4.68265781e-09j  0. +2.49224593e-11j  0. +1.66035155e-33j]]\n"
     ]
    }
   ],
   "source": [
    "print(Vnosym[:3, :3])"
   ]
  },
  {
   "cell_type": "code",
   "execution_count": 31,
   "metadata": {
    "collapsed": false
   },
   "outputs": [],
   "source": [
    "eigvals =  numpy.linalg.eigvals(V)\n",
    "eigvals3 =  numpy.linalg.eigvals(V3)\n",
    "eigvalsrel =  numpy.linalg.eigvals(Vrel)\n",
    "eigvalsnosym = numpy.linalg.eigvals(Vnosym)"
   ]
  },
  {
   "cell_type": "code",
   "execution_count": 32,
   "metadata": {
    "collapsed": false
   },
   "outputs": [
    {
     "name": "stdout",
     "output_type": "stream",
     "text": [
      "[ 0.03389175  0.03389175 -0.01698019 -0.01691156 -0.01691156 -0.01698019]\n",
      "[ 0.03388538 -0.01692596 -0.01695942  0.03388538 -0.01692596 -0.01695942]\n",
      "[ 0.03527365  0.03527365 -0.01762048 -0.01765318 -0.01765318 -0.01762048]\n",
      "[ 0.03389175 -0.01691156 -0.01698019  0.03389175 -0.01691156 -0.01698019]\n"
     ]
    }
   ],
   "source": [
    "print (eigvals.real)\n",
    "print (eigvals3.real)\n",
    "print (eigvalsrel.real)\n",
    "print (eigvalsnosym.real)"
   ]
  },
  {
   "cell_type": "code",
   "execution_count": 33,
   "metadata": {
    "collapsed": false
   },
   "outputs": [],
   "source": [
    "eV = 27.211396132"
   ]
  },
  {
   "cell_type": "code",
   "execution_count": 35,
   "metadata": {
    "collapsed": false
   },
   "outputs": [
    {
     "name": "stdout",
     "output_type": "stream",
     "text": [
      "1.38336267885 eV\n"
     ]
    }
   ],
   "source": [
    "split = abs(eigvals[0] - .5*(eigvals[-1]+eigvals[-2]))\n",
    "print (split*eV, 'eV')"
   ]
  },
  {
   "cell_type": "code",
   "execution_count": 36,
   "metadata": {
    "collapsed": false
   },
   "outputs": [
    {
     "name": "stdout",
     "output_type": "stream",
     "text": [
      "1.38310259719 eV\n"
     ]
    }
   ],
   "source": [
    "split = abs(eigvals3[0] - .5*(eigvals3[-1]+eigvals3[-2]))\n",
    "print (split*eV, 'eV')"
   ]
  },
  {
   "cell_type": "code",
   "execution_count": 37,
   "metadata": {
    "collapsed": false
   },
   "outputs": [
    {
     "name": "stdout",
     "output_type": "stream",
     "text": [
      "1.43932311842 eV\n"
     ]
    }
   ],
   "source": [
    "split = abs(eigvalsrel[0] - .5*(eigvalsrel[-1]+eigvalsrel[2]))\n",
    "print (split*eV, 'eV')"
   ]
  },
  {
   "cell_type": "markdown",
   "metadata": {},
   "source": [
    "**Two-electron**"
   ]
  },
  {
   "cell_type": "code",
   "execution_count": 38,
   "metadata": {
    "collapsed": false
   },
   "outputs": [],
   "source": [
    "from two.twoso import fockab"
   ]
  },
  {
   "cell_type": "markdown",
   "metadata": {},
   "source": [
    "The fock routine takes alpha- and beta densities"
   ]
  },
  {
   "cell_type": "code",
   "execution_count": 39,
   "metadata": {
    "collapsed": false
   },
   "outputs": [],
   "source": [
    "#print cmo"
   ]
  },
  {
   "cell_type": "code",
   "execution_count": 40,
   "metadata": {
    "collapsed": true
   },
   "outputs": [],
   "source": [
    "nocc_alpha = [3, 2, 2, 0, 1, 0, 0, 0]\n",
    "nocc_beta  = [3, 2, 2, 0, 1, 0, 0, 0]\n",
    "cmoa = [ c[:, :na] for c, na in zip(cmo, nocc_alpha) ]"
   ]
  },
  {
   "cell_type": "code",
   "execution_count": 41,
   "metadata": {
    "collapsed": true
   },
   "outputs": [],
   "source": [
    "#for ca in cmoa:\n",
    "#    print ca"
   ]
  },
  {
   "cell_type": "code",
   "execution_count": 42,
   "metadata": {
    "collapsed": false
   },
   "outputs": [],
   "source": [
    "from daltools import dens #is there a blocked form?\n"
   ]
  },
  {
   "cell_type": "markdown",
   "metadata": {},
   "source": [
    "Is there a blocked range selector for occupied orbitals?"
   ]
  },
  {
   "cell_type": "code",
   "execution_count": 43,
   "metadata": {
    "collapsed": false
   },
   "outputs": [],
   "source": [
    "cmo_occ_alpha = cmo.get_columns(nocc_alpha)\n",
    "cmo_occ_beta = cmo.get_columns(nocc_beta)"
   ]
  },
  {
   "cell_type": "code",
   "execution_count": 44,
   "metadata": {
    "collapsed": false
   },
   "outputs": [],
   "source": [
    "Da = (cmo_occ_alpha*cmo_occ_alpha.T()).unblock()\n",
    "Db = (cmo_occ_alpha*cmo_occ_alpha.T()).unblock()"
   ]
  },
  {
   "cell_type": "markdown",
   "metadata": {},
   "source": [
    "Verify"
   ]
  },
  {
   "cell_type": "code",
   "execution_count": 45,
   "metadata": {
    "collapsed": false
   },
   "outputs": [],
   "source": [
    "from daltools import one\n"
   ]
  },
  {
   "cell_type": "code",
   "execution_count": 46,
   "metadata": {
    "collapsed": false
   },
   "outputs": [],
   "source": [
    "Sbl = one.read(filename=filepath('hf_S.AOONEINT')).unpack()\n",
    "S = Sbl.unblock()\n",
    "#print Sbl"
   ]
  },
  {
   "cell_type": "markdown",
   "metadata": {},
   "source": [
    "Should be 16"
   ]
  },
  {
   "cell_type": "code",
   "execution_count": 48,
   "metadata": {
    "collapsed": false
   },
   "outputs": [
    {
     "name": "stdout",
     "output_type": "stream",
     "text": [
      "16.0\n"
     ]
    }
   ],
   "source": [
    "print ((Da&S) + (Db&S))"
   ]
  },
  {
   "cell_type": "code",
   "execution_count": 49,
   "metadata": {
    "collapsed": false
   },
   "outputs": [],
   "source": [
    "fa, fb = fockab(Da, Db, 'x', filename=ao2soint)"
   ]
  },
  {
   "cell_type": "code",
   "execution_count": 50,
   "metadata": {
    "collapsed": true
   },
   "outputs": [],
   "source": [
    "#print fa - fb"
   ]
  },
  {
   "cell_type": "markdown",
   "metadata": {},
   "source": [
    "This convention illustrates that singlet combination is zero. The fa and fb matrix should be seen as single-contraction of twoso."
   ]
  },
  {
   "cell_type": "code",
   "execution_count": 51,
   "metadata": {
    "collapsed": false
   },
   "outputs": [],
   "source": [
    "fabs =  [fockab(Da, Db, c, filename=ao2soint) for c in \"xyz\"]"
   ]
  },
  {
   "cell_type": "code",
   "execution_count": 52,
   "metadata": {
    "collapsed": false
   },
   "outputs": [],
   "source": [
    "ls2 = [0.5*(fa - fb) for fa, fb in fabs]\n",
    "pls2p = [prefactor*p.T*M*p for M in ls2]\n"
   ]
  },
  {
   "cell_type": "markdown",
   "metadata": {},
   "source": [
    "In principle these should be added as is to one-electron"
   ]
  },
  {
   "cell_type": "code",
   "execution_count": 53,
   "metadata": {
    "collapsed": false
   },
   "outputs": [],
   "source": [
    "oneso = ('X1SPNORB', 'Y1SPNORB', 'Z1SPNORB')\n",
    "ls1 = prop.read(*oneso, filename=aoproper)\n",
    "pls1p = [prefactor*p.T*M*p for M in ls1]\n"
   ]
  },
  {
   "cell_type": "code",
   "execution_count": 54,
   "metadata": {
    "collapsed": false
   },
   "outputs": [],
   "source": [
    "ls = [one + two for one, two in zip(ls1, ls2)]"
   ]
  },
  {
   "cell_type": "code",
   "execution_count": 56,
   "metadata": {
    "collapsed": false
   },
   "outputs": [
    {
     "name": "stdout",
     "output_type": "stream",
     "text": [
      "\n",
      " (3, 3) \n",
      "              Column   1    Column   2    Column   3\n",
      "       2      0.00000000    0.00000000    0.03385742\n",
      "       3      0.00000000   -0.03385742    0.00000000\n",
      "\n",
      "\n",
      " (3, 3) \n",
      "              Column   1    Column   2    Column   3\n",
      "       2      0.00000000    0.00000000   -0.00619585\n",
      "       3      0.00000000    0.00619585    0.00000000\n",
      "\n"
     ]
    }
   ],
   "source": [
    "print (pls1p[0])\n",
    "print (pls2p[0])"
   ]
  },
  {
   "cell_type": "code",
   "execution_count": 68,
   "metadata": {
    "collapsed": false
   },
   "outputs": [
    {
     "name": "stdout",
     "output_type": "stream",
     "text": [
      "\n",
      " (3, 3) \n",
      "              Column   1    Column   2    Column   3\n",
      "       1      0.00000000    0.03396038    0.00000000\n",
      "       2     -0.03396038    0.00000000    0.00000000\n",
      "\n"
     ]
    }
   ],
   "source": [
    "print (pls1p[2])"
   ]
  },
  {
   "cell_type": "code",
   "execution_count": 57,
   "metadata": {
    "collapsed": false
   },
   "outputs": [
    {
     "name": "stdout",
     "output_type": "stream",
     "text": [
      "(34, 34)\n"
     ]
    }
   ],
   "source": [
    "plsp = [prefactor*p.T*M*p for M in ls]\n",
    "print (ls[0].shape)\n"
   ]
  },
  {
   "cell_type": "code",
   "execution_count": 58,
   "metadata": {
    "collapsed": false
   },
   "outputs": [],
   "source": [
    "V1 = makeV(pls1p)\n",
    "V2 = makeV(pls2p)\n",
    "V = makeV(plsp)"
   ]
  },
  {
   "cell_type": "code",
   "execution_count": 59,
   "metadata": {
    "collapsed": false
   },
   "outputs": [
    {
     "name": "stdout",
     "output_type": "stream",
     "text": [
      "[-0.00000000+0.j         -0.00000000-0.01698019j -0.00000000+0.j\n",
      "  0.00000000+0.j          0.00000000+0.j          0.01692871+0.j        ]\n",
      "[-0.00000000+0.j          0.00000000+0.00308022j -0.00000000+0.j\n",
      "  0.00000000+0.j          0.00000000+0.j         -0.00309792+0.j        ]\n"
     ]
    }
   ],
   "source": [
    "print (V1[0])\n",
    "print (V2[0])"
   ]
  },
  {
   "cell_type": "code",
   "execution_count": 61,
   "metadata": {
    "collapsed": false
   },
   "outputs": [
    {
     "name": "stdout",
     "output_type": "stream",
     "text": [
      "[-0.01698019 -0.01698019 -0.01691156 -0.01691156  0.03389175  0.03389175]\n",
      "0.693081935658\n",
      "[-0.00618405 -0.00618405  0.00308022  0.00308022  0.00310383  0.00310383]\n",
      "0.252414969296\n",
      "[-0.01389997 -0.01389997 -0.01380775 -0.01380775  0.02770772  0.02770772]\n",
      "0.567356346372\n"
     ]
    }
   ],
   "source": [
    "for v in V1, V2, V:\n",
    "    eigvals = numpy.linalg.eigvals(v)\n",
    "    er = numpy.sort(eigvals.real)\n",
    "    print (er)\n",
    "    split = abs(.5*er[:2].sum() - .25*er[2:].sum())\n",
    "    print (split*eV)"
   ]
  },
  {
   "cell_type": "markdown",
   "metadata": {},
   "source": [
    "A function for these steps"
   ]
  },
  {
   "cell_type": "code",
   "execution_count": 62,
   "metadata": {
    "collapsed": false
   },
   "outputs": [],
   "source": [
    "def two_p_split(cmo, occa, occb):\n",
    "    occupied_alpha = cmo.get_columns(occa)\n",
    "    occupied_beta = cmo.get_columns(occb)\n",
    "    \n",
    "    Da = (occupied_alpha*occupied_alpha.T()).unblock()\n",
    "    Db = (occupied_beta*occupied_alpha.T()).unblock()\n",
    "    \n",
    "    ls1 = prop.read(*oneso, filename=aoproper)\n",
    "    ls2 = [0.5*(fa - fb) for fa, fb in [fockab(Da, Db, c, filename=ao2soint) for c in \"xyz\"]]\n",
    "    \n",
    "    ls = [one + two for one, two in zip(ls1, ls2)]\n",
    "    \n",
    "    plsp = [prefactor*p.T*ls_component*p for ls_component in ls]\n",
    "    \n",
    "    V = makeV(plsp)\n",
    "    \n",
    "    eigvals = numpy.linalg.eigvals(V)\n",
    "    er = numpy.sort(eigvals.real)\n",
    "    \n",
    "    print (er)\n",
    "    split = abs(.5*er[:2].sum() - .25*er[2:].sum())\n",
    "    \n",
    "    return split*eV\n",
    "\n",
    "    "
   ]
  },
  {
   "cell_type": "code",
   "execution_count": 63,
   "metadata": {
    "collapsed": false
   },
   "outputs": [
    {
     "name": "stdout",
     "output_type": "stream",
     "text": [
      "[-0.01389997 -0.01389997 -0.01380775 -0.01380775  0.02770772  0.02770772]\n"
     ]
    },
    {
     "data": {
      "text/plain": [
       "0.56735634637152799"
      ]
     },
     "execution_count": 63,
     "metadata": {},
     "output_type": "execute_result"
    }
   ],
   "source": [
    "two_p_split(cmo, nocc_alpha, nocc_beta)"
   ]
  },
  {
   "cell_type": "code",
   "execution_count": 64,
   "metadata": {
    "collapsed": false
   },
   "outputs": [
    {
     "name": "stdout",
     "output_type": "stream",
     "text": [
      "[-0.01387572 -0.01387572 -0.01377816 -0.01377816  0.02765388  0.02765388]\n"
     ]
    },
    {
     "data": {
      "text/plain": [
       "0.56636667397647622"
      ]
     },
     "execution_count": 64,
     "metadata": {},
     "output_type": "execute_result"
    }
   ],
   "source": [
    "two_p_split(cmorel, nocc_alpha, nocc_beta)"
   ]
  },
  {
   "cell_type": "code",
   "execution_count": 65,
   "metadata": {
    "collapsed": false
   },
   "outputs": [
    {
     "data": {
      "text/plain": [
       "0.0019467748040109952"
      ]
     },
     "execution_count": 65,
     "metadata": {},
     "output_type": "execute_result"
    }
   ],
   "source": [
    "(1.1309485892685953-1.1287511649406907)/1.1287511649406907\n"
   ]
  },
  {
   "cell_type": "code",
   "execution_count": null,
   "metadata": {
    "collapsed": false
   },
   "outputs": [],
   "source": []
  }
 ],
 "metadata": {
  "kernelspec": {
   "display_name": "Python 3",
   "language": "python",
   "name": "python3"
  },
  "language_info": {
   "codemirror_mode": {
    "name": "ipython",
    "version": 3
   },
   "file_extension": ".py",
   "mimetype": "text/x-python",
   "name": "python",
   "nbconvert_exporter": "python",
   "pygments_lexer": "ipython3",
   "version": "3.5.2"
  }
 },
 "nbformat": 4,
 "nbformat_minor": 0
}
